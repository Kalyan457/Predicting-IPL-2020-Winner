{
 "cells": [
  {
   "cell_type": "code",
   "execution_count": 1,
   "metadata": {},
   "outputs": [],
   "source": [
    "import pandas as pd\n",
    "import numpy as np\n",
    "from sklearn import preprocessing\n",
    "from sklearn.linear_model import SGDRegressor\n",
    "from sklearn.metrics import mean_squared_error\n",
    "from sklearn.neighbors import KNeighborsRegressor\n",
    "from collections import Counter \n",
    "import itertools\n",
    "import statistics\n",
    "from prettytable import PrettyTable\n",
    "import matplotlib.pyplot as plt\n",
    "import math\n",
    "from sklearn.model_selection import train_test_split\n",
    "import scipy.stats as st"
   ]
  },
  {
   "cell_type": "markdown",
   "metadata": {},
   "source": [
    "### Exploratory Data Analysis"
   ]
  },
  {
   "cell_type": "markdown",
   "metadata": {},
   "source": [
    "## Batting Data"
   ]
  },
  {
   "cell_type": "code",
   "execution_count": 2,
   "metadata": {},
   "outputs": [
    {
     "data": {
      "text/plain": [
       "(117, 11)"
      ]
     },
     "execution_count": 2,
     "metadata": {},
     "output_type": "execute_result"
    }
   ],
   "source": [
    "Batsmen_data=pd.read_csv(\"Batsmen_Data.csv\")\n",
    "Batsmen_data.shape"
   ]
  },
  {
   "cell_type": "markdown",
   "metadata": {},
   "source": [
    "### Drop the Matches_Bat feature as it is not an important feature"
   ]
  },
  {
   "cell_type": "code",
   "execution_count": 3,
   "metadata": {},
   "outputs": [
    {
     "data": {
      "text/html": [
       "<div>\n",
       "<style scoped>\n",
       "    .dataframe tbody tr th:only-of-type {\n",
       "        vertical-align: middle;\n",
       "    }\n",
       "\n",
       "    .dataframe tbody tr th {\n",
       "        vertical-align: top;\n",
       "    }\n",
       "\n",
       "    .dataframe thead th {\n",
       "        text-align: right;\n",
       "    }\n",
       "</style>\n",
       "<table border=\"1\" class=\"dataframe\">\n",
       "  <thead>\n",
       "    <tr style=\"text-align: right;\">\n",
       "      <th></th>\n",
       "      <th>Batsmen_Rating</th>\n",
       "      <th>Innings_Bat</th>\n",
       "      <th>Runs_Scored_Bat</th>\n",
       "      <th>Batting_Average_Bat</th>\n",
       "      <th>Batting_Strike_Rate_Bat</th>\n",
       "      <th>Centuries_Bat</th>\n",
       "      <th>Double_Centuries_Bat</th>\n",
       "      <th>Fifties_Bat</th>\n",
       "      <th>Fours_Bat</th>\n",
       "      <th>Sixes_Bat</th>\n",
       "    </tr>\n",
       "  </thead>\n",
       "  <tbody>\n",
       "    <tr>\n",
       "      <th>0</th>\n",
       "      <td>879</td>\n",
       "      <td>38</td>\n",
       "      <td>1471</td>\n",
       "      <td>50.72</td>\n",
       "      <td>128.14</td>\n",
       "      <td>0</td>\n",
       "      <td>0</td>\n",
       "      <td>13</td>\n",
       "      <td>146</td>\n",
       "      <td>21</td>\n",
       "    </tr>\n",
       "    <tr>\n",
       "      <th>1</th>\n",
       "      <td>435</td>\n",
       "      <td>2</td>\n",
       "      <td>21</td>\n",
       "      <td>10.50</td>\n",
       "      <td>84.00</td>\n",
       "      <td>0</td>\n",
       "      <td>0</td>\n",
       "      <td>0</td>\n",
       "      <td>2</td>\n",
       "      <td>0</td>\n",
       "    </tr>\n",
       "    <tr>\n",
       "      <th>2</th>\n",
       "      <td>470</td>\n",
       "      <td>2</td>\n",
       "      <td>18</td>\n",
       "      <td>9.00</td>\n",
       "      <td>105.88</td>\n",
       "      <td>0</td>\n",
       "      <td>0</td>\n",
       "      <td>0</td>\n",
       "      <td>1</td>\n",
       "      <td>1</td>\n",
       "    </tr>\n",
       "    <tr>\n",
       "      <th>3</th>\n",
       "      <td>280</td>\n",
       "      <td>11</td>\n",
       "      <td>238</td>\n",
       "      <td>21.64</td>\n",
       "      <td>136.00</td>\n",
       "      <td>0</td>\n",
       "      <td>0</td>\n",
       "      <td>2</td>\n",
       "      <td>24</td>\n",
       "      <td>10</td>\n",
       "    </tr>\n",
       "    <tr>\n",
       "      <th>4</th>\n",
       "      <td>584</td>\n",
       "      <td>58</td>\n",
       "      <td>1665</td>\n",
       "      <td>32.65</td>\n",
       "      <td>125.00</td>\n",
       "      <td>0</td>\n",
       "      <td>0</td>\n",
       "      <td>11</td>\n",
       "      <td>170</td>\n",
       "      <td>36</td>\n",
       "    </tr>\n",
       "  </tbody>\n",
       "</table>\n",
       "</div>"
      ],
      "text/plain": [
       "   Batsmen_Rating  Innings_Bat  Runs_Scored_Bat  Batting_Average_Bat  \\\n",
       "0             879           38             1471                50.72   \n",
       "1             435            2               21                10.50   \n",
       "2             470            2               18                 9.00   \n",
       "3             280           11              238                21.64   \n",
       "4             584           58             1665                32.65   \n",
       "\n",
       "   Batting_Strike_Rate_Bat  Centuries_Bat  Double_Centuries_Bat  Fifties_Bat  \\\n",
       "0                   128.14              0                     0           13   \n",
       "1                    84.00              0                     0            0   \n",
       "2                   105.88              0                     0            0   \n",
       "3                   136.00              0                     0            2   \n",
       "4                   125.00              0                     0           11   \n",
       "\n",
       "   Fours_Bat  Sixes_Bat  \n",
       "0        146         21  \n",
       "1          2          0  \n",
       "2          1          1  \n",
       "3         24         10  \n",
       "4        170         36  "
      ]
     },
     "execution_count": 3,
     "metadata": {},
     "output_type": "execute_result"
    }
   ],
   "source": [
    "Batsmen_data.drop(['Matches_Bat'],axis=1,inplace=True)\n",
    "Batsmen_data.head()"
   ]
  },
  {
   "cell_type": "markdown",
   "metadata": {},
   "source": [
    "### Get the unique values of Double_Centuries_Bat"
   ]
  },
  {
   "cell_type": "code",
   "execution_count": 4,
   "metadata": {},
   "outputs": [
    {
     "data": {
      "text/plain": [
       "array([0], dtype=int64)"
      ]
     },
     "execution_count": 4,
     "metadata": {},
     "output_type": "execute_result"
    }
   ],
   "source": [
    "Batsmen_data['Double_Centuries_Bat'].unique()"
   ]
  },
  {
   "cell_type": "markdown",
   "metadata": {},
   "source": [
    "### We have only 0 values in Double Centuries column. So, it is not a valid feature. We can drop this feature"
   ]
  },
  {
   "cell_type": "code",
   "execution_count": 5,
   "metadata": {},
   "outputs": [
    {
     "data": {
      "text/html": [
       "<div>\n",
       "<style scoped>\n",
       "    .dataframe tbody tr th:only-of-type {\n",
       "        vertical-align: middle;\n",
       "    }\n",
       "\n",
       "    .dataframe tbody tr th {\n",
       "        vertical-align: top;\n",
       "    }\n",
       "\n",
       "    .dataframe thead th {\n",
       "        text-align: right;\n",
       "    }\n",
       "</style>\n",
       "<table border=\"1\" class=\"dataframe\">\n",
       "  <thead>\n",
       "    <tr style=\"text-align: right;\">\n",
       "      <th></th>\n",
       "      <th>Batsmen_Rating</th>\n",
       "      <th>Innings_Bat</th>\n",
       "      <th>Runs_Scored_Bat</th>\n",
       "      <th>Batting_Average_Bat</th>\n",
       "      <th>Batting_Strike_Rate_Bat</th>\n",
       "      <th>Centuries_Bat</th>\n",
       "      <th>Fifties_Bat</th>\n",
       "      <th>Fours_Bat</th>\n",
       "      <th>Sixes_Bat</th>\n",
       "    </tr>\n",
       "  </thead>\n",
       "  <tbody>\n",
       "    <tr>\n",
       "      <th>0</th>\n",
       "      <td>879</td>\n",
       "      <td>38</td>\n",
       "      <td>1471</td>\n",
       "      <td>50.72</td>\n",
       "      <td>128.14</td>\n",
       "      <td>0</td>\n",
       "      <td>13</td>\n",
       "      <td>146</td>\n",
       "      <td>21</td>\n",
       "    </tr>\n",
       "    <tr>\n",
       "      <th>1</th>\n",
       "      <td>435</td>\n",
       "      <td>2</td>\n",
       "      <td>21</td>\n",
       "      <td>10.50</td>\n",
       "      <td>84.00</td>\n",
       "      <td>0</td>\n",
       "      <td>0</td>\n",
       "      <td>2</td>\n",
       "      <td>0</td>\n",
       "    </tr>\n",
       "    <tr>\n",
       "      <th>2</th>\n",
       "      <td>470</td>\n",
       "      <td>2</td>\n",
       "      <td>18</td>\n",
       "      <td>9.00</td>\n",
       "      <td>105.88</td>\n",
       "      <td>0</td>\n",
       "      <td>0</td>\n",
       "      <td>1</td>\n",
       "      <td>1</td>\n",
       "    </tr>\n",
       "    <tr>\n",
       "      <th>3</th>\n",
       "      <td>280</td>\n",
       "      <td>11</td>\n",
       "      <td>238</td>\n",
       "      <td>21.64</td>\n",
       "      <td>136.00</td>\n",
       "      <td>0</td>\n",
       "      <td>2</td>\n",
       "      <td>24</td>\n",
       "      <td>10</td>\n",
       "    </tr>\n",
       "    <tr>\n",
       "      <th>4</th>\n",
       "      <td>584</td>\n",
       "      <td>58</td>\n",
       "      <td>1665</td>\n",
       "      <td>32.65</td>\n",
       "      <td>125.00</td>\n",
       "      <td>0</td>\n",
       "      <td>11</td>\n",
       "      <td>170</td>\n",
       "      <td>36</td>\n",
       "    </tr>\n",
       "  </tbody>\n",
       "</table>\n",
       "</div>"
      ],
      "text/plain": [
       "   Batsmen_Rating  Innings_Bat  Runs_Scored_Bat  Batting_Average_Bat  \\\n",
       "0             879           38             1471                50.72   \n",
       "1             435            2               21                10.50   \n",
       "2             470            2               18                 9.00   \n",
       "3             280           11              238                21.64   \n",
       "4             584           58             1665                32.65   \n",
       "\n",
       "   Batting_Strike_Rate_Bat  Centuries_Bat  Fifties_Bat  Fours_Bat  Sixes_Bat  \n",
       "0                   128.14              0           13        146         21  \n",
       "1                    84.00              0            0          2          0  \n",
       "2                   105.88              0            0          1          1  \n",
       "3                   136.00              0            2         24         10  \n",
       "4                   125.00              0           11        170         36  "
      ]
     },
     "execution_count": 5,
     "metadata": {},
     "output_type": "execute_result"
    }
   ],
   "source": [
    "Batsmen_data.drop(['Double_Centuries_Bat'],axis=1,inplace=True)\n",
    "Batsmen_data.head()"
   ]
  },
  {
   "cell_type": "code",
   "execution_count": 6,
   "metadata": {},
   "outputs": [
    {
     "data": {
      "text/plain": [
       "0    98\n",
       "1    11\n",
       "2     5\n",
       "3     2\n",
       "4     1\n",
       "Name: Centuries_Bat, dtype: int64"
      ]
     },
     "execution_count": 6,
     "metadata": {},
     "output_type": "execute_result"
    }
   ],
   "source": [
    "Batsmen_data['Centuries_Bat'].value_counts()"
   ]
  },
  {
   "cell_type": "markdown",
   "metadata": {},
   "source": [
    "### We can see that almost 81% of the players didn't score a century. So we can drop this feature as it does not provide any value"
   ]
  },
  {
   "cell_type": "code",
   "execution_count": 7,
   "metadata": {},
   "outputs": [
    {
     "data": {
      "text/html": [
       "<div>\n",
       "<style scoped>\n",
       "    .dataframe tbody tr th:only-of-type {\n",
       "        vertical-align: middle;\n",
       "    }\n",
       "\n",
       "    .dataframe tbody tr th {\n",
       "        vertical-align: top;\n",
       "    }\n",
       "\n",
       "    .dataframe thead th {\n",
       "        text-align: right;\n",
       "    }\n",
       "</style>\n",
       "<table border=\"1\" class=\"dataframe\">\n",
       "  <thead>\n",
       "    <tr style=\"text-align: right;\">\n",
       "      <th></th>\n",
       "      <th>Batsmen_Rating</th>\n",
       "      <th>Innings_Bat</th>\n",
       "      <th>Runs_Scored_Bat</th>\n",
       "      <th>Batting_Average_Bat</th>\n",
       "      <th>Batting_Strike_Rate_Bat</th>\n",
       "      <th>Fifties_Bat</th>\n",
       "      <th>Fours_Bat</th>\n",
       "      <th>Sixes_Bat</th>\n",
       "    </tr>\n",
       "  </thead>\n",
       "  <tbody>\n",
       "    <tr>\n",
       "      <th>0</th>\n",
       "      <td>879</td>\n",
       "      <td>38</td>\n",
       "      <td>1471</td>\n",
       "      <td>50.72</td>\n",
       "      <td>128.14</td>\n",
       "      <td>13</td>\n",
       "      <td>146</td>\n",
       "      <td>21</td>\n",
       "    </tr>\n",
       "    <tr>\n",
       "      <th>1</th>\n",
       "      <td>435</td>\n",
       "      <td>2</td>\n",
       "      <td>21</td>\n",
       "      <td>10.50</td>\n",
       "      <td>84.00</td>\n",
       "      <td>0</td>\n",
       "      <td>2</td>\n",
       "      <td>0</td>\n",
       "    </tr>\n",
       "    <tr>\n",
       "      <th>2</th>\n",
       "      <td>470</td>\n",
       "      <td>2</td>\n",
       "      <td>18</td>\n",
       "      <td>9.00</td>\n",
       "      <td>105.88</td>\n",
       "      <td>0</td>\n",
       "      <td>1</td>\n",
       "      <td>1</td>\n",
       "    </tr>\n",
       "    <tr>\n",
       "      <th>3</th>\n",
       "      <td>280</td>\n",
       "      <td>11</td>\n",
       "      <td>238</td>\n",
       "      <td>21.64</td>\n",
       "      <td>136.00</td>\n",
       "      <td>2</td>\n",
       "      <td>24</td>\n",
       "      <td>10</td>\n",
       "    </tr>\n",
       "    <tr>\n",
       "      <th>4</th>\n",
       "      <td>584</td>\n",
       "      <td>58</td>\n",
       "      <td>1665</td>\n",
       "      <td>32.65</td>\n",
       "      <td>125.00</td>\n",
       "      <td>11</td>\n",
       "      <td>170</td>\n",
       "      <td>36</td>\n",
       "    </tr>\n",
       "    <tr>\n",
       "      <th>...</th>\n",
       "      <td>...</td>\n",
       "      <td>...</td>\n",
       "      <td>...</td>\n",
       "      <td>...</td>\n",
       "      <td>...</td>\n",
       "      <td>...</td>\n",
       "      <td>...</td>\n",
       "      <td>...</td>\n",
       "    </tr>\n",
       "    <tr>\n",
       "      <th>112</th>\n",
       "      <td>641</td>\n",
       "      <td>85</td>\n",
       "      <td>2536</td>\n",
       "      <td>32.51</td>\n",
       "      <td>134.61</td>\n",
       "      <td>15</td>\n",
       "      <td>226</td>\n",
       "      <td>119</td>\n",
       "    </tr>\n",
       "    <tr>\n",
       "      <th>113</th>\n",
       "      <td>687</td>\n",
       "      <td>86</td>\n",
       "      <td>2138</td>\n",
       "      <td>30.99</td>\n",
       "      <td>137.49</td>\n",
       "      <td>13</td>\n",
       "      <td>160</td>\n",
       "      <td>105</td>\n",
       "    </tr>\n",
       "    <tr>\n",
       "      <th>114</th>\n",
       "      <td>407</td>\n",
       "      <td>88</td>\n",
       "      <td>1992</td>\n",
       "      <td>25.22</td>\n",
       "      <td>116.63</td>\n",
       "      <td>11</td>\n",
       "      <td>208</td>\n",
       "      <td>52</td>\n",
       "    </tr>\n",
       "    <tr>\n",
       "      <th>115</th>\n",
       "      <td>509</td>\n",
       "      <td>89</td>\n",
       "      <td>1672</td>\n",
       "      <td>21.16</td>\n",
       "      <td>136.05</td>\n",
       "      <td>3</td>\n",
       "      <td>137</td>\n",
       "      <td>76</td>\n",
       "    </tr>\n",
       "    <tr>\n",
       "      <th>116</th>\n",
       "      <td>301</td>\n",
       "      <td>85</td>\n",
       "      <td>1617</td>\n",
       "      <td>37.60</td>\n",
       "      <td>126.13</td>\n",
       "      <td>2</td>\n",
       "      <td>116</td>\n",
       "      <td>52</td>\n",
       "    </tr>\n",
       "  </tbody>\n",
       "</table>\n",
       "<p>117 rows × 8 columns</p>\n",
       "</div>"
      ],
      "text/plain": [
       "     Batsmen_Rating  Innings_Bat  Runs_Scored_Bat  Batting_Average_Bat  \\\n",
       "0               879           38             1471                50.72   \n",
       "1               435            2               21                10.50   \n",
       "2               470            2               18                 9.00   \n",
       "3               280           11              238                21.64   \n",
       "4               584           58             1665                32.65   \n",
       "..              ...          ...              ...                  ...   \n",
       "112             641           85             2536                32.51   \n",
       "113             687           86             2138                30.99   \n",
       "114             407           88             1992                25.22   \n",
       "115             509           89             1672                21.16   \n",
       "116             301           85             1617                37.60   \n",
       "\n",
       "     Batting_Strike_Rate_Bat  Fifties_Bat  Fours_Bat  Sixes_Bat  \n",
       "0                     128.14           13        146         21  \n",
       "1                      84.00            0          2          0  \n",
       "2                     105.88            0          1          1  \n",
       "3                     136.00            2         24         10  \n",
       "4                     125.00           11        170         36  \n",
       "..                       ...          ...        ...        ...  \n",
       "112                   134.61           15        226        119  \n",
       "113                   137.49           13        160        105  \n",
       "114                   116.63           11        208         52  \n",
       "115                   136.05            3        137         76  \n",
       "116                   126.13            2        116         52  \n",
       "\n",
       "[117 rows x 8 columns]"
      ]
     },
     "execution_count": 7,
     "metadata": {},
     "output_type": "execute_result"
    }
   ],
   "source": [
    "Batsmen_data.drop(['Centuries_Bat'],axis=1,inplace=True)\n",
    "Batsmen_data"
   ]
  },
  {
   "cell_type": "code",
   "execution_count": 8,
   "metadata": {},
   "outputs": [
    {
     "data": {
      "text/html": [
       "<div>\n",
       "<style scoped>\n",
       "    .dataframe tbody tr th:only-of-type {\n",
       "        vertical-align: middle;\n",
       "    }\n",
       "\n",
       "    .dataframe tbody tr th {\n",
       "        vertical-align: top;\n",
       "    }\n",
       "\n",
       "    .dataframe thead th {\n",
       "        text-align: right;\n",
       "    }\n",
       "</style>\n",
       "<table border=\"1\" class=\"dataframe\">\n",
       "  <thead>\n",
       "    <tr style=\"text-align: right;\">\n",
       "      <th></th>\n",
       "      <th>Batsmen_Rating</th>\n",
       "      <th>Innings_Bat</th>\n",
       "      <th>Runs_Scored_Bat</th>\n",
       "      <th>Batting_Average_Bat</th>\n",
       "      <th>Batting_Strike_Rate_Bat</th>\n",
       "      <th>Fifties_Bat</th>\n",
       "      <th>Fours_Bat</th>\n",
       "      <th>Sixes_Bat</th>\n",
       "    </tr>\n",
       "  </thead>\n",
       "  <tbody>\n",
       "    <tr>\n",
       "      <th>0</th>\n",
       "      <td>879</td>\n",
       "      <td>38</td>\n",
       "      <td>1471</td>\n",
       "      <td>50.72</td>\n",
       "      <td>128.14</td>\n",
       "      <td>13</td>\n",
       "      <td>146</td>\n",
       "      <td>21</td>\n",
       "    </tr>\n",
       "    <tr>\n",
       "      <th>1</th>\n",
       "      <td>435</td>\n",
       "      <td>2</td>\n",
       "      <td>21</td>\n",
       "      <td>10.50</td>\n",
       "      <td>84.00</td>\n",
       "      <td>0</td>\n",
       "      <td>2</td>\n",
       "      <td>0</td>\n",
       "    </tr>\n",
       "    <tr>\n",
       "      <th>2</th>\n",
       "      <td>470</td>\n",
       "      <td>2</td>\n",
       "      <td>18</td>\n",
       "      <td>9.00</td>\n",
       "      <td>105.88</td>\n",
       "      <td>0</td>\n",
       "      <td>1</td>\n",
       "      <td>1</td>\n",
       "    </tr>\n",
       "    <tr>\n",
       "      <th>3</th>\n",
       "      <td>280</td>\n",
       "      <td>11</td>\n",
       "      <td>238</td>\n",
       "      <td>21.64</td>\n",
       "      <td>136.00</td>\n",
       "      <td>2</td>\n",
       "      <td>24</td>\n",
       "      <td>10</td>\n",
       "    </tr>\n",
       "    <tr>\n",
       "      <th>4</th>\n",
       "      <td>584</td>\n",
       "      <td>58</td>\n",
       "      <td>1665</td>\n",
       "      <td>32.65</td>\n",
       "      <td>125.00</td>\n",
       "      <td>11</td>\n",
       "      <td>170</td>\n",
       "      <td>36</td>\n",
       "    </tr>\n",
       "    <tr>\n",
       "      <th>...</th>\n",
       "      <td>...</td>\n",
       "      <td>...</td>\n",
       "      <td>...</td>\n",
       "      <td>...</td>\n",
       "      <td>...</td>\n",
       "      <td>...</td>\n",
       "      <td>...</td>\n",
       "      <td>...</td>\n",
       "    </tr>\n",
       "    <tr>\n",
       "      <th>112</th>\n",
       "      <td>641</td>\n",
       "      <td>85</td>\n",
       "      <td>2536</td>\n",
       "      <td>32.51</td>\n",
       "      <td>134.61</td>\n",
       "      <td>15</td>\n",
       "      <td>226</td>\n",
       "      <td>119</td>\n",
       "    </tr>\n",
       "    <tr>\n",
       "      <th>113</th>\n",
       "      <td>687</td>\n",
       "      <td>86</td>\n",
       "      <td>2138</td>\n",
       "      <td>30.99</td>\n",
       "      <td>137.49</td>\n",
       "      <td>13</td>\n",
       "      <td>160</td>\n",
       "      <td>105</td>\n",
       "    </tr>\n",
       "    <tr>\n",
       "      <th>114</th>\n",
       "      <td>407</td>\n",
       "      <td>88</td>\n",
       "      <td>1992</td>\n",
       "      <td>25.22</td>\n",
       "      <td>116.63</td>\n",
       "      <td>11</td>\n",
       "      <td>208</td>\n",
       "      <td>52</td>\n",
       "    </tr>\n",
       "    <tr>\n",
       "      <th>115</th>\n",
       "      <td>509</td>\n",
       "      <td>89</td>\n",
       "      <td>1672</td>\n",
       "      <td>21.16</td>\n",
       "      <td>136.05</td>\n",
       "      <td>3</td>\n",
       "      <td>137</td>\n",
       "      <td>76</td>\n",
       "    </tr>\n",
       "    <tr>\n",
       "      <th>116</th>\n",
       "      <td>301</td>\n",
       "      <td>85</td>\n",
       "      <td>1617</td>\n",
       "      <td>37.60</td>\n",
       "      <td>126.13</td>\n",
       "      <td>2</td>\n",
       "      <td>116</td>\n",
       "      <td>52</td>\n",
       "    </tr>\n",
       "  </tbody>\n",
       "</table>\n",
       "<p>117 rows × 8 columns</p>\n",
       "</div>"
      ],
      "text/plain": [
       "     Batsmen_Rating  Innings_Bat  Runs_Scored_Bat  Batting_Average_Bat  \\\n",
       "0               879           38             1471                50.72   \n",
       "1               435            2               21                10.50   \n",
       "2               470            2               18                 9.00   \n",
       "3               280           11              238                21.64   \n",
       "4               584           58             1665                32.65   \n",
       "..              ...          ...              ...                  ...   \n",
       "112             641           85             2536                32.51   \n",
       "113             687           86             2138                30.99   \n",
       "114             407           88             1992                25.22   \n",
       "115             509           89             1672                21.16   \n",
       "116             301           85             1617                37.60   \n",
       "\n",
       "     Batting_Strike_Rate_Bat  Fifties_Bat  Fours_Bat  Sixes_Bat  \n",
       "0                     128.14           13        146         21  \n",
       "1                      84.00            0          2          0  \n",
       "2                     105.88            0          1          1  \n",
       "3                     136.00            2         24         10  \n",
       "4                     125.00           11        170         36  \n",
       "..                       ...          ...        ...        ...  \n",
       "112                   134.61           15        226        119  \n",
       "113                   137.49           13        160        105  \n",
       "114                   116.63           11        208         52  \n",
       "115                   136.05            3        137         76  \n",
       "116                   126.13            2        116         52  \n",
       "\n",
       "[117 rows x 8 columns]"
      ]
     },
     "execution_count": 8,
     "metadata": {},
     "output_type": "execute_result"
    }
   ],
   "source": [
    "Batsmen_data"
   ]
  },
  {
   "cell_type": "markdown",
   "metadata": {},
   "source": [
    "## Bowling Data"
   ]
  },
  {
   "cell_type": "code",
   "execution_count": 9,
   "metadata": {},
   "outputs": [
    {
     "data": {
      "text/html": [
       "<div>\n",
       "<style scoped>\n",
       "    .dataframe tbody tr th:only-of-type {\n",
       "        vertical-align: middle;\n",
       "    }\n",
       "\n",
       "    .dataframe tbody tr th {\n",
       "        vertical-align: top;\n",
       "    }\n",
       "\n",
       "    .dataframe thead th {\n",
       "        text-align: right;\n",
       "    }\n",
       "</style>\n",
       "<table border=\"1\" class=\"dataframe\">\n",
       "  <thead>\n",
       "    <tr style=\"text-align: right;\">\n",
       "      <th></th>\n",
       "      <th>Bowler_Rating</th>\n",
       "      <th>Matches_Bowl</th>\n",
       "      <th>Innings_Bowl</th>\n",
       "      <th>Wickets_Bowl</th>\n",
       "      <th>Economy_Bowl</th>\n",
       "      <th>Bowling_Average_Bowl</th>\n",
       "      <th>Bowling_Strike_Rate_Bowl</th>\n",
       "      <th>FiveWickets_Bowl</th>\n",
       "      <th>TenWickets_Bowl</th>\n",
       "    </tr>\n",
       "  </thead>\n",
       "  <tbody>\n",
       "    <tr>\n",
       "      <th>0</th>\n",
       "      <td>736</td>\n",
       "      <td>48</td>\n",
       "      <td>48</td>\n",
       "      <td>89</td>\n",
       "      <td>6.14</td>\n",
       "      <td>12.63</td>\n",
       "      <td>12.34</td>\n",
       "      <td>2</td>\n",
       "      <td>0</td>\n",
       "    </tr>\n",
       "    <tr>\n",
       "      <th>1</th>\n",
       "      <td>730</td>\n",
       "      <td>19</td>\n",
       "      <td>19</td>\n",
       "      <td>25</td>\n",
       "      <td>6.15</td>\n",
       "      <td>17.72</td>\n",
       "      <td>17.28</td>\n",
       "      <td>0</td>\n",
       "      <td>0</td>\n",
       "    </tr>\n",
       "    <tr>\n",
       "      <th>2</th>\n",
       "      <td>713</td>\n",
       "      <td>30</td>\n",
       "      <td>29</td>\n",
       "      <td>33</td>\n",
       "      <td>6.13</td>\n",
       "      <td>19.03</td>\n",
       "      <td>18.64</td>\n",
       "      <td>0</td>\n",
       "      <td>0</td>\n",
       "    </tr>\n",
       "    <tr>\n",
       "      <th>3</th>\n",
       "      <td>712</td>\n",
       "      <td>24</td>\n",
       "      <td>24</td>\n",
       "      <td>25</td>\n",
       "      <td>6.73</td>\n",
       "      <td>21.28</td>\n",
       "      <td>18.96</td>\n",
       "      <td>1</td>\n",
       "      <td>0</td>\n",
       "    </tr>\n",
       "    <tr>\n",
       "      <th>4</th>\n",
       "      <td>681</td>\n",
       "      <td>22</td>\n",
       "      <td>22</td>\n",
       "      <td>17</td>\n",
       "      <td>7.45</td>\n",
       "      <td>35.06</td>\n",
       "      <td>28.24</td>\n",
       "      <td>0</td>\n",
       "      <td>0</td>\n",
       "    </tr>\n",
       "  </tbody>\n",
       "</table>\n",
       "</div>"
      ],
      "text/plain": [
       "   Bowler_Rating  Matches_Bowl  Innings_Bowl  Wickets_Bowl  Economy_Bowl  \\\n",
       "0            736            48            48            89          6.14   \n",
       "1            730            19            19            25          6.15   \n",
       "2            713            30            29            33          6.13   \n",
       "3            712            24            24            25          6.73   \n",
       "4            681            22            22            17          7.45   \n",
       "\n",
       "   Bowling_Average_Bowl  Bowling_Strike_Rate_Bowl  FiveWickets_Bowl  \\\n",
       "0                 12.63                     12.34                 2   \n",
       "1                 17.72                     17.28                 0   \n",
       "2                 19.03                     18.64                 0   \n",
       "3                 21.28                     18.96                 1   \n",
       "4                 35.06                     28.24                 0   \n",
       "\n",
       "   TenWickets_Bowl  \n",
       "0                0  \n",
       "1                0  \n",
       "2                0  \n",
       "3                0  \n",
       "4                0  "
      ]
     },
     "execution_count": 9,
     "metadata": {},
     "output_type": "execute_result"
    }
   ],
   "source": [
    "Bowler_data=pd.read_csv(\"Bowling_Data.csv\")\n",
    "Bowler_data.head()"
   ]
  },
  {
   "cell_type": "markdown",
   "metadata": {},
   "source": [
    "### Drop the Matches_Bowl feature as it is not an important feature"
   ]
  },
  {
   "cell_type": "code",
   "execution_count": 10,
   "metadata": {},
   "outputs": [
    {
     "data": {
      "text/html": [
       "<div>\n",
       "<style scoped>\n",
       "    .dataframe tbody tr th:only-of-type {\n",
       "        vertical-align: middle;\n",
       "    }\n",
       "\n",
       "    .dataframe tbody tr th {\n",
       "        vertical-align: top;\n",
       "    }\n",
       "\n",
       "    .dataframe thead th {\n",
       "        text-align: right;\n",
       "    }\n",
       "</style>\n",
       "<table border=\"1\" class=\"dataframe\">\n",
       "  <thead>\n",
       "    <tr style=\"text-align: right;\">\n",
       "      <th></th>\n",
       "      <th>Bowler_Rating</th>\n",
       "      <th>Innings_Bowl</th>\n",
       "      <th>Wickets_Bowl</th>\n",
       "      <th>Economy_Bowl</th>\n",
       "      <th>Bowling_Average_Bowl</th>\n",
       "      <th>Bowling_Strike_Rate_Bowl</th>\n",
       "      <th>FiveWickets_Bowl</th>\n",
       "      <th>TenWickets_Bowl</th>\n",
       "    </tr>\n",
       "  </thead>\n",
       "  <tbody>\n",
       "    <tr>\n",
       "      <th>0</th>\n",
       "      <td>736</td>\n",
       "      <td>48</td>\n",
       "      <td>89</td>\n",
       "      <td>6.14</td>\n",
       "      <td>12.63</td>\n",
       "      <td>12.34</td>\n",
       "      <td>2</td>\n",
       "      <td>0</td>\n",
       "    </tr>\n",
       "    <tr>\n",
       "      <th>1</th>\n",
       "      <td>730</td>\n",
       "      <td>19</td>\n",
       "      <td>25</td>\n",
       "      <td>6.15</td>\n",
       "      <td>17.72</td>\n",
       "      <td>17.28</td>\n",
       "      <td>0</td>\n",
       "      <td>0</td>\n",
       "    </tr>\n",
       "    <tr>\n",
       "      <th>2</th>\n",
       "      <td>713</td>\n",
       "      <td>29</td>\n",
       "      <td>33</td>\n",
       "      <td>6.13</td>\n",
       "      <td>19.03</td>\n",
       "      <td>18.64</td>\n",
       "      <td>0</td>\n",
       "      <td>0</td>\n",
       "    </tr>\n",
       "    <tr>\n",
       "      <th>3</th>\n",
       "      <td>712</td>\n",
       "      <td>24</td>\n",
       "      <td>25</td>\n",
       "      <td>6.73</td>\n",
       "      <td>21.28</td>\n",
       "      <td>18.96</td>\n",
       "      <td>1</td>\n",
       "      <td>0</td>\n",
       "    </tr>\n",
       "    <tr>\n",
       "      <th>4</th>\n",
       "      <td>681</td>\n",
       "      <td>22</td>\n",
       "      <td>17</td>\n",
       "      <td>7.45</td>\n",
       "      <td>35.06</td>\n",
       "      <td>28.24</td>\n",
       "      <td>0</td>\n",
       "      <td>0</td>\n",
       "    </tr>\n",
       "  </tbody>\n",
       "</table>\n",
       "</div>"
      ],
      "text/plain": [
       "   Bowler_Rating  Innings_Bowl  Wickets_Bowl  Economy_Bowl  \\\n",
       "0            736            48            89          6.14   \n",
       "1            730            19            25          6.15   \n",
       "2            713            29            33          6.13   \n",
       "3            712            24            25          6.73   \n",
       "4            681            22            17          7.45   \n",
       "\n",
       "   Bowling_Average_Bowl  Bowling_Strike_Rate_Bowl  FiveWickets_Bowl  \\\n",
       "0                 12.63                     12.34                 2   \n",
       "1                 17.72                     17.28                 0   \n",
       "2                 19.03                     18.64                 0   \n",
       "3                 21.28                     18.96                 1   \n",
       "4                 35.06                     28.24                 0   \n",
       "\n",
       "   TenWickets_Bowl  \n",
       "0                0  \n",
       "1                0  \n",
       "2                0  \n",
       "3                0  \n",
       "4                0  "
      ]
     },
     "execution_count": 10,
     "metadata": {},
     "output_type": "execute_result"
    }
   ],
   "source": [
    "Bowler_data.drop(['Matches_Bowl'],axis=1,inplace=True)\n",
    "Bowler_data.head()"
   ]
  },
  {
   "cell_type": "markdown",
   "metadata": {},
   "source": [
    "### Get the unique values of TenWickets_Bowl"
   ]
  },
  {
   "cell_type": "code",
   "execution_count": 11,
   "metadata": {},
   "outputs": [
    {
     "data": {
      "text/plain": [
       "array([0], dtype=int64)"
      ]
     },
     "execution_count": 11,
     "metadata": {},
     "output_type": "execute_result"
    }
   ],
   "source": [
    "Bowler_data['TenWickets_Bowl'].unique()"
   ]
  },
  {
   "cell_type": "markdown",
   "metadata": {},
   "source": [
    "### We have only 0's in TenWickets_Bowl. So, it is not a valid feature. We can drop this feature"
   ]
  },
  {
   "cell_type": "code",
   "execution_count": 12,
   "metadata": {},
   "outputs": [
    {
     "data": {
      "text/html": [
       "<div>\n",
       "<style scoped>\n",
       "    .dataframe tbody tr th:only-of-type {\n",
       "        vertical-align: middle;\n",
       "    }\n",
       "\n",
       "    .dataframe tbody tr th {\n",
       "        vertical-align: top;\n",
       "    }\n",
       "\n",
       "    .dataframe thead th {\n",
       "        text-align: right;\n",
       "    }\n",
       "</style>\n",
       "<table border=\"1\" class=\"dataframe\">\n",
       "  <thead>\n",
       "    <tr style=\"text-align: right;\">\n",
       "      <th></th>\n",
       "      <th>Bowler_Rating</th>\n",
       "      <th>Innings_Bowl</th>\n",
       "      <th>Wickets_Bowl</th>\n",
       "      <th>Economy_Bowl</th>\n",
       "      <th>Bowling_Average_Bowl</th>\n",
       "      <th>Bowling_Strike_Rate_Bowl</th>\n",
       "      <th>FiveWickets_Bowl</th>\n",
       "    </tr>\n",
       "  </thead>\n",
       "  <tbody>\n",
       "    <tr>\n",
       "      <th>0</th>\n",
       "      <td>736</td>\n",
       "      <td>48</td>\n",
       "      <td>89</td>\n",
       "      <td>6.14</td>\n",
       "      <td>12.63</td>\n",
       "      <td>12.34</td>\n",
       "      <td>2</td>\n",
       "    </tr>\n",
       "    <tr>\n",
       "      <th>1</th>\n",
       "      <td>730</td>\n",
       "      <td>19</td>\n",
       "      <td>25</td>\n",
       "      <td>6.15</td>\n",
       "      <td>17.72</td>\n",
       "      <td>17.28</td>\n",
       "      <td>0</td>\n",
       "    </tr>\n",
       "    <tr>\n",
       "      <th>2</th>\n",
       "      <td>713</td>\n",
       "      <td>29</td>\n",
       "      <td>33</td>\n",
       "      <td>6.13</td>\n",
       "      <td>19.03</td>\n",
       "      <td>18.64</td>\n",
       "      <td>0</td>\n",
       "    </tr>\n",
       "    <tr>\n",
       "      <th>3</th>\n",
       "      <td>712</td>\n",
       "      <td>24</td>\n",
       "      <td>25</td>\n",
       "      <td>6.73</td>\n",
       "      <td>21.28</td>\n",
       "      <td>18.96</td>\n",
       "      <td>1</td>\n",
       "    </tr>\n",
       "    <tr>\n",
       "      <th>4</th>\n",
       "      <td>681</td>\n",
       "      <td>22</td>\n",
       "      <td>17</td>\n",
       "      <td>7.45</td>\n",
       "      <td>35.06</td>\n",
       "      <td>28.24</td>\n",
       "      <td>0</td>\n",
       "    </tr>\n",
       "  </tbody>\n",
       "</table>\n",
       "</div>"
      ],
      "text/plain": [
       "   Bowler_Rating  Innings_Bowl  Wickets_Bowl  Economy_Bowl  \\\n",
       "0            736            48            89          6.14   \n",
       "1            730            19            25          6.15   \n",
       "2            713            29            33          6.13   \n",
       "3            712            24            25          6.73   \n",
       "4            681            22            17          7.45   \n",
       "\n",
       "   Bowling_Average_Bowl  Bowling_Strike_Rate_Bowl  FiveWickets_Bowl  \n",
       "0                 12.63                     12.34                 2  \n",
       "1                 17.72                     17.28                 0  \n",
       "2                 19.03                     18.64                 0  \n",
       "3                 21.28                     18.96                 1  \n",
       "4                 35.06                     28.24                 0  "
      ]
     },
     "execution_count": 12,
     "metadata": {},
     "output_type": "execute_result"
    }
   ],
   "source": [
    "Bowler_data.drop(['TenWickets_Bowl'],axis=1,inplace=True)\n",
    "Bowler_data.head()"
   ]
  },
  {
   "cell_type": "code",
   "execution_count": 13,
   "metadata": {},
   "outputs": [
    {
     "data": {
      "text/plain": [
       "0    93\n",
       "1    13\n",
       "2     3\n",
       "Name: FiveWickets_Bowl, dtype: int64"
      ]
     },
     "execution_count": 13,
     "metadata": {},
     "output_type": "execute_result"
    }
   ],
   "source": [
    "Bowler_data['FiveWickets_Bowl'].value_counts()"
   ]
  },
  {
   "cell_type": "code",
   "execution_count": 14,
   "metadata": {},
   "outputs": [
    {
     "data": {
      "text/html": [
       "<div>\n",
       "<style scoped>\n",
       "    .dataframe tbody tr th:only-of-type {\n",
       "        vertical-align: middle;\n",
       "    }\n",
       "\n",
       "    .dataframe tbody tr th {\n",
       "        vertical-align: top;\n",
       "    }\n",
       "\n",
       "    .dataframe thead th {\n",
       "        text-align: right;\n",
       "    }\n",
       "</style>\n",
       "<table border=\"1\" class=\"dataframe\">\n",
       "  <thead>\n",
       "    <tr style=\"text-align: right;\">\n",
       "      <th></th>\n",
       "      <th>Bowler_Rating</th>\n",
       "      <th>Innings_Bowl</th>\n",
       "      <th>Wickets_Bowl</th>\n",
       "      <th>Economy_Bowl</th>\n",
       "      <th>Bowling_Average_Bowl</th>\n",
       "      <th>Bowling_Strike_Rate_Bowl</th>\n",
       "    </tr>\n",
       "  </thead>\n",
       "  <tbody>\n",
       "    <tr>\n",
       "      <th>0</th>\n",
       "      <td>736</td>\n",
       "      <td>48</td>\n",
       "      <td>89</td>\n",
       "      <td>6.14</td>\n",
       "      <td>12.63</td>\n",
       "      <td>12.34</td>\n",
       "    </tr>\n",
       "    <tr>\n",
       "      <th>1</th>\n",
       "      <td>730</td>\n",
       "      <td>19</td>\n",
       "      <td>25</td>\n",
       "      <td>6.15</td>\n",
       "      <td>17.72</td>\n",
       "      <td>17.28</td>\n",
       "    </tr>\n",
       "    <tr>\n",
       "      <th>2</th>\n",
       "      <td>713</td>\n",
       "      <td>29</td>\n",
       "      <td>33</td>\n",
       "      <td>6.13</td>\n",
       "      <td>19.03</td>\n",
       "      <td>18.64</td>\n",
       "    </tr>\n",
       "    <tr>\n",
       "      <th>3</th>\n",
       "      <td>712</td>\n",
       "      <td>24</td>\n",
       "      <td>25</td>\n",
       "      <td>6.73</td>\n",
       "      <td>21.28</td>\n",
       "      <td>18.96</td>\n",
       "    </tr>\n",
       "    <tr>\n",
       "      <th>4</th>\n",
       "      <td>681</td>\n",
       "      <td>22</td>\n",
       "      <td>17</td>\n",
       "      <td>7.45</td>\n",
       "      <td>35.06</td>\n",
       "      <td>28.24</td>\n",
       "    </tr>\n",
       "  </tbody>\n",
       "</table>\n",
       "</div>"
      ],
      "text/plain": [
       "   Bowler_Rating  Innings_Bowl  Wickets_Bowl  Economy_Bowl  \\\n",
       "0            736            48            89          6.14   \n",
       "1            730            19            25          6.15   \n",
       "2            713            29            33          6.13   \n",
       "3            712            24            25          6.73   \n",
       "4            681            22            17          7.45   \n",
       "\n",
       "   Bowling_Average_Bowl  Bowling_Strike_Rate_Bowl  \n",
       "0                 12.63                     12.34  \n",
       "1                 17.72                     17.28  \n",
       "2                 19.03                     18.64  \n",
       "3                 21.28                     18.96  \n",
       "4                 35.06                     28.24  "
      ]
     },
     "execution_count": 14,
     "metadata": {},
     "output_type": "execute_result"
    }
   ],
   "source": [
    "Bowler_data.drop(['FiveWickets_Bowl'],axis=1,inplace=True)\n",
    "Bowler_data.head()"
   ]
  },
  {
   "cell_type": "markdown",
   "metadata": {},
   "source": [
    "### AllRounder Data"
   ]
  },
  {
   "cell_type": "code",
   "execution_count": 15,
   "metadata": {},
   "outputs": [
    {
     "data": {
      "text/html": [
       "<div>\n",
       "<style scoped>\n",
       "    .dataframe tbody tr th:only-of-type {\n",
       "        vertical-align: middle;\n",
       "    }\n",
       "\n",
       "    .dataframe tbody tr th {\n",
       "        vertical-align: top;\n",
       "    }\n",
       "\n",
       "    .dataframe thead th {\n",
       "        text-align: right;\n",
       "    }\n",
       "</style>\n",
       "<table border=\"1\" class=\"dataframe\">\n",
       "  <thead>\n",
       "    <tr style=\"text-align: right;\">\n",
       "      <th></th>\n",
       "      <th>Allrounder_Rating</th>\n",
       "      <th>Matches_As_Bat_AllRounder</th>\n",
       "      <th>Innings_Bat_AllRounder</th>\n",
       "      <th>Runs_Scored_AllRounder</th>\n",
       "      <th>Batting_Average_AllRounder</th>\n",
       "      <th>Batting_Strike_Rate_AllRounder</th>\n",
       "      <th>Centuries_AllRounder</th>\n",
       "      <th>Double_Centuries_AllRounder</th>\n",
       "      <th>Fifties_AllRounder</th>\n",
       "      <th>Fours_AllRounder</th>\n",
       "      <th>Sixes_AllRounder</th>\n",
       "      <th>Innings_As_Bowl_Allrounder</th>\n",
       "      <th>Wickets_AllRounder</th>\n",
       "      <th>Economy_AllRounder</th>\n",
       "      <th>Bowling_Average_AllRounder</th>\n",
       "      <th>Bowling_Strike_Rate_AllRounder</th>\n",
       "      <th>FiveWickets_AllRounder</th>\n",
       "      <th>TenWickets_AllRounder</th>\n",
       "    </tr>\n",
       "  </thead>\n",
       "  <tbody>\n",
       "    <tr>\n",
       "      <th>0</th>\n",
       "      <td>213</td>\n",
       "      <td>40</td>\n",
       "      <td>40</td>\n",
       "      <td>844</td>\n",
       "      <td>24.11</td>\n",
       "      <td>129.85</td>\n",
       "      <td>0</td>\n",
       "      <td>0</td>\n",
       "      <td>8</td>\n",
       "      <td>78</td>\n",
       "      <td>26</td>\n",
       "      <td>39</td>\n",
       "      <td>32</td>\n",
       "      <td>7.21</td>\n",
       "      <td>29.28</td>\n",
       "      <td>24.38</td>\n",
       "      <td>0</td>\n",
       "      <td>0</td>\n",
       "    </tr>\n",
       "    <tr>\n",
       "      <th>1</th>\n",
       "      <td>204</td>\n",
       "      <td>61</td>\n",
       "      <td>54</td>\n",
       "      <td>1576</td>\n",
       "      <td>35.02</td>\n",
       "      <td>160.00</td>\n",
       "      <td>3</td>\n",
       "      <td>0</td>\n",
       "      <td>9</td>\n",
       "      <td>135</td>\n",
       "      <td>81</td>\n",
       "      <td>40</td>\n",
       "      <td>26</td>\n",
       "      <td>7.49</td>\n",
       "      <td>27.08</td>\n",
       "      <td>21.69</td>\n",
       "      <td>0</td>\n",
       "      <td>0</td>\n",
       "    </tr>\n",
       "    <tr>\n",
       "      <th>2</th>\n",
       "      <td>170</td>\n",
       "      <td>23</td>\n",
       "      <td>21</td>\n",
       "      <td>436</td>\n",
       "      <td>24.22</td>\n",
       "      <td>150.34</td>\n",
       "      <td>0</td>\n",
       "      <td>0</td>\n",
       "      <td>4</td>\n",
       "      <td>40</td>\n",
       "      <td>20</td>\n",
       "      <td>20</td>\n",
       "      <td>19</td>\n",
       "      <td>7.41</td>\n",
       "      <td>24.58</td>\n",
       "      <td>19.89</td>\n",
       "      <td>0</td>\n",
       "      <td>0</td>\n",
       "    </tr>\n",
       "    <tr>\n",
       "      <th>3</th>\n",
       "      <td>159</td>\n",
       "      <td>31</td>\n",
       "      <td>31</td>\n",
       "      <td>601</td>\n",
       "      <td>20.72</td>\n",
       "      <td>99.67</td>\n",
       "      <td>0</td>\n",
       "      <td>0</td>\n",
       "      <td>4</td>\n",
       "      <td>68</td>\n",
       "      <td>14</td>\n",
       "      <td>30</td>\n",
       "      <td>35</td>\n",
       "      <td>6.48</td>\n",
       "      <td>16.86</td>\n",
       "      <td>15.60</td>\n",
       "      <td>0</td>\n",
       "      <td>0</td>\n",
       "    </tr>\n",
       "    <tr>\n",
       "      <th>4</th>\n",
       "      <td>153</td>\n",
       "      <td>31</td>\n",
       "      <td>29</td>\n",
       "      <td>621</td>\n",
       "      <td>27.00</td>\n",
       "      <td>112.30</td>\n",
       "      <td>0</td>\n",
       "      <td>0</td>\n",
       "      <td>6</td>\n",
       "      <td>47</td>\n",
       "      <td>15</td>\n",
       "      <td>15</td>\n",
       "      <td>21</td>\n",
       "      <td>6.38</td>\n",
       "      <td>13.76</td>\n",
       "      <td>12.95</td>\n",
       "      <td>0</td>\n",
       "      <td>0</td>\n",
       "    </tr>\n",
       "    <tr>\n",
       "      <th>...</th>\n",
       "      <td>...</td>\n",
       "      <td>...</td>\n",
       "      <td>...</td>\n",
       "      <td>...</td>\n",
       "      <td>...</td>\n",
       "      <td>...</td>\n",
       "      <td>...</td>\n",
       "      <td>...</td>\n",
       "      <td>...</td>\n",
       "      <td>...</td>\n",
       "      <td>...</td>\n",
       "      <td>...</td>\n",
       "      <td>...</td>\n",
       "      <td>...</td>\n",
       "      <td>...</td>\n",
       "      <td>...</td>\n",
       "      <td>...</td>\n",
       "      <td>...</td>\n",
       "    </tr>\n",
       "    <tr>\n",
       "      <th>95</th>\n",
       "      <td>160</td>\n",
       "      <td>49</td>\n",
       "      <td>23</td>\n",
       "      <td>173</td>\n",
       "      <td>12.36</td>\n",
       "      <td>101.76</td>\n",
       "      <td>0</td>\n",
       "      <td>0</td>\n",
       "      <td>2</td>\n",
       "      <td>9</td>\n",
       "      <td>5</td>\n",
       "      <td>49</td>\n",
       "      <td>39</td>\n",
       "      <td>7.10</td>\n",
       "      <td>29.54</td>\n",
       "      <td>24.95</td>\n",
       "      <td>0</td>\n",
       "      <td>0</td>\n",
       "    </tr>\n",
       "    <tr>\n",
       "      <th>96</th>\n",
       "      <td>150</td>\n",
       "      <td>13</td>\n",
       "      <td>10</td>\n",
       "      <td>67</td>\n",
       "      <td>9.57</td>\n",
       "      <td>113.56</td>\n",
       "      <td>0</td>\n",
       "      <td>0</td>\n",
       "      <td>2</td>\n",
       "      <td>7</td>\n",
       "      <td>3</td>\n",
       "      <td>11</td>\n",
       "      <td>11</td>\n",
       "      <td>6.80</td>\n",
       "      <td>21.64</td>\n",
       "      <td>19.09</td>\n",
       "      <td>0</td>\n",
       "      <td>0</td>\n",
       "    </tr>\n",
       "    <tr>\n",
       "      <th>97</th>\n",
       "      <td>408</td>\n",
       "      <td>76</td>\n",
       "      <td>75</td>\n",
       "      <td>1567</td>\n",
       "      <td>23.74</td>\n",
       "      <td>123.87</td>\n",
       "      <td>0</td>\n",
       "      <td>0</td>\n",
       "      <td>11</td>\n",
       "      <td>165</td>\n",
       "      <td>33</td>\n",
       "      <td>75</td>\n",
       "      <td>92</td>\n",
       "      <td>6.81</td>\n",
       "      <td>20.58</td>\n",
       "      <td>18.12</td>\n",
       "      <td>1</td>\n",
       "      <td>0</td>\n",
       "    </tr>\n",
       "    <tr>\n",
       "      <th>98</th>\n",
       "      <td>150</td>\n",
       "      <td>14</td>\n",
       "      <td>13</td>\n",
       "      <td>183</td>\n",
       "      <td>20.33</td>\n",
       "      <td>105.78</td>\n",
       "      <td>0</td>\n",
       "      <td>0</td>\n",
       "      <td>2</td>\n",
       "      <td>12</td>\n",
       "      <td>5</td>\n",
       "      <td>12</td>\n",
       "      <td>5</td>\n",
       "      <td>7.38</td>\n",
       "      <td>32.00</td>\n",
       "      <td>26.00</td>\n",
       "      <td>0</td>\n",
       "      <td>0</td>\n",
       "    </tr>\n",
       "    <tr>\n",
       "      <th>99</th>\n",
       "      <td>100</td>\n",
       "      <td>63</td>\n",
       "      <td>55</td>\n",
       "      <td>977</td>\n",
       "      <td>20.79</td>\n",
       "      <td>114.94</td>\n",
       "      <td>0</td>\n",
       "      <td>0</td>\n",
       "      <td>4</td>\n",
       "      <td>76</td>\n",
       "      <td>33</td>\n",
       "      <td>37</td>\n",
       "      <td>25</td>\n",
       "      <td>6.71</td>\n",
       "      <td>26.84</td>\n",
       "      <td>24.00</td>\n",
       "      <td>1</td>\n",
       "      <td>0</td>\n",
       "    </tr>\n",
       "  </tbody>\n",
       "</table>\n",
       "<p>100 rows × 18 columns</p>\n",
       "</div>"
      ],
      "text/plain": [
       "    Allrounder_Rating  Matches_As_Bat_AllRounder  Innings_Bat_AllRounder  \\\n",
       "0                 213                         40                      40   \n",
       "1                 204                         61                      54   \n",
       "2                 170                         23                      21   \n",
       "3                 159                         31                      31   \n",
       "4                 153                         31                      29   \n",
       "..                ...                        ...                     ...   \n",
       "95                160                         49                      23   \n",
       "96                150                         13                      10   \n",
       "97                408                         76                      75   \n",
       "98                150                         14                      13   \n",
       "99                100                         63                      55   \n",
       "\n",
       "    Runs_Scored_AllRounder  Batting_Average_AllRounder  \\\n",
       "0                      844                       24.11   \n",
       "1                     1576                       35.02   \n",
       "2                      436                       24.22   \n",
       "3                      601                       20.72   \n",
       "4                      621                       27.00   \n",
       "..                     ...                         ...   \n",
       "95                     173                       12.36   \n",
       "96                      67                        9.57   \n",
       "97                    1567                       23.74   \n",
       "98                     183                       20.33   \n",
       "99                     977                       20.79   \n",
       "\n",
       "    Batting_Strike_Rate_AllRounder  Centuries_AllRounder  \\\n",
       "0                           129.85                     0   \n",
       "1                           160.00                     3   \n",
       "2                           150.34                     0   \n",
       "3                            99.67                     0   \n",
       "4                           112.30                     0   \n",
       "..                             ...                   ...   \n",
       "95                          101.76                     0   \n",
       "96                          113.56                     0   \n",
       "97                          123.87                     0   \n",
       "98                          105.78                     0   \n",
       "99                          114.94                     0   \n",
       "\n",
       "    Double_Centuries_AllRounder  Fifties_AllRounder  Fours_AllRounder  \\\n",
       "0                             0                   8                78   \n",
       "1                             0                   9               135   \n",
       "2                             0                   4                40   \n",
       "3                             0                   4                68   \n",
       "4                             0                   6                47   \n",
       "..                          ...                 ...               ...   \n",
       "95                            0                   2                 9   \n",
       "96                            0                   2                 7   \n",
       "97                            0                  11               165   \n",
       "98                            0                   2                12   \n",
       "99                            0                   4                76   \n",
       "\n",
       "    Sixes_AllRounder  Innings_As_Bowl_Allrounder  Wickets_AllRounder  \\\n",
       "0                 26                          39                  32   \n",
       "1                 81                          40                  26   \n",
       "2                 20                          20                  19   \n",
       "3                 14                          30                  35   \n",
       "4                 15                          15                  21   \n",
       "..               ...                         ...                 ...   \n",
       "95                 5                          49                  39   \n",
       "96                 3                          11                  11   \n",
       "97                33                          75                  92   \n",
       "98                 5                          12                   5   \n",
       "99                33                          37                  25   \n",
       "\n",
       "    Economy_AllRounder  Bowling_Average_AllRounder  \\\n",
       "0                 7.21                       29.28   \n",
       "1                 7.49                       27.08   \n",
       "2                 7.41                       24.58   \n",
       "3                 6.48                       16.86   \n",
       "4                 6.38                       13.76   \n",
       "..                 ...                         ...   \n",
       "95                7.10                       29.54   \n",
       "96                6.80                       21.64   \n",
       "97                6.81                       20.58   \n",
       "98                7.38                       32.00   \n",
       "99                6.71                       26.84   \n",
       "\n",
       "    Bowling_Strike_Rate_AllRounder  FiveWickets_AllRounder  \\\n",
       "0                            24.38                       0   \n",
       "1                            21.69                       0   \n",
       "2                            19.89                       0   \n",
       "3                            15.60                       0   \n",
       "4                            12.95                       0   \n",
       "..                             ...                     ...   \n",
       "95                           24.95                       0   \n",
       "96                           19.09                       0   \n",
       "97                           18.12                       1   \n",
       "98                           26.00                       0   \n",
       "99                           24.00                       1   \n",
       "\n",
       "    TenWickets_AllRounder  \n",
       "0                       0  \n",
       "1                       0  \n",
       "2                       0  \n",
       "3                       0  \n",
       "4                       0  \n",
       "..                    ...  \n",
       "95                      0  \n",
       "96                      0  \n",
       "97                      0  \n",
       "98                      0  \n",
       "99                      0  \n",
       "\n",
       "[100 rows x 18 columns]"
      ]
     },
     "execution_count": 15,
     "metadata": {},
     "output_type": "execute_result"
    }
   ],
   "source": [
    "AllRounder_data=pd.read_csv(\"Allrounder_Data.csv\")\n",
    "AllRounder_data"
   ]
  },
  {
   "cell_type": "markdown",
   "metadata": {},
   "source": [
    "### Drop the Matches_As_Bat_AllRounder feature as it is not an important feature"
   ]
  },
  {
   "cell_type": "code",
   "execution_count": 16,
   "metadata": {},
   "outputs": [
    {
     "data": {
      "text/html": [
       "<div>\n",
       "<style scoped>\n",
       "    .dataframe tbody tr th:only-of-type {\n",
       "        vertical-align: middle;\n",
       "    }\n",
       "\n",
       "    .dataframe tbody tr th {\n",
       "        vertical-align: top;\n",
       "    }\n",
       "\n",
       "    .dataframe thead th {\n",
       "        text-align: right;\n",
       "    }\n",
       "</style>\n",
       "<table border=\"1\" class=\"dataframe\">\n",
       "  <thead>\n",
       "    <tr style=\"text-align: right;\">\n",
       "      <th></th>\n",
       "      <th>Allrounder_Rating</th>\n",
       "      <th>Innings_Bat_AllRounder</th>\n",
       "      <th>Runs_Scored_AllRounder</th>\n",
       "      <th>Batting_Average_AllRounder</th>\n",
       "      <th>Batting_Strike_Rate_AllRounder</th>\n",
       "      <th>Centuries_AllRounder</th>\n",
       "      <th>Double_Centuries_AllRounder</th>\n",
       "      <th>Fifties_AllRounder</th>\n",
       "      <th>Fours_AllRounder</th>\n",
       "      <th>Sixes_AllRounder</th>\n",
       "      <th>Innings_As_Bowl_Allrounder</th>\n",
       "      <th>Wickets_AllRounder</th>\n",
       "      <th>Economy_AllRounder</th>\n",
       "      <th>Bowling_Average_AllRounder</th>\n",
       "      <th>Bowling_Strike_Rate_AllRounder</th>\n",
       "      <th>FiveWickets_AllRounder</th>\n",
       "      <th>TenWickets_AllRounder</th>\n",
       "    </tr>\n",
       "  </thead>\n",
       "  <tbody>\n",
       "    <tr>\n",
       "      <th>0</th>\n",
       "      <td>213</td>\n",
       "      <td>40</td>\n",
       "      <td>844</td>\n",
       "      <td>24.11</td>\n",
       "      <td>129.85</td>\n",
       "      <td>0</td>\n",
       "      <td>0</td>\n",
       "      <td>8</td>\n",
       "      <td>78</td>\n",
       "      <td>26</td>\n",
       "      <td>39</td>\n",
       "      <td>32</td>\n",
       "      <td>7.21</td>\n",
       "      <td>29.28</td>\n",
       "      <td>24.38</td>\n",
       "      <td>0</td>\n",
       "      <td>0</td>\n",
       "    </tr>\n",
       "    <tr>\n",
       "      <th>1</th>\n",
       "      <td>204</td>\n",
       "      <td>54</td>\n",
       "      <td>1576</td>\n",
       "      <td>35.02</td>\n",
       "      <td>160.00</td>\n",
       "      <td>3</td>\n",
       "      <td>0</td>\n",
       "      <td>9</td>\n",
       "      <td>135</td>\n",
       "      <td>81</td>\n",
       "      <td>40</td>\n",
       "      <td>26</td>\n",
       "      <td>7.49</td>\n",
       "      <td>27.08</td>\n",
       "      <td>21.69</td>\n",
       "      <td>0</td>\n",
       "      <td>0</td>\n",
       "    </tr>\n",
       "    <tr>\n",
       "      <th>2</th>\n",
       "      <td>170</td>\n",
       "      <td>21</td>\n",
       "      <td>436</td>\n",
       "      <td>24.22</td>\n",
       "      <td>150.34</td>\n",
       "      <td>0</td>\n",
       "      <td>0</td>\n",
       "      <td>4</td>\n",
       "      <td>40</td>\n",
       "      <td>20</td>\n",
       "      <td>20</td>\n",
       "      <td>19</td>\n",
       "      <td>7.41</td>\n",
       "      <td>24.58</td>\n",
       "      <td>19.89</td>\n",
       "      <td>0</td>\n",
       "      <td>0</td>\n",
       "    </tr>\n",
       "    <tr>\n",
       "      <th>3</th>\n",
       "      <td>159</td>\n",
       "      <td>31</td>\n",
       "      <td>601</td>\n",
       "      <td>20.72</td>\n",
       "      <td>99.67</td>\n",
       "      <td>0</td>\n",
       "      <td>0</td>\n",
       "      <td>4</td>\n",
       "      <td>68</td>\n",
       "      <td>14</td>\n",
       "      <td>30</td>\n",
       "      <td>35</td>\n",
       "      <td>6.48</td>\n",
       "      <td>16.86</td>\n",
       "      <td>15.60</td>\n",
       "      <td>0</td>\n",
       "      <td>0</td>\n",
       "    </tr>\n",
       "    <tr>\n",
       "      <th>4</th>\n",
       "      <td>153</td>\n",
       "      <td>29</td>\n",
       "      <td>621</td>\n",
       "      <td>27.00</td>\n",
       "      <td>112.30</td>\n",
       "      <td>0</td>\n",
       "      <td>0</td>\n",
       "      <td>6</td>\n",
       "      <td>47</td>\n",
       "      <td>15</td>\n",
       "      <td>15</td>\n",
       "      <td>21</td>\n",
       "      <td>6.38</td>\n",
       "      <td>13.76</td>\n",
       "      <td>12.95</td>\n",
       "      <td>0</td>\n",
       "      <td>0</td>\n",
       "    </tr>\n",
       "  </tbody>\n",
       "</table>\n",
       "</div>"
      ],
      "text/plain": [
       "   Allrounder_Rating  Innings_Bat_AllRounder  Runs_Scored_AllRounder  \\\n",
       "0                213                      40                     844   \n",
       "1                204                      54                    1576   \n",
       "2                170                      21                     436   \n",
       "3                159                      31                     601   \n",
       "4                153                      29                     621   \n",
       "\n",
       "   Batting_Average_AllRounder  Batting_Strike_Rate_AllRounder  \\\n",
       "0                       24.11                          129.85   \n",
       "1                       35.02                          160.00   \n",
       "2                       24.22                          150.34   \n",
       "3                       20.72                           99.67   \n",
       "4                       27.00                          112.30   \n",
       "\n",
       "   Centuries_AllRounder  Double_Centuries_AllRounder  Fifties_AllRounder  \\\n",
       "0                     0                            0                   8   \n",
       "1                     3                            0                   9   \n",
       "2                     0                            0                   4   \n",
       "3                     0                            0                   4   \n",
       "4                     0                            0                   6   \n",
       "\n",
       "   Fours_AllRounder  Sixes_AllRounder  Innings_As_Bowl_Allrounder  \\\n",
       "0                78                26                          39   \n",
       "1               135                81                          40   \n",
       "2                40                20                          20   \n",
       "3                68                14                          30   \n",
       "4                47                15                          15   \n",
       "\n",
       "   Wickets_AllRounder  Economy_AllRounder  Bowling_Average_AllRounder  \\\n",
       "0                  32                7.21                       29.28   \n",
       "1                  26                7.49                       27.08   \n",
       "2                  19                7.41                       24.58   \n",
       "3                  35                6.48                       16.86   \n",
       "4                  21                6.38                       13.76   \n",
       "\n",
       "   Bowling_Strike_Rate_AllRounder  FiveWickets_AllRounder  \\\n",
       "0                           24.38                       0   \n",
       "1                           21.69                       0   \n",
       "2                           19.89                       0   \n",
       "3                           15.60                       0   \n",
       "4                           12.95                       0   \n",
       "\n",
       "   TenWickets_AllRounder  \n",
       "0                      0  \n",
       "1                      0  \n",
       "2                      0  \n",
       "3                      0  \n",
       "4                      0  "
      ]
     },
     "execution_count": 16,
     "metadata": {},
     "output_type": "execute_result"
    }
   ],
   "source": [
    "AllRounder_data.drop(['Matches_As_Bat_AllRounder'],axis=1,inplace=True)\n",
    "AllRounder_data.head()"
   ]
  },
  {
   "cell_type": "markdown",
   "metadata": {},
   "source": [
    "### Get the unique values of Double_Centuries_AllRounder"
   ]
  },
  {
   "cell_type": "code",
   "execution_count": 17,
   "metadata": {},
   "outputs": [
    {
     "data": {
      "text/plain": [
       "array([0], dtype=int64)"
      ]
     },
     "execution_count": 17,
     "metadata": {},
     "output_type": "execute_result"
    }
   ],
   "source": [
    "AllRounder_data['Double_Centuries_AllRounder'].unique()"
   ]
  },
  {
   "cell_type": "markdown",
   "metadata": {},
   "source": [
    "### We have only 0's in Double_Centuries_AllRounder. So, it is not a valid feature. We can drop this feature"
   ]
  },
  {
   "cell_type": "code",
   "execution_count": 18,
   "metadata": {},
   "outputs": [
    {
     "data": {
      "text/html": [
       "<div>\n",
       "<style scoped>\n",
       "    .dataframe tbody tr th:only-of-type {\n",
       "        vertical-align: middle;\n",
       "    }\n",
       "\n",
       "    .dataframe tbody tr th {\n",
       "        vertical-align: top;\n",
       "    }\n",
       "\n",
       "    .dataframe thead th {\n",
       "        text-align: right;\n",
       "    }\n",
       "</style>\n",
       "<table border=\"1\" class=\"dataframe\">\n",
       "  <thead>\n",
       "    <tr style=\"text-align: right;\">\n",
       "      <th></th>\n",
       "      <th>Allrounder_Rating</th>\n",
       "      <th>Innings_Bat_AllRounder</th>\n",
       "      <th>Runs_Scored_AllRounder</th>\n",
       "      <th>Batting_Average_AllRounder</th>\n",
       "      <th>Batting_Strike_Rate_AllRounder</th>\n",
       "      <th>Centuries_AllRounder</th>\n",
       "      <th>Fifties_AllRounder</th>\n",
       "      <th>Fours_AllRounder</th>\n",
       "      <th>Sixes_AllRounder</th>\n",
       "      <th>Innings_As_Bowl_Allrounder</th>\n",
       "      <th>Wickets_AllRounder</th>\n",
       "      <th>Economy_AllRounder</th>\n",
       "      <th>Bowling_Average_AllRounder</th>\n",
       "      <th>Bowling_Strike_Rate_AllRounder</th>\n",
       "      <th>FiveWickets_AllRounder</th>\n",
       "      <th>TenWickets_AllRounder</th>\n",
       "    </tr>\n",
       "  </thead>\n",
       "  <tbody>\n",
       "    <tr>\n",
       "      <th>0</th>\n",
       "      <td>213</td>\n",
       "      <td>40</td>\n",
       "      <td>844</td>\n",
       "      <td>24.11</td>\n",
       "      <td>129.85</td>\n",
       "      <td>0</td>\n",
       "      <td>8</td>\n",
       "      <td>78</td>\n",
       "      <td>26</td>\n",
       "      <td>39</td>\n",
       "      <td>32</td>\n",
       "      <td>7.21</td>\n",
       "      <td>29.28</td>\n",
       "      <td>24.38</td>\n",
       "      <td>0</td>\n",
       "      <td>0</td>\n",
       "    </tr>\n",
       "    <tr>\n",
       "      <th>1</th>\n",
       "      <td>204</td>\n",
       "      <td>54</td>\n",
       "      <td>1576</td>\n",
       "      <td>35.02</td>\n",
       "      <td>160.00</td>\n",
       "      <td>3</td>\n",
       "      <td>9</td>\n",
       "      <td>135</td>\n",
       "      <td>81</td>\n",
       "      <td>40</td>\n",
       "      <td>26</td>\n",
       "      <td>7.49</td>\n",
       "      <td>27.08</td>\n",
       "      <td>21.69</td>\n",
       "      <td>0</td>\n",
       "      <td>0</td>\n",
       "    </tr>\n",
       "    <tr>\n",
       "      <th>2</th>\n",
       "      <td>170</td>\n",
       "      <td>21</td>\n",
       "      <td>436</td>\n",
       "      <td>24.22</td>\n",
       "      <td>150.34</td>\n",
       "      <td>0</td>\n",
       "      <td>4</td>\n",
       "      <td>40</td>\n",
       "      <td>20</td>\n",
       "      <td>20</td>\n",
       "      <td>19</td>\n",
       "      <td>7.41</td>\n",
       "      <td>24.58</td>\n",
       "      <td>19.89</td>\n",
       "      <td>0</td>\n",
       "      <td>0</td>\n",
       "    </tr>\n",
       "    <tr>\n",
       "      <th>3</th>\n",
       "      <td>159</td>\n",
       "      <td>31</td>\n",
       "      <td>601</td>\n",
       "      <td>20.72</td>\n",
       "      <td>99.67</td>\n",
       "      <td>0</td>\n",
       "      <td>4</td>\n",
       "      <td>68</td>\n",
       "      <td>14</td>\n",
       "      <td>30</td>\n",
       "      <td>35</td>\n",
       "      <td>6.48</td>\n",
       "      <td>16.86</td>\n",
       "      <td>15.60</td>\n",
       "      <td>0</td>\n",
       "      <td>0</td>\n",
       "    </tr>\n",
       "    <tr>\n",
       "      <th>4</th>\n",
       "      <td>153</td>\n",
       "      <td>29</td>\n",
       "      <td>621</td>\n",
       "      <td>27.00</td>\n",
       "      <td>112.30</td>\n",
       "      <td>0</td>\n",
       "      <td>6</td>\n",
       "      <td>47</td>\n",
       "      <td>15</td>\n",
       "      <td>15</td>\n",
       "      <td>21</td>\n",
       "      <td>6.38</td>\n",
       "      <td>13.76</td>\n",
       "      <td>12.95</td>\n",
       "      <td>0</td>\n",
       "      <td>0</td>\n",
       "    </tr>\n",
       "  </tbody>\n",
       "</table>\n",
       "</div>"
      ],
      "text/plain": [
       "   Allrounder_Rating  Innings_Bat_AllRounder  Runs_Scored_AllRounder  \\\n",
       "0                213                      40                     844   \n",
       "1                204                      54                    1576   \n",
       "2                170                      21                     436   \n",
       "3                159                      31                     601   \n",
       "4                153                      29                     621   \n",
       "\n",
       "   Batting_Average_AllRounder  Batting_Strike_Rate_AllRounder  \\\n",
       "0                       24.11                          129.85   \n",
       "1                       35.02                          160.00   \n",
       "2                       24.22                          150.34   \n",
       "3                       20.72                           99.67   \n",
       "4                       27.00                          112.30   \n",
       "\n",
       "   Centuries_AllRounder  Fifties_AllRounder  Fours_AllRounder  \\\n",
       "0                     0                   8                78   \n",
       "1                     3                   9               135   \n",
       "2                     0                   4                40   \n",
       "3                     0                   4                68   \n",
       "4                     0                   6                47   \n",
       "\n",
       "   Sixes_AllRounder  Innings_As_Bowl_Allrounder  Wickets_AllRounder  \\\n",
       "0                26                          39                  32   \n",
       "1                81                          40                  26   \n",
       "2                20                          20                  19   \n",
       "3                14                          30                  35   \n",
       "4                15                          15                  21   \n",
       "\n",
       "   Economy_AllRounder  Bowling_Average_AllRounder  \\\n",
       "0                7.21                       29.28   \n",
       "1                7.49                       27.08   \n",
       "2                7.41                       24.58   \n",
       "3                6.48                       16.86   \n",
       "4                6.38                       13.76   \n",
       "\n",
       "   Bowling_Strike_Rate_AllRounder  FiveWickets_AllRounder  \\\n",
       "0                           24.38                       0   \n",
       "1                           21.69                       0   \n",
       "2                           19.89                       0   \n",
       "3                           15.60                       0   \n",
       "4                           12.95                       0   \n",
       "\n",
       "   TenWickets_AllRounder  \n",
       "0                      0  \n",
       "1                      0  \n",
       "2                      0  \n",
       "3                      0  \n",
       "4                      0  "
      ]
     },
     "execution_count": 18,
     "metadata": {},
     "output_type": "execute_result"
    }
   ],
   "source": [
    "AllRounder_data.drop(['Double_Centuries_AllRounder'],axis=1,inplace=True)\n",
    "AllRounder_data.head()"
   ]
  },
  {
   "cell_type": "code",
   "execution_count": 19,
   "metadata": {},
   "outputs": [
    {
     "data": {
      "text/plain": [
       "0    96\n",
       "3     2\n",
       "4     1\n",
       "1     1\n",
       "Name: Centuries_AllRounder, dtype: int64"
      ]
     },
     "execution_count": 19,
     "metadata": {},
     "output_type": "execute_result"
    }
   ],
   "source": [
    "AllRounder_data['Centuries_AllRounder'].value_counts()"
   ]
  },
  {
   "cell_type": "markdown",
   "metadata": {},
   "source": [
    "### We can see that almost 87% of the players didn't score a century. So we can drop this feature as it does not provide any value"
   ]
  },
  {
   "cell_type": "code",
   "execution_count": 20,
   "metadata": {},
   "outputs": [
    {
     "data": {
      "text/html": [
       "<div>\n",
       "<style scoped>\n",
       "    .dataframe tbody tr th:only-of-type {\n",
       "        vertical-align: middle;\n",
       "    }\n",
       "\n",
       "    .dataframe tbody tr th {\n",
       "        vertical-align: top;\n",
       "    }\n",
       "\n",
       "    .dataframe thead th {\n",
       "        text-align: right;\n",
       "    }\n",
       "</style>\n",
       "<table border=\"1\" class=\"dataframe\">\n",
       "  <thead>\n",
       "    <tr style=\"text-align: right;\">\n",
       "      <th></th>\n",
       "      <th>Allrounder_Rating</th>\n",
       "      <th>Innings_Bat_AllRounder</th>\n",
       "      <th>Runs_Scored_AllRounder</th>\n",
       "      <th>Batting_Average_AllRounder</th>\n",
       "      <th>Batting_Strike_Rate_AllRounder</th>\n",
       "      <th>Fifties_AllRounder</th>\n",
       "      <th>Fours_AllRounder</th>\n",
       "      <th>Sixes_AllRounder</th>\n",
       "      <th>Innings_As_Bowl_Allrounder</th>\n",
       "      <th>Wickets_AllRounder</th>\n",
       "      <th>Economy_AllRounder</th>\n",
       "      <th>Bowling_Average_AllRounder</th>\n",
       "      <th>Bowling_Strike_Rate_AllRounder</th>\n",
       "      <th>FiveWickets_AllRounder</th>\n",
       "      <th>TenWickets_AllRounder</th>\n",
       "    </tr>\n",
       "  </thead>\n",
       "  <tbody>\n",
       "    <tr>\n",
       "      <th>0</th>\n",
       "      <td>213</td>\n",
       "      <td>40</td>\n",
       "      <td>844</td>\n",
       "      <td>24.11</td>\n",
       "      <td>129.85</td>\n",
       "      <td>8</td>\n",
       "      <td>78</td>\n",
       "      <td>26</td>\n",
       "      <td>39</td>\n",
       "      <td>32</td>\n",
       "      <td>7.21</td>\n",
       "      <td>29.28</td>\n",
       "      <td>24.38</td>\n",
       "      <td>0</td>\n",
       "      <td>0</td>\n",
       "    </tr>\n",
       "    <tr>\n",
       "      <th>1</th>\n",
       "      <td>204</td>\n",
       "      <td>54</td>\n",
       "      <td>1576</td>\n",
       "      <td>35.02</td>\n",
       "      <td>160.00</td>\n",
       "      <td>9</td>\n",
       "      <td>135</td>\n",
       "      <td>81</td>\n",
       "      <td>40</td>\n",
       "      <td>26</td>\n",
       "      <td>7.49</td>\n",
       "      <td>27.08</td>\n",
       "      <td>21.69</td>\n",
       "      <td>0</td>\n",
       "      <td>0</td>\n",
       "    </tr>\n",
       "    <tr>\n",
       "      <th>2</th>\n",
       "      <td>170</td>\n",
       "      <td>21</td>\n",
       "      <td>436</td>\n",
       "      <td>24.22</td>\n",
       "      <td>150.34</td>\n",
       "      <td>4</td>\n",
       "      <td>40</td>\n",
       "      <td>20</td>\n",
       "      <td>20</td>\n",
       "      <td>19</td>\n",
       "      <td>7.41</td>\n",
       "      <td>24.58</td>\n",
       "      <td>19.89</td>\n",
       "      <td>0</td>\n",
       "      <td>0</td>\n",
       "    </tr>\n",
       "    <tr>\n",
       "      <th>3</th>\n",
       "      <td>159</td>\n",
       "      <td>31</td>\n",
       "      <td>601</td>\n",
       "      <td>20.72</td>\n",
       "      <td>99.67</td>\n",
       "      <td>4</td>\n",
       "      <td>68</td>\n",
       "      <td>14</td>\n",
       "      <td>30</td>\n",
       "      <td>35</td>\n",
       "      <td>6.48</td>\n",
       "      <td>16.86</td>\n",
       "      <td>15.60</td>\n",
       "      <td>0</td>\n",
       "      <td>0</td>\n",
       "    </tr>\n",
       "    <tr>\n",
       "      <th>4</th>\n",
       "      <td>153</td>\n",
       "      <td>29</td>\n",
       "      <td>621</td>\n",
       "      <td>27.00</td>\n",
       "      <td>112.30</td>\n",
       "      <td>6</td>\n",
       "      <td>47</td>\n",
       "      <td>15</td>\n",
       "      <td>15</td>\n",
       "      <td>21</td>\n",
       "      <td>6.38</td>\n",
       "      <td>13.76</td>\n",
       "      <td>12.95</td>\n",
       "      <td>0</td>\n",
       "      <td>0</td>\n",
       "    </tr>\n",
       "  </tbody>\n",
       "</table>\n",
       "</div>"
      ],
      "text/plain": [
       "   Allrounder_Rating  Innings_Bat_AllRounder  Runs_Scored_AllRounder  \\\n",
       "0                213                      40                     844   \n",
       "1                204                      54                    1576   \n",
       "2                170                      21                     436   \n",
       "3                159                      31                     601   \n",
       "4                153                      29                     621   \n",
       "\n",
       "   Batting_Average_AllRounder  Batting_Strike_Rate_AllRounder  \\\n",
       "0                       24.11                          129.85   \n",
       "1                       35.02                          160.00   \n",
       "2                       24.22                          150.34   \n",
       "3                       20.72                           99.67   \n",
       "4                       27.00                          112.30   \n",
       "\n",
       "   Fifties_AllRounder  Fours_AllRounder  Sixes_AllRounder  \\\n",
       "0                   8                78                26   \n",
       "1                   9               135                81   \n",
       "2                   4                40                20   \n",
       "3                   4                68                14   \n",
       "4                   6                47                15   \n",
       "\n",
       "   Innings_As_Bowl_Allrounder  Wickets_AllRounder  Economy_AllRounder  \\\n",
       "0                          39                  32                7.21   \n",
       "1                          40                  26                7.49   \n",
       "2                          20                  19                7.41   \n",
       "3                          30                  35                6.48   \n",
       "4                          15                  21                6.38   \n",
       "\n",
       "   Bowling_Average_AllRounder  Bowling_Strike_Rate_AllRounder  \\\n",
       "0                       29.28                           24.38   \n",
       "1                       27.08                           21.69   \n",
       "2                       24.58                           19.89   \n",
       "3                       16.86                           15.60   \n",
       "4                       13.76                           12.95   \n",
       "\n",
       "   FiveWickets_AllRounder  TenWickets_AllRounder  \n",
       "0                       0                      0  \n",
       "1                       0                      0  \n",
       "2                       0                      0  \n",
       "3                       0                      0  \n",
       "4                       0                      0  "
      ]
     },
     "execution_count": 20,
     "metadata": {},
     "output_type": "execute_result"
    }
   ],
   "source": [
    "AllRounder_data.drop(['Centuries_AllRounder'],axis=1,inplace=True)\n",
    "AllRounder_data.head()"
   ]
  },
  {
   "cell_type": "markdown",
   "metadata": {},
   "source": [
    "### Get the unique values of TenWickets_AllRounder"
   ]
  },
  {
   "cell_type": "code",
   "execution_count": 21,
   "metadata": {},
   "outputs": [
    {
     "data": {
      "text/plain": [
       "array([0], dtype=int64)"
      ]
     },
     "execution_count": 21,
     "metadata": {},
     "output_type": "execute_result"
    }
   ],
   "source": [
    "AllRounder_data['TenWickets_AllRounder'].unique()"
   ]
  },
  {
   "cell_type": "markdown",
   "metadata": {},
   "source": [
    "### We have only 0's in TenWickets_AllRounder. So, it is not a valid feature. We can drop this feature"
   ]
  },
  {
   "cell_type": "code",
   "execution_count": 22,
   "metadata": {},
   "outputs": [
    {
     "data": {
      "text/html": [
       "<div>\n",
       "<style scoped>\n",
       "    .dataframe tbody tr th:only-of-type {\n",
       "        vertical-align: middle;\n",
       "    }\n",
       "\n",
       "    .dataframe tbody tr th {\n",
       "        vertical-align: top;\n",
       "    }\n",
       "\n",
       "    .dataframe thead th {\n",
       "        text-align: right;\n",
       "    }\n",
       "</style>\n",
       "<table border=\"1\" class=\"dataframe\">\n",
       "  <thead>\n",
       "    <tr style=\"text-align: right;\">\n",
       "      <th></th>\n",
       "      <th>Allrounder_Rating</th>\n",
       "      <th>Innings_Bat_AllRounder</th>\n",
       "      <th>Runs_Scored_AllRounder</th>\n",
       "      <th>Batting_Average_AllRounder</th>\n",
       "      <th>Batting_Strike_Rate_AllRounder</th>\n",
       "      <th>Fifties_AllRounder</th>\n",
       "      <th>Fours_AllRounder</th>\n",
       "      <th>Sixes_AllRounder</th>\n",
       "      <th>Innings_As_Bowl_Allrounder</th>\n",
       "      <th>Wickets_AllRounder</th>\n",
       "      <th>Economy_AllRounder</th>\n",
       "      <th>Bowling_Average_AllRounder</th>\n",
       "      <th>Bowling_Strike_Rate_AllRounder</th>\n",
       "      <th>FiveWickets_AllRounder</th>\n",
       "    </tr>\n",
       "  </thead>\n",
       "  <tbody>\n",
       "    <tr>\n",
       "      <th>0</th>\n",
       "      <td>213</td>\n",
       "      <td>40</td>\n",
       "      <td>844</td>\n",
       "      <td>24.11</td>\n",
       "      <td>129.85</td>\n",
       "      <td>8</td>\n",
       "      <td>78</td>\n",
       "      <td>26</td>\n",
       "      <td>39</td>\n",
       "      <td>32</td>\n",
       "      <td>7.21</td>\n",
       "      <td>29.28</td>\n",
       "      <td>24.38</td>\n",
       "      <td>0</td>\n",
       "    </tr>\n",
       "    <tr>\n",
       "      <th>1</th>\n",
       "      <td>204</td>\n",
       "      <td>54</td>\n",
       "      <td>1576</td>\n",
       "      <td>35.02</td>\n",
       "      <td>160.00</td>\n",
       "      <td>9</td>\n",
       "      <td>135</td>\n",
       "      <td>81</td>\n",
       "      <td>40</td>\n",
       "      <td>26</td>\n",
       "      <td>7.49</td>\n",
       "      <td>27.08</td>\n",
       "      <td>21.69</td>\n",
       "      <td>0</td>\n",
       "    </tr>\n",
       "    <tr>\n",
       "      <th>2</th>\n",
       "      <td>170</td>\n",
       "      <td>21</td>\n",
       "      <td>436</td>\n",
       "      <td>24.22</td>\n",
       "      <td>150.34</td>\n",
       "      <td>4</td>\n",
       "      <td>40</td>\n",
       "      <td>20</td>\n",
       "      <td>20</td>\n",
       "      <td>19</td>\n",
       "      <td>7.41</td>\n",
       "      <td>24.58</td>\n",
       "      <td>19.89</td>\n",
       "      <td>0</td>\n",
       "    </tr>\n",
       "    <tr>\n",
       "      <th>3</th>\n",
       "      <td>159</td>\n",
       "      <td>31</td>\n",
       "      <td>601</td>\n",
       "      <td>20.72</td>\n",
       "      <td>99.67</td>\n",
       "      <td>4</td>\n",
       "      <td>68</td>\n",
       "      <td>14</td>\n",
       "      <td>30</td>\n",
       "      <td>35</td>\n",
       "      <td>6.48</td>\n",
       "      <td>16.86</td>\n",
       "      <td>15.60</td>\n",
       "      <td>0</td>\n",
       "    </tr>\n",
       "    <tr>\n",
       "      <th>4</th>\n",
       "      <td>153</td>\n",
       "      <td>29</td>\n",
       "      <td>621</td>\n",
       "      <td>27.00</td>\n",
       "      <td>112.30</td>\n",
       "      <td>6</td>\n",
       "      <td>47</td>\n",
       "      <td>15</td>\n",
       "      <td>15</td>\n",
       "      <td>21</td>\n",
       "      <td>6.38</td>\n",
       "      <td>13.76</td>\n",
       "      <td>12.95</td>\n",
       "      <td>0</td>\n",
       "    </tr>\n",
       "  </tbody>\n",
       "</table>\n",
       "</div>"
      ],
      "text/plain": [
       "   Allrounder_Rating  Innings_Bat_AllRounder  Runs_Scored_AllRounder  \\\n",
       "0                213                      40                     844   \n",
       "1                204                      54                    1576   \n",
       "2                170                      21                     436   \n",
       "3                159                      31                     601   \n",
       "4                153                      29                     621   \n",
       "\n",
       "   Batting_Average_AllRounder  Batting_Strike_Rate_AllRounder  \\\n",
       "0                       24.11                          129.85   \n",
       "1                       35.02                          160.00   \n",
       "2                       24.22                          150.34   \n",
       "3                       20.72                           99.67   \n",
       "4                       27.00                          112.30   \n",
       "\n",
       "   Fifties_AllRounder  Fours_AllRounder  Sixes_AllRounder  \\\n",
       "0                   8                78                26   \n",
       "1                   9               135                81   \n",
       "2                   4                40                20   \n",
       "3                   4                68                14   \n",
       "4                   6                47                15   \n",
       "\n",
       "   Innings_As_Bowl_Allrounder  Wickets_AllRounder  Economy_AllRounder  \\\n",
       "0                          39                  32                7.21   \n",
       "1                          40                  26                7.49   \n",
       "2                          20                  19                7.41   \n",
       "3                          30                  35                6.48   \n",
       "4                          15                  21                6.38   \n",
       "\n",
       "   Bowling_Average_AllRounder  Bowling_Strike_Rate_AllRounder  \\\n",
       "0                       29.28                           24.38   \n",
       "1                       27.08                           21.69   \n",
       "2                       24.58                           19.89   \n",
       "3                       16.86                           15.60   \n",
       "4                       13.76                           12.95   \n",
       "\n",
       "   FiveWickets_AllRounder  \n",
       "0                       0  \n",
       "1                       0  \n",
       "2                       0  \n",
       "3                       0  \n",
       "4                       0  "
      ]
     },
     "execution_count": 22,
     "metadata": {},
     "output_type": "execute_result"
    }
   ],
   "source": [
    "AllRounder_data.drop(['TenWickets_AllRounder'],axis=1,inplace=True)\n",
    "AllRounder_data.head()"
   ]
  },
  {
   "cell_type": "markdown",
   "metadata": {},
   "source": [
    "### Get the unique values of FiveWickets_AllRounder"
   ]
  },
  {
   "cell_type": "code",
   "execution_count": 23,
   "metadata": {},
   "outputs": [
    {
     "data": {
      "text/plain": [
       "array([0, 1, 2], dtype=int64)"
      ]
     },
     "execution_count": 23,
     "metadata": {},
     "output_type": "execute_result"
    }
   ],
   "source": [
    "AllRounder_data['FiveWickets_AllRounder'].unique()"
   ]
  },
  {
   "cell_type": "code",
   "execution_count": 24,
   "metadata": {},
   "outputs": [
    {
     "data": {
      "text/plain": [
       "0    90\n",
       "1     9\n",
       "2     1\n",
       "Name: FiveWickets_AllRounder, dtype: int64"
      ]
     },
     "execution_count": 24,
     "metadata": {},
     "output_type": "execute_result"
    }
   ],
   "source": [
    "AllRounder_data['FiveWickets_AllRounder'].value_counts()"
   ]
  },
  {
   "cell_type": "markdown",
   "metadata": {},
   "source": [
    "### We can see that almost 91% of the players didn't score a Half Century. So we can drop this feature as it does not provide any value"
   ]
  },
  {
   "cell_type": "code",
   "execution_count": 25,
   "metadata": {},
   "outputs": [
    {
     "data": {
      "text/html": [
       "<div>\n",
       "<style scoped>\n",
       "    .dataframe tbody tr th:only-of-type {\n",
       "        vertical-align: middle;\n",
       "    }\n",
       "\n",
       "    .dataframe tbody tr th {\n",
       "        vertical-align: top;\n",
       "    }\n",
       "\n",
       "    .dataframe thead th {\n",
       "        text-align: right;\n",
       "    }\n",
       "</style>\n",
       "<table border=\"1\" class=\"dataframe\">\n",
       "  <thead>\n",
       "    <tr style=\"text-align: right;\">\n",
       "      <th></th>\n",
       "      <th>Allrounder_Rating</th>\n",
       "      <th>Innings_Bat_AllRounder</th>\n",
       "      <th>Runs_Scored_AllRounder</th>\n",
       "      <th>Batting_Average_AllRounder</th>\n",
       "      <th>Batting_Strike_Rate_AllRounder</th>\n",
       "      <th>Fifties_AllRounder</th>\n",
       "      <th>Fours_AllRounder</th>\n",
       "      <th>Sixes_AllRounder</th>\n",
       "      <th>Innings_As_Bowl_Allrounder</th>\n",
       "      <th>Wickets_AllRounder</th>\n",
       "      <th>Economy_AllRounder</th>\n",
       "      <th>Bowling_Average_AllRounder</th>\n",
       "      <th>Bowling_Strike_Rate_AllRounder</th>\n",
       "    </tr>\n",
       "  </thead>\n",
       "  <tbody>\n",
       "    <tr>\n",
       "      <th>0</th>\n",
       "      <td>213</td>\n",
       "      <td>40</td>\n",
       "      <td>844</td>\n",
       "      <td>24.11</td>\n",
       "      <td>129.85</td>\n",
       "      <td>8</td>\n",
       "      <td>78</td>\n",
       "      <td>26</td>\n",
       "      <td>39</td>\n",
       "      <td>32</td>\n",
       "      <td>7.21</td>\n",
       "      <td>29.28</td>\n",
       "      <td>24.38</td>\n",
       "    </tr>\n",
       "    <tr>\n",
       "      <th>1</th>\n",
       "      <td>204</td>\n",
       "      <td>54</td>\n",
       "      <td>1576</td>\n",
       "      <td>35.02</td>\n",
       "      <td>160.00</td>\n",
       "      <td>9</td>\n",
       "      <td>135</td>\n",
       "      <td>81</td>\n",
       "      <td>40</td>\n",
       "      <td>26</td>\n",
       "      <td>7.49</td>\n",
       "      <td>27.08</td>\n",
       "      <td>21.69</td>\n",
       "    </tr>\n",
       "    <tr>\n",
       "      <th>2</th>\n",
       "      <td>170</td>\n",
       "      <td>21</td>\n",
       "      <td>436</td>\n",
       "      <td>24.22</td>\n",
       "      <td>150.34</td>\n",
       "      <td>4</td>\n",
       "      <td>40</td>\n",
       "      <td>20</td>\n",
       "      <td>20</td>\n",
       "      <td>19</td>\n",
       "      <td>7.41</td>\n",
       "      <td>24.58</td>\n",
       "      <td>19.89</td>\n",
       "    </tr>\n",
       "    <tr>\n",
       "      <th>3</th>\n",
       "      <td>159</td>\n",
       "      <td>31</td>\n",
       "      <td>601</td>\n",
       "      <td>20.72</td>\n",
       "      <td>99.67</td>\n",
       "      <td>4</td>\n",
       "      <td>68</td>\n",
       "      <td>14</td>\n",
       "      <td>30</td>\n",
       "      <td>35</td>\n",
       "      <td>6.48</td>\n",
       "      <td>16.86</td>\n",
       "      <td>15.60</td>\n",
       "    </tr>\n",
       "    <tr>\n",
       "      <th>4</th>\n",
       "      <td>153</td>\n",
       "      <td>29</td>\n",
       "      <td>621</td>\n",
       "      <td>27.00</td>\n",
       "      <td>112.30</td>\n",
       "      <td>6</td>\n",
       "      <td>47</td>\n",
       "      <td>15</td>\n",
       "      <td>15</td>\n",
       "      <td>21</td>\n",
       "      <td>6.38</td>\n",
       "      <td>13.76</td>\n",
       "      <td>12.95</td>\n",
       "    </tr>\n",
       "    <tr>\n",
       "      <th>...</th>\n",
       "      <td>...</td>\n",
       "      <td>...</td>\n",
       "      <td>...</td>\n",
       "      <td>...</td>\n",
       "      <td>...</td>\n",
       "      <td>...</td>\n",
       "      <td>...</td>\n",
       "      <td>...</td>\n",
       "      <td>...</td>\n",
       "      <td>...</td>\n",
       "      <td>...</td>\n",
       "      <td>...</td>\n",
       "      <td>...</td>\n",
       "    </tr>\n",
       "    <tr>\n",
       "      <th>95</th>\n",
       "      <td>160</td>\n",
       "      <td>23</td>\n",
       "      <td>173</td>\n",
       "      <td>12.36</td>\n",
       "      <td>101.76</td>\n",
       "      <td>2</td>\n",
       "      <td>9</td>\n",
       "      <td>5</td>\n",
       "      <td>49</td>\n",
       "      <td>39</td>\n",
       "      <td>7.10</td>\n",
       "      <td>29.54</td>\n",
       "      <td>24.95</td>\n",
       "    </tr>\n",
       "    <tr>\n",
       "      <th>96</th>\n",
       "      <td>150</td>\n",
       "      <td>10</td>\n",
       "      <td>67</td>\n",
       "      <td>9.57</td>\n",
       "      <td>113.56</td>\n",
       "      <td>2</td>\n",
       "      <td>7</td>\n",
       "      <td>3</td>\n",
       "      <td>11</td>\n",
       "      <td>11</td>\n",
       "      <td>6.80</td>\n",
       "      <td>21.64</td>\n",
       "      <td>19.09</td>\n",
       "    </tr>\n",
       "    <tr>\n",
       "      <th>97</th>\n",
       "      <td>408</td>\n",
       "      <td>75</td>\n",
       "      <td>1567</td>\n",
       "      <td>23.74</td>\n",
       "      <td>123.87</td>\n",
       "      <td>11</td>\n",
       "      <td>165</td>\n",
       "      <td>33</td>\n",
       "      <td>75</td>\n",
       "      <td>92</td>\n",
       "      <td>6.81</td>\n",
       "      <td>20.58</td>\n",
       "      <td>18.12</td>\n",
       "    </tr>\n",
       "    <tr>\n",
       "      <th>98</th>\n",
       "      <td>150</td>\n",
       "      <td>13</td>\n",
       "      <td>183</td>\n",
       "      <td>20.33</td>\n",
       "      <td>105.78</td>\n",
       "      <td>2</td>\n",
       "      <td>12</td>\n",
       "      <td>5</td>\n",
       "      <td>12</td>\n",
       "      <td>5</td>\n",
       "      <td>7.38</td>\n",
       "      <td>32.00</td>\n",
       "      <td>26.00</td>\n",
       "    </tr>\n",
       "    <tr>\n",
       "      <th>99</th>\n",
       "      <td>100</td>\n",
       "      <td>55</td>\n",
       "      <td>977</td>\n",
       "      <td>20.79</td>\n",
       "      <td>114.94</td>\n",
       "      <td>4</td>\n",
       "      <td>76</td>\n",
       "      <td>33</td>\n",
       "      <td>37</td>\n",
       "      <td>25</td>\n",
       "      <td>6.71</td>\n",
       "      <td>26.84</td>\n",
       "      <td>24.00</td>\n",
       "    </tr>\n",
       "  </tbody>\n",
       "</table>\n",
       "<p>100 rows × 13 columns</p>\n",
       "</div>"
      ],
      "text/plain": [
       "    Allrounder_Rating  Innings_Bat_AllRounder  Runs_Scored_AllRounder  \\\n",
       "0                 213                      40                     844   \n",
       "1                 204                      54                    1576   \n",
       "2                 170                      21                     436   \n",
       "3                 159                      31                     601   \n",
       "4                 153                      29                     621   \n",
       "..                ...                     ...                     ...   \n",
       "95                160                      23                     173   \n",
       "96                150                      10                      67   \n",
       "97                408                      75                    1567   \n",
       "98                150                      13                     183   \n",
       "99                100                      55                     977   \n",
       "\n",
       "    Batting_Average_AllRounder  Batting_Strike_Rate_AllRounder  \\\n",
       "0                        24.11                          129.85   \n",
       "1                        35.02                          160.00   \n",
       "2                        24.22                          150.34   \n",
       "3                        20.72                           99.67   \n",
       "4                        27.00                          112.30   \n",
       "..                         ...                             ...   \n",
       "95                       12.36                          101.76   \n",
       "96                        9.57                          113.56   \n",
       "97                       23.74                          123.87   \n",
       "98                       20.33                          105.78   \n",
       "99                       20.79                          114.94   \n",
       "\n",
       "    Fifties_AllRounder  Fours_AllRounder  Sixes_AllRounder  \\\n",
       "0                    8                78                26   \n",
       "1                    9               135                81   \n",
       "2                    4                40                20   \n",
       "3                    4                68                14   \n",
       "4                    6                47                15   \n",
       "..                 ...               ...               ...   \n",
       "95                   2                 9                 5   \n",
       "96                   2                 7                 3   \n",
       "97                  11               165                33   \n",
       "98                   2                12                 5   \n",
       "99                   4                76                33   \n",
       "\n",
       "    Innings_As_Bowl_Allrounder  Wickets_AllRounder  Economy_AllRounder  \\\n",
       "0                           39                  32                7.21   \n",
       "1                           40                  26                7.49   \n",
       "2                           20                  19                7.41   \n",
       "3                           30                  35                6.48   \n",
       "4                           15                  21                6.38   \n",
       "..                         ...                 ...                 ...   \n",
       "95                          49                  39                7.10   \n",
       "96                          11                  11                6.80   \n",
       "97                          75                  92                6.81   \n",
       "98                          12                   5                7.38   \n",
       "99                          37                  25                6.71   \n",
       "\n",
       "    Bowling_Average_AllRounder  Bowling_Strike_Rate_AllRounder  \n",
       "0                        29.28                           24.38  \n",
       "1                        27.08                           21.69  \n",
       "2                        24.58                           19.89  \n",
       "3                        16.86                           15.60  \n",
       "4                        13.76                           12.95  \n",
       "..                         ...                             ...  \n",
       "95                       29.54                           24.95  \n",
       "96                       21.64                           19.09  \n",
       "97                       20.58                           18.12  \n",
       "98                       32.00                           26.00  \n",
       "99                       26.84                           24.00  \n",
       "\n",
       "[100 rows x 13 columns]"
      ]
     },
     "execution_count": 25,
     "metadata": {},
     "output_type": "execute_result"
    }
   ],
   "source": [
    "AllRounder_data.drop(['FiveWickets_AllRounder'],axis=1,inplace=True)\n",
    "AllRounder_data"
   ]
  },
  {
   "cell_type": "markdown",
   "metadata": {},
   "source": [
    "## Delete the rows which have 0 values"
   ]
  },
  {
   "cell_type": "code",
   "execution_count": 26,
   "metadata": {},
   "outputs": [
    {
     "data": {
      "text/html": [
       "<div>\n",
       "<style scoped>\n",
       "    .dataframe tbody tr th:only-of-type {\n",
       "        vertical-align: middle;\n",
       "    }\n",
       "\n",
       "    .dataframe tbody tr th {\n",
       "        vertical-align: top;\n",
       "    }\n",
       "\n",
       "    .dataframe thead th {\n",
       "        text-align: right;\n",
       "    }\n",
       "</style>\n",
       "<table border=\"1\" class=\"dataframe\">\n",
       "  <thead>\n",
       "    <tr style=\"text-align: right;\">\n",
       "      <th></th>\n",
       "      <th>Batsmen_Rating</th>\n",
       "      <th>Innings_Bat</th>\n",
       "      <th>Runs_Scored_Bat</th>\n",
       "      <th>Batting_Average_Bat</th>\n",
       "      <th>Batting_Strike_Rate_Bat</th>\n",
       "      <th>Fifties_Bat</th>\n",
       "      <th>Fours_Bat</th>\n",
       "      <th>Sixes_Bat</th>\n",
       "    </tr>\n",
       "  </thead>\n",
       "  <tbody>\n",
       "    <tr>\n",
       "      <th>0</th>\n",
       "      <td>879</td>\n",
       "      <td>38</td>\n",
       "      <td>1471</td>\n",
       "      <td>50.72</td>\n",
       "      <td>128.14</td>\n",
       "      <td>13</td>\n",
       "      <td>146</td>\n",
       "      <td>21</td>\n",
       "    </tr>\n",
       "    <tr>\n",
       "      <th>3</th>\n",
       "      <td>280</td>\n",
       "      <td>11</td>\n",
       "      <td>238</td>\n",
       "      <td>21.64</td>\n",
       "      <td>136.00</td>\n",
       "      <td>2</td>\n",
       "      <td>24</td>\n",
       "      <td>10</td>\n",
       "    </tr>\n",
       "    <tr>\n",
       "      <th>4</th>\n",
       "      <td>584</td>\n",
       "      <td>58</td>\n",
       "      <td>1665</td>\n",
       "      <td>32.65</td>\n",
       "      <td>125.00</td>\n",
       "      <td>11</td>\n",
       "      <td>170</td>\n",
       "      <td>36</td>\n",
       "    </tr>\n",
       "    <tr>\n",
       "      <th>5</th>\n",
       "      <td>721</td>\n",
       "      <td>54</td>\n",
       "      <td>1576</td>\n",
       "      <td>35.02</td>\n",
       "      <td>160.00</td>\n",
       "      <td>7</td>\n",
       "      <td>133</td>\n",
       "      <td>81</td>\n",
       "    </tr>\n",
       "    <tr>\n",
       "      <th>8</th>\n",
       "      <td>429</td>\n",
       "      <td>29</td>\n",
       "      <td>621</td>\n",
       "      <td>27.00</td>\n",
       "      <td>112.30</td>\n",
       "      <td>4</td>\n",
       "      <td>45</td>\n",
       "      <td>15</td>\n",
       "    </tr>\n",
       "    <tr>\n",
       "      <th>...</th>\n",
       "      <td>...</td>\n",
       "      <td>...</td>\n",
       "      <td>...</td>\n",
       "      <td>...</td>\n",
       "      <td>...</td>\n",
       "      <td>...</td>\n",
       "      <td>...</td>\n",
       "      <td>...</td>\n",
       "    </tr>\n",
       "    <tr>\n",
       "      <th>112</th>\n",
       "      <td>641</td>\n",
       "      <td>85</td>\n",
       "      <td>2536</td>\n",
       "      <td>32.51</td>\n",
       "      <td>134.61</td>\n",
       "      <td>15</td>\n",
       "      <td>226</td>\n",
       "      <td>119</td>\n",
       "    </tr>\n",
       "    <tr>\n",
       "      <th>113</th>\n",
       "      <td>687</td>\n",
       "      <td>86</td>\n",
       "      <td>2138</td>\n",
       "      <td>30.99</td>\n",
       "      <td>137.49</td>\n",
       "      <td>13</td>\n",
       "      <td>160</td>\n",
       "      <td>105</td>\n",
       "    </tr>\n",
       "    <tr>\n",
       "      <th>114</th>\n",
       "      <td>407</td>\n",
       "      <td>88</td>\n",
       "      <td>1992</td>\n",
       "      <td>25.22</td>\n",
       "      <td>116.63</td>\n",
       "      <td>11</td>\n",
       "      <td>208</td>\n",
       "      <td>52</td>\n",
       "    </tr>\n",
       "    <tr>\n",
       "      <th>115</th>\n",
       "      <td>509</td>\n",
       "      <td>89</td>\n",
       "      <td>1672</td>\n",
       "      <td>21.16</td>\n",
       "      <td>136.05</td>\n",
       "      <td>3</td>\n",
       "      <td>137</td>\n",
       "      <td>76</td>\n",
       "    </tr>\n",
       "    <tr>\n",
       "      <th>116</th>\n",
       "      <td>301</td>\n",
       "      <td>85</td>\n",
       "      <td>1617</td>\n",
       "      <td>37.60</td>\n",
       "      <td>126.13</td>\n",
       "      <td>2</td>\n",
       "      <td>116</td>\n",
       "      <td>52</td>\n",
       "    </tr>\n",
       "  </tbody>\n",
       "</table>\n",
       "<p>105 rows × 8 columns</p>\n",
       "</div>"
      ],
      "text/plain": [
       "     Batsmen_Rating  Innings_Bat  Runs_Scored_Bat  Batting_Average_Bat  \\\n",
       "0               879           38             1471                50.72   \n",
       "3               280           11              238                21.64   \n",
       "4               584           58             1665                32.65   \n",
       "5               721           54             1576                35.02   \n",
       "8               429           29              621                27.00   \n",
       "..              ...          ...              ...                  ...   \n",
       "112             641           85             2536                32.51   \n",
       "113             687           86             2138                30.99   \n",
       "114             407           88             1992                25.22   \n",
       "115             509           89             1672                21.16   \n",
       "116             301           85             1617                37.60   \n",
       "\n",
       "     Batting_Strike_Rate_Bat  Fifties_Bat  Fours_Bat  Sixes_Bat  \n",
       "0                     128.14           13        146         21  \n",
       "3                     136.00            2         24         10  \n",
       "4                     125.00           11        170         36  \n",
       "5                     160.00            7        133         81  \n",
       "8                     112.30            4         45         15  \n",
       "..                       ...          ...        ...        ...  \n",
       "112                   134.61           15        226        119  \n",
       "113                   137.49           13        160        105  \n",
       "114                   116.63           11        208         52  \n",
       "115                   136.05            3        137         76  \n",
       "116                   126.13            2        116         52  \n",
       "\n",
       "[105 rows x 8 columns]"
      ]
     },
     "execution_count": 26,
     "metadata": {},
     "output_type": "execute_result"
    }
   ],
   "source": [
    "Batsmen_data=Batsmen_data[Batsmen_data['Fifties_Bat'] !=0]\n",
    "Batsmen_data"
   ]
  },
  {
   "cell_type": "code",
   "execution_count": 27,
   "metadata": {},
   "outputs": [],
   "source": [
    "AllRounder_data=AllRounder_data[AllRounder_data['Fifties_AllRounder'] !=0]\n",
    "AllRounder_data=AllRounder_data[AllRounder_data['Fours_AllRounder'] !=0]"
   ]
  },
  {
   "cell_type": "markdown",
   "metadata": {},
   "source": [
    "### Visualize the Data"
   ]
  },
  {
   "cell_type": "code",
   "execution_count": 28,
   "metadata": {},
   "outputs": [
    {
     "data": {
      "image/png": "[encoded data removed]",
      "text/plain": [
       "<Figure size 432x288 with 1 Axes>"
      ]
     },
     "metadata": {},
     "output_type": "display_data"
    },
    {
     "data": {
      "image/png": "[encoded data removed]",
      "text/plain": [
       "<Figure size 432x288 with 1 Axes>"
      ]
     },
     "metadata": {},
     "output_type": "display_data"
    }
   ],
   "source": [
    "plt.hist(Batsmen_data['Batting_Average_Bat'],density=False, bins=30, label=\"Data\")\n",
    "plt.xlabel(\"Batting_Average_Batsmen\")\n",
    "plt.title(\"Histogram of Batting Averages for Batsmen\")\n",
    "plt.ylabel(\"Counts\")\n",
    "plt.show()\n",
    "\n",
    "plt.hist(AllRounder_data['Batting_Average_AllRounder'],density=False, bins=30, label=\"Data\")\n",
    "plt.xlabel(\"Batting_Average_AllRounder\")\n",
    "plt.ylabel(\"Counts\")\n",
    "plt.title(\"Histogram of Batting Averages for All Rounders\")\n",
    "plt.show()"
   ]
  },
  {
   "cell_type": "markdown",
   "metadata": {},
   "source": [
    "Observation: Batting Averages for Batsmen and AllRounders are Right Skewed"
   ]
  },
  {
   "cell_type": "code",
   "execution_count": 29,
   "metadata": {},
   "outputs": [
    {
     "data": {
      "image/png": "[encoded data removed]",
      "text/plain": [
       "<Figure size 432x288 with 1 Axes>"
      ]
     },
     "metadata": {},
     "output_type": "display_data"
    },
    {
     "data": {
      "image/png": "[encoded data removed]",
      "text/plain": [
       "<Figure size 432x288 with 1 Axes>"
      ]
     },
     "metadata": {},
     "output_type": "display_data"
    }
   ],
   "source": [
    "plt.hist(Batsmen_data['Runs_Scored_Bat'],density=False, bins=30, label=\"Data\")\n",
    "plt.xlabel(\"Runs_Scored_Bat\")\n",
    "plt.ylabel(\"Counts\")\n",
    "plt.title(\"Histogram of Runs Scored for Batsmen\")\n",
    "plt.show()\n",
    "\n",
    "plt.hist(AllRounder_data['Runs_Scored_AllRounder'],density=False, bins=40, label=\"Data\")\n",
    "plt.xlabel(\"Runs_Scored_AllRounder\")\n",
    "plt.ylabel(\"Counts\")\n",
    "plt.title(\"Histogram of Runs Scored for AllRounder\")\n",
    "plt.show()"
   ]
  },
  {
   "cell_type": "markdown",
   "metadata": {},
   "source": [
    "Observation: Runs Scored for Batsmen and AllRounders are Right Skewed"
   ]
  },
  {
   "cell_type": "code",
   "execution_count": 30,
   "metadata": {},
   "outputs": [
    {
     "data": {
      "image/png": "[encoded data removed]",
      "text/plain": [
       "<Figure size 432x288 with 1 Axes>"
      ]
     },
     "metadata": {},
     "output_type": "display_data"
    },
    {
     "data": {
      "image/png": "[encoded data removed]",
      "text/plain": [
       "<Figure size 432x288 with 1 Axes>"
      ]
     },
     "metadata": {},
     "output_type": "display_data"
    }
   ],
   "source": [
    "plt.hist(Batsmen_data['Batting_Strike_Rate_Bat'],density=False, bins=40, label=\"Data\")\n",
    "plt.xlabel(\"Batting_Strike_Rate_Bat\")\n",
    "plt.ylabel(\"Counts\")\n",
    "plt.title(\"Histogram of Batting Strike Rate for Batsmen\")\n",
    "plt.show()\n",
    "\n",
    "plt.hist(AllRounder_data['Batting_Strike_Rate_AllRounder'],density=False, bins=40, label=\"Data\")\n",
    "plt.xlabel(\"Batting_Strike_Rate_AllRounder\")\n",
    "plt.ylabel(\"Counts\")\n",
    "plt.title(\"Histogram of Batting Strike Rate for AllRounder\")\n",
    "plt.show()"
   ]
  },
  {
   "cell_type": "markdown",
   "metadata": {},
   "source": [
    "Observation: Batting Strike rate for Batsmen and AllRounders are approximately normally distributed"
   ]
  },
  {
   "cell_type": "code",
   "execution_count": 31,
   "metadata": {},
   "outputs": [
    {
     "data": {
      "image/png": "[encoded data removed]",
      "text/plain": [
       "<Figure size 432x288 with 1 Axes>"
      ]
     },
     "metadata": {},
     "output_type": "display_data"
    },
    {
     "data": {
      "image/png": "[encoded data removed]",
      "text/plain": [
       "<Figure size 432x288 with 1 Axes>"
      ]
     },
     "metadata": {},
     "output_type": "display_data"
    }
   ],
   "source": [
    "plt.hist(Batsmen_data['Fifties_Bat'],density=False, bins=40, label=\"Data\")\n",
    "plt.xlabel(\"Fifties_Bat\")\n",
    "plt.ylabel(\"Counts\")\n",
    "plt.title(\"Histogram of Number of Fifties Scored by Batsmen\")\n",
    "plt.show()\n",
    "\n",
    "plt.hist(AllRounder_data['Fifties_AllRounder'],density=False, bins=40, label=\"Data\")\n",
    "plt.xlabel(\"Fifties_AllRounder\")\n",
    "plt.ylabel(\"Counts\")\n",
    "plt.title(\"Histogram of Number of Fifties Scored by AllRounder\")\n",
    "plt.show()"
   ]
  },
  {
   "cell_type": "markdown",
   "metadata": {},
   "source": [
    "Observation: Number of Fifties Scored by Batsmen and AllRounders are Right Skewed"
   ]
  },
  {
   "cell_type": "code",
   "execution_count": 32,
   "metadata": {},
   "outputs": [
    {
     "data": {
      "image/png": "[encoded data removed]",
      "text/plain": [
       "<Figure size 432x288 with 1 Axes>"
      ]
     },
     "metadata": {},
     "output_type": "display_data"
    },
    {
     "data": {
      "image/png": "[encoded data removed]",
      "text/plain": [
       "<Figure size 432x288 with 1 Axes>"
      ]
     },
     "metadata": {},
     "output_type": "display_data"
    }
   ],
   "source": [
    "plt.hist(Batsmen_data['Fours_Bat'],density=False, bins=40, label=\"Data\")\n",
    "plt.xlabel(\"Fours_Bat\")\n",
    "plt.ylabel(\"Counts\")\n",
    "plt.title(\"Histogram of Number of Fours Scored by Batsmen\")\n",
    "plt.show()\n",
    "\n",
    "plt.hist(AllRounder_data['Fours_AllRounder'],density=False, bins=40, label=\"Data\")\n",
    "plt.xlabel(\"Fours_AllRounder\")\n",
    "plt.ylabel(\"Counts\")\n",
    "plt.title(\"Histogram of Number of Fours Scored by AllRounder\")\n",
    "plt.show()"
   ]
  },
  {
   "cell_type": "markdown",
   "metadata": {},
   "source": [
    "Observation: Number of Fours Scored by Batsmen and AllRounders are Right Skewed"
   ]
  },
  {
   "cell_type": "code",
   "execution_count": 33,
   "metadata": {},
   "outputs": [
    {
     "data": {
      "image/png": "[encoded data removed]",
      "text/plain": [
       "<Figure size 432x288 with 1 Axes>"
      ]
     },
     "metadata": {},
     "output_type": "display_data"
    },
    {
     "data": {
      "image/png": "[encoded data removed]",
      "text/plain": [
       "<Figure size 432x288 with 1 Axes>"
      ]
     },
     "metadata": {},
     "output_type": "display_data"
    }
   ],
   "source": [
    "plt.hist(Batsmen_data['Sixes_Bat'],density=False, bins=40, label=\"Data\")\n",
    "plt.xlabel(\"Sixes_Bat\")\n",
    "plt.ylabel(\"Counts\")\n",
    "plt.title(\"Histogram of Number of Sixes Scored by Batsmen\")\n",
    "plt.show()\n",
    "\n",
    "plt.hist(AllRounder_data['Sixes_AllRounder'],density=False, bins=40, label=\"Data\")\n",
    "plt.xlabel(\"Sixes_AllRounder\")\n",
    "plt.ylabel(\"Counts\")\n",
    "plt.title(\"Histogram of Number of Sixes Scored by AllRounder\")\n",
    "plt.show()"
   ]
  },
  {
   "cell_type": "markdown",
   "metadata": {},
   "source": [
    "Observation: Number of Sixes Scored by Batsmen and AllRounders are Right Skewed"
   ]
  },
  {
   "cell_type": "code",
   "execution_count": 34,
   "metadata": {},
   "outputs": [
    {
     "data": {
      "image/png": "[encoded data removed]",
      "text/plain": [
       "<Figure size 432x288 with 1 Axes>"
      ]
     },
     "metadata": {},
     "output_type": "display_data"
    },
    {
     "data": {
      "image/png": "[encoded data removed]",
      "text/plain": [
       "<Figure size 432x288 with 1 Axes>"
      ]
     },
     "metadata": {},
     "output_type": "display_data"
    }
   ],
   "source": [
    "plt.hist(Bowler_data['Wickets_Bowl'],density=False, bins=40, label=\"Data\")\n",
    "plt.xlabel(\"Wickets_Bowl\")\n",
    "plt.ylabel(\"Counts\")\n",
    "plt.title(\"Histogram of Wickets Taken by Bowlers\")\n",
    "plt.show()\n",
    "\n",
    "plt.hist(AllRounder_data['Wickets_AllRounder'],density=False, bins=40, label=\"Data\")\n",
    "plt.xlabel(\"Wickets_AllRounder\")\n",
    "plt.ylabel(\"Counts\")\n",
    "plt.title(\"Histogram of Wickets Taken by AllRounders\")\n",
    "plt.show()"
   ]
  },
  {
   "cell_type": "markdown",
   "metadata": {},
   "source": [
    "Observation: Number of Wickets Taken by Bowlers and AllRounders are Right Skewed"
   ]
  },
  {
   "cell_type": "code",
   "execution_count": 35,
   "metadata": {},
   "outputs": [
    {
     "data": {
      "image/png": "[encoded data removed]",
      "text/plain": [
       "<Figure size 432x288 with 1 Axes>"
      ]
     },
     "metadata": {},
     "output_type": "display_data"
    },
    {
     "data": {
      "image/png": "[encoded data removed]",
      "text/plain": [
       "<Figure size 432x288 with 1 Axes>"
      ]
     },
     "metadata": {},
     "output_type": "display_data"
    }
   ],
   "source": [
    "plt.hist(Bowler_data['Economy_Bowl'],density=False, bins=40, label=\"Data\")\n",
    "plt.xlabel(\"Economy_Bowl\")\n",
    "plt.ylabel(\"Counts\")\n",
    "plt.title(\"Histogram of Economy of Bowlers\")\n",
    "plt.show()\n",
    "\n",
    "plt.hist(AllRounder_data['Economy_AllRounder'],density=False, bins=40, label=\"Data\")\n",
    "plt.xlabel(\"Economy_AllRounder\")\n",
    "plt.ylabel(\"Counts\")\n",
    "plt.title(\"Histogram of Economy of AllRounders\")\n",
    "plt.show()"
   ]
  },
  {
   "cell_type": "markdown",
   "metadata": {},
   "source": [
    "Observation: Economy of Bowlers and AllRounders are approximately normally distributed"
   ]
  },
  {
   "cell_type": "code",
   "execution_count": 36,
   "metadata": {},
   "outputs": [
    {
     "data": {
      "image/png": "[encoded data removed]",
      "text/plain": [
       "<Figure size 432x288 with 1 Axes>"
      ]
     },
     "metadata": {},
     "output_type": "display_data"
    },
    {
     "data": {
      "image/png": "[encoded data removed]",
      "text/plain": [
       "<Figure size 432x288 with 1 Axes>"
      ]
     },
     "metadata": {},
     "output_type": "display_data"
    }
   ],
   "source": [
    "plt.hist(Bowler_data['Bowling_Average_Bowl'],density=False, bins=40, label=\"Data\")\n",
    "plt.xlabel(\"Bowling_Average_Bowl\")\n",
    "plt.ylabel(\"Counts\")\n",
    "plt.title(\"Histogram of Bowling Average of Bowlers\")\n",
    "plt.show()\n",
    "\n",
    "plt.hist(AllRounder_data['Bowling_Average_AllRounder'],density=False, bins=40, label=\"Data\")\n",
    "plt.xlabel(\"Bowling_Average_AllRounder\")\n",
    "plt.ylabel(\"Counts\")\n",
    "plt.title(\"Histogram of Bowling Average of AllRounders\")\n",
    "plt.show()"
   ]
  },
  {
   "cell_type": "markdown",
   "metadata": {},
   "source": [
    "Observation: Bowling Average of Bowlers is approximately normally distributed whereas the Bowling Average of AllRounders is Right Skewed"
   ]
  },
  {
   "cell_type": "code",
   "execution_count": 37,
   "metadata": {},
   "outputs": [
    {
     "data": {
      "image/png": "[encoded data removed]",
      "text/plain": [
       "<Figure size 432x288 with 1 Axes>"
      ]
     },
     "metadata": {},
     "output_type": "display_data"
    },
    {
     "data": {
      "image/png": "[encoded data removed]",
      "text/plain": [
       "<Figure size 432x288 with 1 Axes>"
      ]
     },
     "metadata": {},
     "output_type": "display_data"
    }
   ],
   "source": [
    "plt.hist(Bowler_data['Bowling_Strike_Rate_Bowl'],density=False, bins=40, label=\"Data\")\n",
    "plt.xlabel(\"Bowling_Strike_Rate_Bowl\")\n",
    "plt.ylabel(\"Counts\")\n",
    "plt.title(\"Histogram of Bowling Strike Rate of Bowlers\")\n",
    "plt.show()\n",
    "\n",
    "plt.hist(AllRounder_data['Bowling_Strike_Rate_AllRounder'],density=False, bins=40, label=\"Data\")\n",
    "plt.xlabel(\"Bowling_Strike_Rate_AllRounder\")\n",
    "plt.ylabel(\"Counts\")\n",
    "plt.title(\"Histogram of Bowling Strike Rate of AllRounders\")\n",
    "plt.show()"
   ]
  },
  {
   "cell_type": "markdown",
   "metadata": {},
   "source": [
    "Observation: Bowling Strike Rate of Bowlers is approximately normally distributed whereas the Bowling Average of AllRounders is Right Skewed"
   ]
  },
  {
   "cell_type": "markdown",
   "metadata": {},
   "source": [
    "### We have skewness in the data and the models are not working properly. So, lets apply log transformation"
   ]
  },
  {
   "cell_type": "markdown",
   "metadata": {},
   "source": [
    "#### Using Log Transformation"
   ]
  },
  {
   "cell_type": "code",
   "execution_count": 38,
   "metadata": {},
   "outputs": [],
   "source": [
    "x = Batsmen_data.values\n",
    "x_log = np.log(x)\n",
    "df_log = pd.DataFrame(x_log)\n",
    "df_log.columns=[\"a\",\"b\",\"c\",\"d\",\"e\",\"f\",\"g\",\"h\"]"
   ]
  },
  {
   "cell_type": "code",
   "execution_count": 39,
   "metadata": {},
   "outputs": [
    {
     "data": {
      "image/png": "[encoded data removed]",
      "text/plain": [
       "<Figure size 432x288 with 1 Axes>"
      ]
     },
     "metadata": {},
     "output_type": "display_data"
    }
   ],
   "source": [
    "plt.hist(df_log[\"d\"],density=False, bins=30, label=\"Data\")\n",
    "plt.xlabel(\"Batting_Average_Batsmen_Log\")\n",
    "plt.title(\"Histogram of Batting Averages for Batsmen\")\n",
    "plt.ylabel(\"Counts\")\n",
    "plt.show()"
   ]
  },
  {
   "cell_type": "code",
   "execution_count": 40,
   "metadata": {},
   "outputs": [
    {
     "name": "stdout",
     "output_type": "stream",
     "text": [
      "Skewness with Original Data: 1.2361652222314674\n",
      "Skewness with LogTransformed Data: 0.5901060919379084\n"
     ]
    }
   ],
   "source": [
    "bat_avg_Batsmen=Batsmen_data['Batting_Average_Bat']\n",
    "print(\"Skewness with Original Data:\",bat_avg_Batsmen.skew())\n",
    "bat_avg_Batsmen_log=df_log['d']\n",
    "print(\"Skewness with LogTransformed Data:\",bat_avg_Batsmen_log.skew())"
   ]
  },
  {
   "cell_type": "markdown",
   "metadata": {},
   "source": [
    "### Skewness was greately reduced using Log Transformation. So apply Log Transformtaion to our data before building the models"
   ]
  },
  {
   "cell_type": "code",
   "execution_count": 41,
   "metadata": {},
   "outputs": [],
   "source": [
    "Batsmen_data.to_csv(\"Batsmen_Data_After_Processing.csv\",index = False)\n",
    "Bowler_data.to_csv(\"Bowler_Data_After_Processing.csv\",index=False)\n",
    "AllRounder_data.to_csv(\"AllRounder_Data_After_Processing.csv\",index=False)"
   ]
  },
  {
   "cell_type": "markdown",
   "metadata": {},
   "source": [
    "## Models:"
   ]
  },
  {
   "cell_type": "code",
   "execution_count": 42,
   "metadata": {},
   "outputs": [],
   "source": [
    "def sklearnSGDRegressor(Xtrn,ytrn,Xcv,ycv,epochs):\n",
    "    iters=epochs\n",
    "    rmse_train_SGD=[]\n",
    "    rmse_cv_SGD=[]\n",
    "\n",
    "    SGDReg_sklearn_train_table=PrettyTable()\n",
    "    SGDReg_sklearn_train_table.field_names = [\"Epochs\",\"Train Error\"]\n",
    "    SGDReg_sklearn_cv_table=PrettyTable()\n",
    "    SGDReg_sklearn_cv_table.field_names = [\"Epochs\",\"CV Error\"]\n",
    "\n",
    "    best_epoch_train_SGD_sklearn=0\n",
    "    best_rmse_train_SGD_sklearn=float('inf')\n",
    "\n",
    "    best_epoch_cv_SGD_sklearn=0\n",
    "    best_rmse_cv_SGD_sklearn=float('inf')\n",
    "\n",
    "    for i in iters:\n",
    "        sgd_reg_train = SGDRegressor(shuffle = False,max_iter = i)\n",
    "        sgd_reg_train.fit(Xtrn, ytrn)\n",
    "        y_pred_trn_sgd_sklearn = sgd_reg_train.predict(Xtrn)\n",
    "        y_pred_cv_sgd_sklearn = sgd_reg_train.predict(Xcv)\n",
    "        rmse_train_SGD.append(math.sqrt(mean_squared_error(ytrn,y_pred_trn_sgd_sklearn)))\n",
    "        rmse_cv_SGD.append(math.sqrt(mean_squared_error(ycv,y_pred_cv_sgd_sklearn)))\n",
    "        SGDReg_sklearn_train_table.add_row([i,math.sqrt(mean_squared_error(ytrn,y_pred_trn_sgd_sklearn))])\n",
    "        SGDReg_sklearn_cv_table.add_row([i,math.sqrt(mean_squared_error(ycv,y_pred_cv_sgd_sklearn))])\n",
    "        if(math.sqrt(mean_squared_error(ytrn,y_pred_trn_sgd_sklearn))<best_rmse_train_SGD_sklearn):\n",
    "            best_epoch_train_SGD_sklearn=i\n",
    "            best_rmse_train_SGD_sklearn=math.sqrt(mean_squared_error(ytrn,y_pred_trn_sgd_sklearn))\n",
    "        if(math.sqrt(mean_squared_error(ycv,y_pred_cv_sgd_sklearn))<best_rmse_cv_SGD_sklearn):\n",
    "            best_epoch_cv_SGD_sklearn=i\n",
    "            best_rmse_cv_SGD_sklearn=math.sqrt(mean_squared_error(ycv,y_pred_cv_sgd_sklearn))\n",
    "        \n",
    "    plt.plot(iters,rmse_train_SGD,label=\"Train RMSE\")\n",
    "    plt.plot(iters,rmse_cv_SGD,label=\"CV RMSE\")\n",
    "    plt.title(\"RMSE with epochs\")\n",
    "    plt.xlabel(\"epochs: Hyperparameter\")\n",
    "    plt.ylabel(\"RMSE\")\n",
    "    plt.legend()\n",
    "    plt.show()\n",
    "\n",
    "    print(SGDReg_sklearn_train_table)\n",
    "    print(SGDReg_sklearn_cv_table)\n",
    "    print(\"Best No.of Epochs is:\",best_epoch_cv_SGD_sklearn)\n",
    "    return best_epoch_cv_SGD_sklearn"
   ]
  },
  {
   "cell_type": "code",
   "execution_count": 43,
   "metadata": {},
   "outputs": [],
   "source": [
    "def SGDRegressionOwn(train_data,learning_rate,total_iter,k):\n",
    "    num_iter=1\n",
    "    weights=np.zeros(shape=(1,train_data.shape[1]-1))\n",
    "    intercept=0\n",
    "    while(num_iter<=total_iter):\n",
    "        sample_data=train_data.sample(k,replace=True)\n",
    "        y=np.array(sample_data['regresult'])\n",
    "        x=np.array(sample_data.drop('regresult',axis=1))\n",
    "        w_gradient=np.zeros(shape=(1,train_data.shape[1]-1))\n",
    "        b_gradient=0\n",
    "        for i in range(k):\n",
    "            error=y[i]-np.dot(weights,x[i])-intercept\n",
    "            w_gradient=w_gradient+(-2)*x[i]*error\n",
    "            b_gradient=b_gradient+(-2)*(error)\n",
    "        weights=weights-learning_rate*(w_gradient/k)\n",
    "        intercept=intercept-learning_rate*(b_gradient/k)\n",
    "        num_iter+=1\n",
    "    \n",
    "    return weights,intercept"
   ]
  },
  {
   "cell_type": "code",
   "execution_count": 44,
   "metadata": {},
   "outputs": [],
   "source": [
    "def predictSGDOwn(x,w,b):\n",
    "    y_pred=[]\n",
    "    for i in range(len(x)):\n",
    "        y=np.asscalar(np.dot(w,x[i])+b)\n",
    "        y_pred.append(y)\n",
    "    return np.array(y_pred)"
   ]
  },
  {
   "cell_type": "code",
   "execution_count": 45,
   "metadata": {},
   "outputs": [],
   "source": [
    "def SGDRegressionOwnTraining(Xtrn,ytrn,Xcv,ycv,epochs):\n",
    "    iters=[10,100,200,400,800,1600,2000]\n",
    "    rmse_train_SGD_Own=[]\n",
    "    rmse_cv_SGD_Own=[]\n",
    "    \n",
    "    train_data=pd.DataFrame(Xtrn)\n",
    "    train_data['regresult']=ytrn\n",
    "    \n",
    "    SGDReg_own_train_table=PrettyTable()\n",
    "    SGDReg_own_train_table.field_names = [\"Epochs\",\"Train Error\"]\n",
    "    \n",
    "    SGDReg_own_cv_table=PrettyTable()\n",
    "    SGDReg_own_cv_table.field_names = [\"Epochs\",\"CV Error\"]\n",
    "\n",
    "    best_epoch_train_SGD_Own=0\n",
    "    best_rmse_train_SGD_Own=float('inf')\n",
    "\n",
    "    best_epoch_cv_SGD_Own=0\n",
    "    best_rmse_cv_SGD_Own=float('inf')\n",
    "\n",
    "    for i in iters:\n",
    "        w,b = SGDRegressionOwn(train_data,learning_rate=0.01,total_iter=i,k=10)\n",
    "        y_pred_trn_sgd_own = predictSGDOwn(Xtrn,w,b)\n",
    "        y_pred_cv_sgd_own = predictSGDOwn(Xcv,w,b)\n",
    "        rmse_train_SGD_Own.append(math.sqrt(mean_squared_error(ytrn,y_pred_trn_sgd_own)))\n",
    "        rmse_cv_SGD_Own.append(math.sqrt(mean_squared_error(ycv,y_pred_cv_sgd_own)))\n",
    "        SGDReg_own_train_table.add_row([i,math.sqrt(mean_squared_error(ytrn,y_pred_trn_sgd_own))])\n",
    "        SGDReg_own_cv_table.add_row([i,math.sqrt(mean_squared_error(ycv,y_pred_cv_sgd_own))])\n",
    "        if(math.sqrt(mean_squared_error(ytrn,y_pred_trn_sgd_own))<best_rmse_train_SGD_Own):\n",
    "            best_epoch_train_SGD_Own=i\n",
    "            best_rmse_train_SGD_Own=math.sqrt(mean_squared_error(ytrn,y_pred_trn_sgd_own))\n",
    "        if(math.sqrt(mean_squared_error(ycv,y_pred_cv_sgd_own))<best_rmse_cv_SGD_Own):\n",
    "            best_epoch_cv_SGD_Own=i\n",
    "            best_rmse_cv_SGD_Own=math.sqrt(mean_squared_error(ycv,y_pred_cv_sgd_own))\n",
    "    plt.plot(epochs,rmse_train_SGD_Own,label=\"Train RMSE\")\n",
    "    plt.plot(epochs,rmse_cv_SGD_Own,label=\"CV RMSE\")\n",
    "    plt.title(\"RMSE with epochs\")\n",
    "    plt.xlabel(\"epochs: Hyperparameter\")\n",
    "    plt.ylabel(\"RMSE\")\n",
    "    plt.legend()\n",
    "    plt.show()\n",
    "    print(SGDReg_own_train_table)\n",
    "    print(SGDReg_own_cv_table)\n",
    "\n",
    "    print(\"Best No.of Epochs is:\",best_epoch_cv_SGD_Own)\n",
    "    return best_epoch_cv_SGD_Own"
   ]
  },
  {
   "cell_type": "code",
   "execution_count": 46,
   "metadata": {},
   "outputs": [],
   "source": [
    "def LinearRegressionLSM(Xtrn,ytrn,shape):\n",
    "    Xtrn=np.concatenate([np.ones((Xtrn.shape[0],1),dtype=Xtrn.dtype),Xtrn], axis=1)\n",
    "    transpose=Xtrn.transpose()\n",
    "    prod=np.matmul(transpose,Xtrn)\n",
    "    prod = prod+0.00001*np.random.rand(shape, shape)\n",
    "    inverse = np.linalg.inv(prod)\n",
    "    ytrn=ytrn.reshape(-1,1)\n",
    "    we=np.matmul(inverse,transpose)\n",
    "    we=we.dot(ytrn)\n",
    "    return we"
   ]
  },
  {
   "cell_type": "code",
   "execution_count": 47,
   "metadata": {},
   "outputs": [],
   "source": [
    "def predict_LSM(x,we):\n",
    "    x=np.concatenate([np.ones((x.shape[0],1),dtype=x.dtype),x], axis=1)\n",
    "    yhat=x.dot(we)\n",
    "    return yhat"
   ]
  },
  {
   "cell_type": "code",
   "execution_count": 48,
   "metadata": {},
   "outputs": [],
   "source": [
    "def sklearnKNNRegressor(Xtrn,ytrn,Xcv,ycv,neighbors):\n",
    "    no_of_neighbors=neighbors\n",
    "    rmse_train_KNN=[]\n",
    "    rmse_cv_KNN=[]\n",
    "\n",
    "    KNNReg_sklearn_train_table=PrettyTable()\n",
    "    KNNReg_sklearn_train_table.field_names = [\"Neighbors\",\"Train Error\"]\n",
    "\n",
    "    KNNReg_sklearn_cv_table=PrettyTable()\n",
    "    KNNReg_sklearn_cv_table.field_names = [\"Neighbors\",\"CV Error\"]\n",
    "\n",
    "    best_neighbors_train_KNN_sklearn=0\n",
    "    best_rmse_train_KNN_sklearn=float('inf')\n",
    "\n",
    "    best_neighbors_cv_KNN_sklearn=0\n",
    "    best_rmse_cv_KNN_sklearn=float('inf')\n",
    "\n",
    "    for i in no_of_neighbors:\n",
    "        knn_reg_train = KNeighborsRegressor(n_neighbors=i)\n",
    "        knn_reg_train.fit(Xtrn, ytrn)\n",
    "        y_pred_trn_KNN_sklearn = knn_reg_train.predict(Xtrn)\n",
    "        y_pred_cv_KNN_sklearn = knn_reg_train.predict(Xcv)\n",
    "        rmse_train_KNN.append(math.sqrt(mean_squared_error(ytrn,y_pred_trn_KNN_sklearn)))\n",
    "        rmse_cv_KNN.append(math.sqrt(mean_squared_error(ycv,y_pred_cv_KNN_sklearn)))\n",
    "        KNNReg_sklearn_train_table.add_row([i,math.sqrt(mean_squared_error(ytrn,y_pred_trn_KNN_sklearn))])\n",
    "        KNNReg_sklearn_cv_table.add_row([i,math.sqrt(mean_squared_error(ycv,y_pred_cv_KNN_sklearn))])\n",
    "        if(math.sqrt(mean_squared_error(ytrn,y_pred_trn_KNN_sklearn))<best_rmse_train_KNN_sklearn):\n",
    "            best_neighbors_train_KNN_sklearn=i\n",
    "            best_rmse_train_KNN_sklearn=math.sqrt(mean_squared_error(ytrn,y_pred_trn_KNN_sklearn))\n",
    "        if(math.sqrt(mean_squared_error(ycv,y_pred_cv_KNN_sklearn))<best_rmse_cv_KNN_sklearn):\n",
    "            best_neighbors_cv_KNN_sklearn=i\n",
    "            best_rmse_cv_KNN_sklearn=math.sqrt(mean_squared_error(ycv,y_pred_cv_KNN_sklearn))\n",
    "    plt.plot(no_of_neighbors,rmse_train_KNN,label=\"Train RMSE\")\n",
    "    plt.plot(no_of_neighbors,rmse_cv_KNN,label=\"CV RMSE\")\n",
    "    plt.title(\"RMSE with Neighbors\")\n",
    "    plt.xlabel(\"Neighbors: Hyperparameter\")\n",
    "    plt.ylabel(\"RMSE\")\n",
    "    plt.legend()\n",
    "    plt.show()\n",
    "    print(KNNReg_sklearn_train_table)\n",
    "    print(KNNReg_sklearn_cv_table)\n",
    "    print(\"Best No.of Neighbors is:\",best_neighbors_cv_KNN_sklearn)\n",
    "    return best_neighbors_cv_KNN_sklearn"
   ]
  },
  {
   "cell_type": "code",
   "execution_count": 49,
   "metadata": {},
   "outputs": [],
   "source": [
    "def euclidean_dist(x,xq):\n",
    "    sum_dist=0\n",
    "    dist=0\n",
    "    for i in range(len(x)):\n",
    "        sum_dist+=pow((x[i]-xq[i]),2)\n",
    "        dist=math.sqrt(sum_dist)\n",
    "    return dist"
   ]
  },
  {
   "cell_type": "code",
   "execution_count": 50,
   "metadata": {},
   "outputs": [],
   "source": [
    "def KNNRegressionOwn(Xtrn,ytrn,n_neighbors,xq):\n",
    "    nearest_points_indeces=[]\n",
    "    distances={}\n",
    "    sorted_distances={}\n",
    "    Yhat=[]\n",
    "    Ytrue=[]\n",
    "    n=0\n",
    "    for i in range(xq.shape[0]):\n",
    "        for j in range(Xtrn.shape[0]):\n",
    "            distances[j]=euclidean_dist(xq[i],Xtrn[j])\n",
    "        sorted_distances=sorted(distances.items(), key=lambda x: x[1])\n",
    "        near_points = dict(itertools.islice(dict(sorted_distances).items(), n_neighbors)) \n",
    "        for k in near_points:\n",
    "            nearest_points_indeces.append(k)\n",
    "        for p in range(len(nearest_points_indeces)):\n",
    "            Ytrue.append(ytrn[nearest_points_indeces[p]])\n",
    "        Yhat.append(sum(Ytrue)/len(Ytrue))\n",
    "        nearest_points_indeces=[]\n",
    "        distances={}\n",
    "        Ytrue=[]\n",
    "    return Yhat\n"
   ]
  },
  {
   "cell_type": "code",
   "execution_count": 51,
   "metadata": {},
   "outputs": [],
   "source": [
    "def KNNRegressorOwnTraining(Xtrn,ytrn,Xcv,ycv,neighbors):\n",
    "    no_of_neighbors=neighbors\n",
    "    rmse_train_KNN_Own=[]\n",
    "    rmse_cv_KNN_Own=[]\n",
    "\n",
    "    KNNReg_own_train_table=PrettyTable()\n",
    "    KNNReg_own_train_table.field_names = [\"Neighbors\",\"Train Error\"]\n",
    "\n",
    "    KNNReg_own_cv_table=PrettyTable()\n",
    "    KNNReg_own_cv_table.field_names = [\"Neighbors\",\"CV Error\"]\n",
    "\n",
    "    best_neighbors_train_KNN_own=0\n",
    "    best_rmse_train_KNN_own=float('inf')\n",
    "\n",
    "    best_neighbors_cv_KNN_own=0\n",
    "    best_rmse_cv_KNN_own=float('inf')\n",
    "\n",
    "    for i in neighbors:\n",
    "        y_pred_trn_knn_own = KNNRegressionOwn(Xtrn,ytrn,i,Xtrn)\n",
    "        y_pred_cv_knn_own = KNNRegressionOwn(Xtrn,ytrn,i,Xcv)\n",
    " \n",
    "        rmse_train_KNN_Own.append(math.sqrt(mean_squared_error(ytrn,y_pred_trn_knn_own)))\n",
    "        rmse_cv_KNN_Own.append(math.sqrt(mean_squared_error(ycv,y_pred_cv_knn_own)))\n",
    "\n",
    "        KNNReg_own_train_table.add_row([i,math.sqrt(mean_squared_error(ytrn,y_pred_trn_knn_own))])\n",
    "        KNNReg_own_cv_table.add_row([i,math.sqrt(mean_squared_error(ycv,y_pred_cv_knn_own))])\n",
    "    \n",
    "        if(math.sqrt(mean_squared_error(ytrn,y_pred_trn_knn_own))<best_rmse_train_KNN_own):\n",
    "            best_neighbors_train_KNN_own=i\n",
    "            best_rmse_train_KNN_own=math.sqrt(mean_squared_error(ytrn,y_pred_trn_knn_own))\n",
    "        if(math.sqrt(mean_squared_error(ycv,y_pred_cv_knn_own))<best_rmse_cv_KNN_own):\n",
    "            best_neighbors_cv_KNN_own=i\n",
    "            best_rmse_cv_KNN_own=math.sqrt(mean_squared_error(ycv,y_pred_cv_knn_own))\n",
    "    plt.plot(neighbors,rmse_train_KNN_Own,label=\"Train RMSE\")\n",
    "    plt.plot(neighbors,rmse_cv_KNN_Own,label=\"CV RMSE\")\n",
    "    plt.title(\"RMSE with Neighbors\")\n",
    "    plt.xlabel(\"Neighbors: Hyperparameter\")\n",
    "    plt.ylabel(\"RMSE\")\n",
    "    plt.legend()\n",
    "    plt.show()\n",
    "    print(KNNReg_own_train_table)\n",
    "    print(KNNReg_own_cv_table)\n",
    "    print(\"Best No.of Neighbors is:\",best_neighbors_cv_KNN_own)\n",
    "    return best_neighbors_cv_KNN_own"
   ]
  },
  {
   "cell_type": "code",
   "execution_count": 52,
   "metadata": {},
   "outputs": [],
   "source": [
    "def KNNRegressionOwnWeighted(Xtrn,ytrn,n_neighbors,xq):\n",
    "    nearest_points_indeces=[]\n",
    "    distances={}\n",
    "    sorted_distances={}\n",
    "    Yhat=[]\n",
    "    Ytrue=[]\n",
    "    weights=[]\n",
    "    sum_weights=0\n",
    "    pred=0\n",
    "    n=0\n",
    "    for i in range(xq.shape[0]):\n",
    "        for j in range(Xtrn.shape[0]):\n",
    "            distances[j]=euclidean_dist(xq[i],Xtrn[j])\n",
    "        sorted_distances=sorted(distances.items(), key=lambda x: x[1])\n",
    "        near_points = dict(itertools.islice(dict(sorted_distances).items(), n_neighbors)) \n",
    "        for k,v in near_points.items():\n",
    "            nearest_points_indeces.append(k)\n",
    "            weights.append(1/((v*v)+0.0001))\n",
    "        for p in range(len(nearest_points_indeces)):\n",
    "            Ytrue.append(ytrn[nearest_points_indeces[p]])\n",
    "        for s in range(len(Ytrue)):\n",
    "            pred+=Ytrue[s]*weights[s]\n",
    "        sum_weights=sum(weights)    \n",
    "        Yhat.append(pred/sum_weights)\n",
    "        nearest_points_indeces=[]\n",
    "        distances={}\n",
    "        Ytrue=[]\n",
    "        weights=[]\n",
    "        sum_weights=0\n",
    "        pred=0\n",
    "    return Yhat\n"
   ]
  },
  {
   "cell_type": "code",
   "execution_count": 53,
   "metadata": {},
   "outputs": [],
   "source": [
    "def KNNRegressionOwnWeightedTraining(Xtrn,ytrn,Xcv,ycv,neighbors):\n",
    "    no_of_neighbors=neighbors\n",
    "    rmse_train_KNN_Weighted_Own=[]\n",
    "    rmse_cv_KNN_Weighted_Own=[]\n",
    "\n",
    "    KNN_Weighted_own_train_table=PrettyTable()\n",
    "    KNN_Weighted_own_train_table.field_names = [\"Neighbors\",\"Train Error\"]\n",
    "\n",
    "    KNN_Weighted_own_cv_table=PrettyTable()\n",
    "    KNN_Weighted_own_cv_table.field_names = [\"Neighbors\",\"CV Error\"]\n",
    "\n",
    "    best_neighbors_train_KNN_Weighted_own=0\n",
    "    best_neighbors_cv_KNN_Weighted_own=0\n",
    "\n",
    "    best_rmse_train_KNN_Weighted_own=float('inf')\n",
    "    best_rmse_cv_KNN_Weighted_own=float('inf')\n",
    "\n",
    "    for i in no_of_neighbors:\n",
    "        y_pred_trn_knn_weighted_own = KNNRegressionOwnWeighted(Xtrn,ytrn,i,Xtrn)\n",
    "        y_pred_cv_knn_weighted_own = KNNRegressionOwnWeighted(Xtrn,ytrn,i,Xcv)\n",
    " \n",
    "        rmse_train_KNN_Weighted_Own.append(math.sqrt(mean_squared_error(ytrn,y_pred_trn_knn_weighted_own)))\n",
    "        rmse_cv_KNN_Weighted_Own.append(math.sqrt(mean_squared_error(ycv,y_pred_cv_knn_weighted_own)))\n",
    "    \n",
    "        KNN_Weighted_own_train_table.add_row([i,math.sqrt(mean_squared_error(ytrn,y_pred_trn_knn_weighted_own))])\n",
    "        KNN_Weighted_own_cv_table.add_row([i,math.sqrt(mean_squared_error(ycv,y_pred_cv_knn_weighted_own))])\n",
    "    \n",
    "        if(math.sqrt(mean_squared_error(ytrn,y_pred_trn_knn_weighted_own))<best_rmse_train_KNN_Weighted_own):\n",
    "            best_neighbors_train_KNN_Weighted_own=i\n",
    "            best_rmse_train_KNN_Weighted_own=math.sqrt(mean_squared_error(ytrn,y_pred_trn_knn_weighted_own))\n",
    "        if(math.sqrt(mean_squared_error(ycv,y_pred_cv_knn_weighted_own))<best_rmse_cv_KNN_Weighted_own):\n",
    "            best_neighbors_cv_KNN_Weighted_own=i\n",
    "            best_rmse_cv_KNN_Weighted_own=math.sqrt(mean_squared_error(ycv,y_pred_cv_knn_weighted_own))\n",
    "\n",
    "    plt.plot(neighbors,rmse_train_KNN_Weighted_Own,label=\"Train RMSE\")\n",
    "    plt.plot(neighbors,rmse_cv_KNN_Weighted_Own,label=\"CV RMSE\")\n",
    "    plt.title(\"RMSE with Neighbors\")\n",
    "    plt.xlabel(\"Neighbors: Hyperparameter\")\n",
    "    plt.ylabel(\"RMSE\")\n",
    "    plt.legend()\n",
    "    plt.show()\n",
    "    print(KNN_Weighted_own_train_table)\n",
    "    print(KNN_Weighted_own_cv_table)\n",
    "    print(\"Best No.of Neighbors is:\",best_neighbors_cv_KNN_Weighted_own)\n",
    "    return best_neighbors_cv_KNN_Weighted_own"
   ]
  },
  {
   "cell_type": "markdown",
   "metadata": {},
   "source": [
    "### Executing the above defined models by passing data to them"
   ]
  },
  {
   "cell_type": "markdown",
   "metadata": {},
   "source": [
    "### Batsmen Data"
   ]
  },
  {
   "cell_type": "code",
   "execution_count": 54,
   "metadata": {},
   "outputs": [
    {
     "name": "stdout",
     "output_type": "stream",
     "text": [
      "Shape of Xtrn_Bat is (84, 7)\n",
      "Shape of ytrn_Bat is (84,)\n",
      "Shape of Xcv_Bat is (10, 7)\n",
      "Shape of ycv_Bat is (10,)\n",
      "Shape of Xtst_Bat is (11, 7)\n",
      "Shape of ytst_Bat is (11,)\n"
     ]
    }
   ],
   "source": [
    "from sklearn.utils import resample\n",
    "\n",
    "M_trn = np.genfromtxt('./Batsmen_Data_After_Processing.csv', missing_values=0, skip_header=1, delimiter=',', dtype=float)\n",
    "\n",
    "ytrn_Bat = M_trn[:, 0]\n",
    "Xtrn_Bat = M_trn[:, 1:8]\n",
    "\n",
    "Xtrn_Bat, Xtst_Bat, ytrn_Bat, ytst_Bat = train_test_split(Xtrn_Bat, ytrn_Bat, test_size=0.1)\n",
    "Xtrn_Bat, Xcv_Bat, ytrn_Bat, ycv_Bat = train_test_split(Xtrn_Bat, ytrn_Bat, test_size=0.1) \n",
    " \n",
    "\n",
    "print(\"Shape of Xtrn_Bat is\",Xtrn_Bat.shape)\n",
    "print(\"Shape of ytrn_Bat is\",ytrn_Bat.shape)\n",
    "print(\"Shape of Xcv_Bat is\",Xcv_Bat.shape)\n",
    "print(\"Shape of ycv_Bat is\",ycv_Bat.shape)\n",
    "print(\"Shape of Xtst_Bat is\",Xtst_Bat.shape)\n",
    "print(\"Shape of ytst_Bat is\",ytst_Bat.shape)\n",
    "\n",
    "#Using the Data without sampling for KNN as KNN is sensitive to duplicates\n",
    "\n",
    "Xtrn_Bat_KNN=Xtrn_Bat\n",
    "Xcv_Bat_KNN=Xcv_Bat\n",
    "Xtst_Bat_KNN=Xtst_Bat\n",
    "ytrn_Bat_KNN=ytrn_Bat\n",
    "ycv_Bat_KNN=ycv_Bat\n",
    "ytst_Bat_KNN=ytst_Bat"
   ]
  },
  {
   "cell_type": "markdown",
   "metadata": {},
   "source": [
    "### Sampling the Train Data separately to make sure that there is no data leake to the Test set with Replacement to generate samples as the datasize is small."
   ]
  },
  {
   "cell_type": "code",
   "execution_count": 55,
   "metadata": {},
   "outputs": [],
   "source": [
    "Xtrndf=pd.DataFrame(Xtrn_Bat)\n",
    "ytrndf=pd.DataFrame(ytrn_Bat)\n",
    "Train_Data = pd.concat([ytrndf,Xtrndf], axis=1)\n",
    "Train_Data_upsampled = resample(Train_Data,replace=True,n_samples=50)\n",
    "Xtrn_Bat_upsampled=Train_Data_upsampled.iloc[:,1:8].values\n",
    "Ytrn_Bat_upsampled=Train_Data_upsampled.iloc[:,0].values\n",
    "Xtrnfinal=np.concatenate((Xtrn_Bat, Xtrn_Bat_upsampled), axis=0)\n",
    "ytrnfinal=np.concatenate((ytrn_Bat, Ytrn_Bat_upsampled), axis=0)"
   ]
  },
  {
   "cell_type": "markdown",
   "metadata": {},
   "source": [
    "### Sampling the CV Data"
   ]
  },
  {
   "cell_type": "code",
   "execution_count": 56,
   "metadata": {},
   "outputs": [],
   "source": [
    "Xcvdf=pd.DataFrame(Xcv_Bat)\n",
    "ycvdf=pd.DataFrame(ycv_Bat)\n",
    "CV_Data = pd.concat([ycvdf,Xcvdf], axis=1)\n",
    "CV_Data_upsampled = resample(CV_Data,replace=True,n_samples=30)\n",
    "Xcv_Bat_upsampled=CV_Data_upsampled.iloc[:,1:8].values\n",
    "Ycv_Bat_upsampled=CV_Data_upsampled.iloc[:,0].values\n",
    "Xcvfinal=np.concatenate((Xcv_Bat, Xcv_Bat_upsampled), axis=0)\n",
    "ycvfinal=np.concatenate((ycv_Bat, Ycv_Bat_upsampled), axis=0)"
   ]
  },
  {
   "cell_type": "markdown",
   "metadata": {},
   "source": [
    "### Sampling the Test Data"
   ]
  },
  {
   "cell_type": "code",
   "execution_count": 57,
   "metadata": {},
   "outputs": [],
   "source": [
    "Xtestdf=pd.DataFrame(Xtst_Bat)\n",
    "ytestdf=pd.DataFrame(ytst_Bat)\n",
    "Test_Data = pd.concat([ytestdf,Xtestdf], axis=1)\n",
    "Test_Data_upsampled = resample(Test_Data,replace=True,n_samples=15)\n",
    "Xtest_Bat_upsampled=Test_Data_upsampled.iloc[:,1:8].values\n",
    "Ytest_Bat_upsampled=Test_Data_upsampled.iloc[:,0].values\n",
    "Xtestfinal=np.concatenate((Xtst_Bat, Xtest_Bat_upsampled), axis=0)\n",
    "ytestfinal=np.concatenate((ytst_Bat, Ytest_Bat_upsampled), axis=0)"
   ]
  },
  {
   "cell_type": "markdown",
   "metadata": {},
   "source": [
    "### Applying the Log to the Data to make it as normal distribution and then standardizing it"
   ]
  },
  {
   "cell_type": "code",
   "execution_count": 58,
   "metadata": {},
   "outputs": [
    {
     "name": "stdout",
     "output_type": "stream",
     "text": [
      "Shape of Xtrn_Bat after upsampling is (134, 7)\n",
      "Shape of ytrn_Bat after upsampling is (134,)\n",
      "Shape of Xcv_Bat after upsampling is (40, 7)\n",
      "Shape of ycv_Bat after upsampling is (40,)\n",
      "Shape of Xtst_Bat after upsampling is (26, 7)\n",
      "Shape of ytst_Bat after upsampling is (26,)\n"
     ]
    }
   ],
   "source": [
    "Xtrn_Bat=Xtrnfinal\n",
    "Xcv_Bat=Xcvfinal\n",
    "Xtst_Bat=Xtestfinal\n",
    "ytrn_Bat=ytrnfinal\n",
    "ycv_Bat=ycvfinal\n",
    "ytst_Bat=ytestfinal\n",
    "\n",
    "print(\"Shape of Xtrn_Bat after upsampling is\",Xtrn_Bat.shape)\n",
    "print(\"Shape of ytrn_Bat after upsampling is\",ytrn_Bat.shape)\n",
    "print(\"Shape of Xcv_Bat after upsampling is\",Xcv_Bat.shape)\n",
    "print(\"Shape of ycv_Bat after upsampling is\",ycv_Bat.shape)\n",
    "print(\"Shape of Xtst_Bat after upsampling is\",Xtst_Bat.shape)\n",
    "print(\"Shape of ytst_Bat after upsampling is\",ytst_Bat.shape)\n",
    "\n",
    "\n",
    "Xtrn_Bat = np.log(Xtrn_Bat)\n",
    "Xcv_Bat = np.log(Xcv_Bat)\n",
    "Xtst_Bat = np.log(Xtst_Bat)\n",
    "\n",
    "Stdscaler_Bat = preprocessing.StandardScaler().fit(Xtrn_Bat)\n",
    "Xtrn_Bat = Stdscaler_Bat.transform(Xtrn_Bat)\n",
    "Xcv_Bat = Stdscaler_Bat.transform(Xcv_Bat)\n",
    "Xtst_Bat = Stdscaler_Bat.transform(Xtst_Bat)"
   ]
  },
  {
   "cell_type": "markdown",
   "metadata": {},
   "source": [
    "### SGD SKlearn"
   ]
  },
  {
   "cell_type": "code",
   "execution_count": 59,
   "metadata": {},
   "outputs": [
    {
     "name": "stderr",
     "output_type": "stream",
     "text": [
      "C:\\Users\\Kalyan\\Anaconda3\\lib\\site-packages\\sklearn\\linear_model\\stochastic_gradient.py:1185: ConvergenceWarning: Maximum number of iteration reached before convergence. Consider increasing max_iter to improve the fit.\n",
      "  ConvergenceWarning)\n",
      "C:\\Users\\Kalyan\\Anaconda3\\lib\\site-packages\\sklearn\\linear_model\\stochastic_gradient.py:1185: ConvergenceWarning: Maximum number of iteration reached before convergence. Consider increasing max_iter to improve the fit.\n",
      "  ConvergenceWarning)\n",
      "C:\\Users\\Kalyan\\Anaconda3\\lib\\site-packages\\sklearn\\linear_model\\stochastic_gradient.py:1185: ConvergenceWarning: Maximum number of iteration reached before convergence. Consider increasing max_iter to improve the fit.\n",
      "  ConvergenceWarning)\n",
      "C:\\Users\\Kalyan\\Anaconda3\\lib\\site-packages\\sklearn\\linear_model\\stochastic_gradient.py:1185: ConvergenceWarning: Maximum number of iteration reached before convergence. Consider increasing max_iter to improve the fit.\n",
      "  ConvergenceWarning)\n",
      "C:\\Users\\Kalyan\\Anaconda3\\lib\\site-packages\\sklearn\\linear_model\\stochastic_gradient.py:1185: ConvergenceWarning: Maximum number of iteration reached before convergence. Consider increasing max_iter to improve the fit.\n",
      "  ConvergenceWarning)\n",
      "C:\\Users\\Kalyan\\Anaconda3\\lib\\site-packages\\sklearn\\linear_model\\stochastic_gradient.py:1185: ConvergenceWarning: Maximum number of iteration reached before convergence. Consider increasing max_iter to improve the fit.\n",
      "  ConvergenceWarning)\n",
      "C:\\Users\\Kalyan\\Anaconda3\\lib\\site-packages\\sklearn\\linear_model\\stochastic_gradient.py:1185: ConvergenceWarning: Maximum number of iteration reached before convergence. Consider increasing max_iter to improve the fit.\n",
      "  ConvergenceWarning)\n"
     ]
    },
    {
     "data": {
      "image/png": "[encoded data removed]",
      "text/plain": [
       "<Figure size 432x288 with 1 Axes>"
      ]
     },
     "metadata": {},
     "output_type": "display_data"
    },
    {
     "name": "stdout",
     "output_type": "stream",
     "text": [
      "+--------+-------------------+\n",
      "| Epochs |    Train Error    |\n",
      "+--------+-------------------+\n",
      "|   10   |  98.0194017297569 |\n",
      "|  100   | 92.73724360402329 |\n",
      "|  200   | 92.02215478899092 |\n",
      "|  400   | 91.00795687296574 |\n",
      "|  800   | 89.66901038089071 |\n",
      "|  1600  | 88.14092221539306 |\n",
      "|  2000  | 87.66446971645316 |\n",
      "+--------+-------------------+\n",
      "+--------+--------------------+\n",
      "| Epochs |      CV Error      |\n",
      "+--------+--------------------+\n",
      "|   10   | 84.58213311207626  |\n",
      "|  100   | 66.33898545426977  |\n",
      "|  200   |  64.2424852819115  |\n",
      "|  400   | 61.72335341843648  |\n",
      "|  800   | 59.449839876871664 |\n",
      "|  1600  | 58.395640274069535 |\n",
      "|  2000  | 58.488031499938224 |\n",
      "+--------+--------------------+\n",
      "Best No.of Epochs is: 1600\n",
      "+--------+-------------------+\n",
      "| Epochs |     Test Error    |\n",
      "+--------+-------------------+\n",
      "|  1600  | 80.94328985343523 |\n",
      "+--------+-------------------+\n"
     ]
    },
    {
     "name": "stderr",
     "output_type": "stream",
     "text": [
      "C:\\Users\\Kalyan\\Anaconda3\\lib\\site-packages\\sklearn\\linear_model\\stochastic_gradient.py:1185: ConvergenceWarning: Maximum number of iteration reached before convergence. Consider increasing max_iter to improve the fit.\n",
      "  ConvergenceWarning)\n"
     ]
    },
    {
     "data": {
      "image/png": "[encoded data removed]",
      "text/plain": [
       "<Figure size 432x288 with 1 Axes>"
      ]
     },
     "metadata": {},
     "output_type": "display_data"
    }
   ],
   "source": [
    "epochs=[10,100,200,400,800,1600,2000]\n",
    "best_epoch_cv_SGD_sklearn_Bat=sklearnSGDRegressor(Xtrn_Bat,ytrn_Bat,Xcv_Bat,ycv_Bat,epochs)\n",
    "\n",
    "rmse_test_SGD_Bat=[]\n",
    "SGDReg_sklearn_test_table_Bat=PrettyTable()\n",
    "SGDReg_sklearn_test_table_Bat.field_names = [\"Epochs\",\"Test Error\"]\n",
    "\n",
    "sgd_reg_test_Bat = SGDRegressor(shuffle = False,max_iter = best_epoch_cv_SGD_sklearn_Bat)\n",
    "sgd_reg_test_Bat.fit(Xtrn_Bat, ytrn_Bat)\n",
    "y_pred_tst_sgd_sklearn_Bat = sgd_reg_test_Bat.predict(Xtst_Bat)\n",
    "rmse_test_SGD_Bat.append(math.sqrt(mean_squared_error(ytst_Bat,y_pred_tst_sgd_sklearn_Bat)))\n",
    "SGDReg_sklearn_test_table_Bat.add_row([best_epoch_cv_SGD_sklearn_Bat,math.sqrt(mean_squared_error(ytst_Bat,y_pred_tst_sgd_sklearn_Bat))])\n",
    "print(SGDReg_sklearn_test_table_Bat)\n",
    "\n",
    "plt.scatter(ytst_Bat,y_pred_tst_sgd_sklearn_Bat)\n",
    "plt.grid()\n",
    "plt.xlabel('Actual y')\n",
    "plt.ylabel('Predicted y')\n",
    "plt.title('Actual Value and Predicted Value using Sklearn SGD on Batsmen Data')\n",
    "plt.show()"
   ]
  },
  {
   "cell_type": "markdown",
   "metadata": {},
   "source": [
    "### SGD Own"
   ]
  },
  {
   "cell_type": "code",
   "execution_count": 60,
   "metadata": {},
   "outputs": [
    {
     "data": {
      "image/png": "[encoded data removed]",
      "text/plain": [
       "<Figure size 432x288 with 1 Axes>"
      ]
     },
     "metadata": {},
     "output_type": "display_data"
    },
    {
     "name": "stdout",
     "output_type": "stream",
     "text": [
      "+--------+--------------------+\n",
      "| Epochs |    Train Error     |\n",
      "+--------+--------------------+\n",
      "|   10   | 411.62355942531906 |\n",
      "|  100   | 115.27515423357444 |\n",
      "|  200   | 95.13363236827502  |\n",
      "|  400   |  94.024414509245   |\n",
      "|  800   | 93.08670046781157  |\n",
      "|  1600  | 92.90392072580916  |\n",
      "|  2000  |  91.6594442483909  |\n",
      "+--------+--------------------+\n",
      "+--------+--------------------+\n",
      "| Epochs |      CV Error      |\n",
      "+--------+--------------------+\n",
      "|   10   | 427.8323976314829  |\n",
      "|  100   | 122.38744016541315 |\n",
      "|  200   | 66.71318778290183  |\n",
      "|  400   | 71.57818459174152  |\n",
      "|  800   | 66.96872870880156  |\n",
      "|  1600  | 58.74311001316314  |\n",
      "|  2000  | 64.75494755144669  |\n",
      "+--------+--------------------+\n",
      "Best No.of Epochs is: 1600\n",
      "+--------+-------------------+\n",
      "| Epochs |     Test Error    |\n",
      "+--------+-------------------+\n",
      "|  1600  | 85.52232289517272 |\n",
      "+--------+-------------------+\n"
     ]
    },
    {
     "data": {
      "image/png": "[encoded data removed]",
      "text/plain": [
       "<Figure size 432x288 with 1 Axes>"
      ]
     },
     "metadata": {},
     "output_type": "display_data"
    }
   ],
   "source": [
    "train_data_Bat=pd.DataFrame(Xtrn_Bat)\n",
    "train_data_Bat['regresult']=ytrn_Bat\n",
    "epochs=[10,100,200,400,800,1600,2000]\n",
    "\n",
    "rmse_test_SGD_Own_Bat=[]\n",
    "SGDReg_own_test_table_Bat=PrettyTable()\n",
    "SGDReg_own_test_table_Bat.field_names = [\"Epochs\",\"Test Error\"]\n",
    "\n",
    "best_epoch_cv_SGD_Own_Bat=SGDRegressionOwnTraining(Xtrn_Bat,ytrn_Bat,Xcv_Bat,ycv_Bat,epochs)\n",
    "\n",
    "w_Bat,b_Bat = SGDRegressionOwn(train_data_Bat,learning_rate=0.01,total_iter=best_epoch_cv_SGD_Own_Bat,k=10)\n",
    "y_pred_tst_sgd_own_Bat = predictSGDOwn(Xtst_Bat,w_Bat,b_Bat)\n",
    "rmse_test_SGD_Own_Bat.append(math.sqrt(mean_squared_error(ytst_Bat,y_pred_tst_sgd_own_Bat)))\n",
    "SGDReg_own_test_table_Bat.add_row([best_epoch_cv_SGD_Own_Bat,math.sqrt(mean_squared_error(ytst_Bat,y_pred_tst_sgd_own_Bat))])\n",
    "print(SGDReg_own_test_table_Bat)\n",
    "\n",
    "plt.scatter(ytst_Bat,y_pred_tst_sgd_own_Bat)\n",
    "plt.grid()\n",
    "plt.xlabel('Actual y')\n",
    "plt.ylabel('Predicted y')\n",
    "plt.title('Actual Value and Predicted Value using Own SGD on Batsmen Data')\n",
    "plt.show()"
   ]
  },
  {
   "cell_type": "markdown",
   "metadata": {},
   "source": [
    "### LSE Own"
   ]
  },
  {
   "cell_type": "code",
   "execution_count": 61,
   "metadata": {},
   "outputs": [
    {
     "name": "stdout",
     "output_type": "stream",
     "text": [
      "RMSE using Least Squares Estimates is 79.61337585254434\n"
     ]
    },
    {
     "data": {
      "image/png": "[encoded data removed]",
      "text/plain": [
       "<Figure size 432x288 with 1 Axes>"
      ]
     },
     "metadata": {},
     "output_type": "display_data"
    }
   ],
   "source": [
    "shape=Xtrn_Bat.shape[1]+1\n",
    "we_Bat=LinearRegressionLSM(Xtrn_Bat,ytrn_Bat,shape)\n",
    "y_pred_lse_own_Bat=predict_LSM(Xtst_Bat,we_Bat)\n",
    "rmse_train_LSE_Own_Bat=math.sqrt(mean_squared_error(ytst_Bat,y_pred_lse_own_Bat))\n",
    "print(\"RMSE using Least Squares Estimates is\",rmse_train_LSE_Own_Bat)\n",
    "\n",
    "\n",
    "plt.scatter(ytst_Bat,y_pred_lse_own_Bat)\n",
    "plt.grid()\n",
    "plt.xlabel('Actual y')\n",
    "plt.ylabel('Predicted y')\n",
    "plt.title('Actual Value and Predicted Value using Own LSE on Batsmen Data')\n",
    "plt.show()"
   ]
  },
  {
   "cell_type": "markdown",
   "metadata": {},
   "source": [
    "### KNN Sklearn"
   ]
  },
  {
   "cell_type": "code",
   "execution_count": 62,
   "metadata": {},
   "outputs": [
    {
     "data": {
      "image/png": "[encoded data removed]",
      "text/plain": [
       "<Figure size 432x288 with 1 Axes>"
      ]
     },
     "metadata": {},
     "output_type": "display_data"
    },
    {
     "name": "stdout",
     "output_type": "stream",
     "text": [
      "+-----------+--------------------+\n",
      "| Neighbors |    Train Error     |\n",
      "+-----------+--------------------+\n",
      "|     1     |        0.0         |\n",
      "|     2     | 65.24984035740368  |\n",
      "|     3     | 85.24025336453896  |\n",
      "|     4     | 94.50028344628693  |\n",
      "|     5     | 95.65008899007636  |\n",
      "|     6     |  92.890832055129   |\n",
      "|     7     | 100.46226126164835 |\n",
      "|     8     | 99.46770440072497  |\n",
      "|     9     | 103.02027733714363 |\n",
      "+-----------+--------------------+\n",
      "+-----------+--------------------+\n",
      "| Neighbors |      CV Error      |\n",
      "+-----------+--------------------+\n",
      "|     1     | 183.59330053136472 |\n",
      "|     2     | 165.31061671895122 |\n",
      "|     3     | 135.63074872609087 |\n",
      "|     4     | 123.93344988339508 |\n",
      "|     5     | 127.79089169420489 |\n",
      "|     6     | 131.94855900017333 |\n",
      "|     7     | 125.9662653252846  |\n",
      "|     8     | 122.16115125112402 |\n",
      "|     9     | 124.6705782709768  |\n",
      "+-----------+--------------------+\n",
      "Best No.of Neighbors is: 8\n",
      "+-----------+--------------------+\n",
      "| Neighbors |     Test Error     |\n",
      "+-----------+--------------------+\n",
      "|     8     | 102.44933614852137 |\n",
      "+-----------+--------------------+\n"
     ]
    },
    {
     "data": {
      "image/png": "[encoded data removed]",
      "text/plain": [
       "<Figure size 432x288 with 1 Axes>"
      ]
     },
     "metadata": {},
     "output_type": "display_data"
    }
   ],
   "source": [
    "rmse_test_KNN_Bat=[]\n",
    "KNNReg_sklearn_test_table_Bat=PrettyTable()\n",
    "KNNReg_sklearn_test_table_Bat.field_names = [\"Neighbors\",\"Test Error\"]\n",
    "neighbors=[1,2,3,4,5,6,7,8,9]\n",
    "best_neighbors_cv_KNN_sklearn_Bat=sklearnKNNRegressor(Xtrn_Bat_KNN,ytrn_Bat_KNN,Xcv_Bat_KNN,ycv_Bat_KNN,neighbors)\n",
    "\n",
    "knn_reg_test_Bat = KNeighborsRegressor(n_neighbors=best_neighbors_cv_KNN_sklearn_Bat)\n",
    "knn_reg_test_Bat.fit(Xtrn_Bat_KNN, ytrn_Bat_KNN)\n",
    "y_pred_tst_knn_sklearn_Bat = knn_reg_test_Bat.predict(Xtst_Bat_KNN)\n",
    "rmse_test_KNN_Bat.append(math.sqrt(mean_squared_error(ytst_Bat_KNN,y_pred_tst_knn_sklearn_Bat)))\n",
    "KNNReg_sklearn_test_table_Bat.add_row([best_neighbors_cv_KNN_sklearn_Bat,math.sqrt(mean_squared_error(ytst_Bat_KNN,y_pred_tst_knn_sklearn_Bat))])\n",
    "print(KNNReg_sklearn_test_table_Bat)\n",
    "plt.scatter(ytst_Bat_KNN,y_pred_tst_knn_sklearn_Bat)\n",
    "plt.grid()\n",
    "plt.xlabel('Actual y')\n",
    "plt.ylabel('Predicted y')\n",
    "plt.title('Actual Value and Predicted Value using Sklearn KNN on Batsmen Data')\n",
    "plt.show()"
   ]
  },
  {
   "cell_type": "markdown",
   "metadata": {},
   "source": [
    "### KNN Own"
   ]
  },
  {
   "cell_type": "code",
   "execution_count": 63,
   "metadata": {},
   "outputs": [
    {
     "data": {
      "image/png": "[encoded data removed]",
      "text/plain": [
       "<Figure size 432x288 with 1 Axes>"
      ]
     },
     "metadata": {},
     "output_type": "display_data"
    },
    {
     "name": "stdout",
     "output_type": "stream",
     "text": [
      "+-----------+--------------------+\n",
      "| Neighbors |    Train Error     |\n",
      "+-----------+--------------------+\n",
      "|     1     |        0.0         |\n",
      "|     2     | 65.24984035740368  |\n",
      "|     3     | 85.24025336453896  |\n",
      "|     4     | 94.50028344628693  |\n",
      "|     5     | 95.65008899007636  |\n",
      "|     6     |  92.890832055129   |\n",
      "|     7     | 100.46226126164835 |\n",
      "|     8     | 99.46770440072497  |\n",
      "|     9     | 103.02027733714363 |\n",
      "+-----------+--------------------+\n",
      "+-----------+--------------------+\n",
      "| Neighbors |      CV Error      |\n",
      "+-----------+--------------------+\n",
      "|     1     | 183.59330053136472 |\n",
      "|     2     | 165.31061671895122 |\n",
      "|     3     | 135.63074872609087 |\n",
      "|     4     | 123.93344988339508 |\n",
      "|     5     | 127.79089169420489 |\n",
      "|     6     | 131.94855900017333 |\n",
      "|     7     | 125.9662653252846  |\n",
      "|     8     | 122.16115125112402 |\n",
      "|     9     | 124.6705782709768  |\n",
      "+-----------+--------------------+\n",
      "Best No.of Neighbors is: 8\n",
      "+-----------+--------------------+\n",
      "| Neighbors |     Test Error     |\n",
      "+-----------+--------------------+\n",
      "|     8     | 102.44933614852137 |\n",
      "+-----------+--------------------+\n"
     ]
    },
    {
     "data": {
      "image/png": "[encoded data removed]",
      "text/plain": [
       "<Figure size 432x288 with 1 Axes>"
      ]
     },
     "metadata": {},
     "output_type": "display_data"
    }
   ],
   "source": [
    "neighbors=[1,2,3,4,5,6,7,8,9]\n",
    "KNNReg_own_test_table_Bat=PrettyTable()\n",
    "KNNReg_own_test_table_Bat.field_names = [\"Neighbors\",\"Test Error\"]\n",
    "\n",
    "best_neighbors_cv_KNN_own_Bat=KNNRegressorOwnTraining(Xtrn_Bat_KNN,ytrn_Bat_KNN,Xcv_Bat_KNN,ycv_Bat_KNN,neighbors)\n",
    "\n",
    "y_pred_knn_own_Bat=KNNRegressionOwn(Xtrn_Bat_KNN,ytrn_Bat_KNN,best_neighbors_cv_KNN_own_Bat,Xtst_Bat_KNN)\n",
    "KNNReg_own_test_table_Bat.add_row([best_neighbors_cv_KNN_own_Bat,math.sqrt(mean_squared_error(ytst_Bat_KNN,y_pred_knn_own_Bat))])\n",
    "print(KNNReg_own_test_table_Bat)\n",
    "\n",
    "plt.scatter(ytst_Bat_KNN,y_pred_knn_own_Bat)\n",
    "plt.grid()\n",
    "plt.xlabel('Actual y')\n",
    "plt.ylabel('Predicted y')\n",
    "plt.title('Actual Value and Predicted Value using Own KNN on Batsmen Data')\n",
    "plt.show()"
   ]
  },
  {
   "cell_type": "markdown",
   "metadata": {},
   "source": [
    "### Weighted KNN Own"
   ]
  },
  {
   "cell_type": "code",
   "execution_count": 64,
   "metadata": {},
   "outputs": [
    {
     "data": {
      "image/png": "[encoded data removed]",
      "text/plain": [
       "<Figure size 432x288 with 1 Axes>"
      ]
     },
     "metadata": {},
     "output_type": "display_data"
    },
    {
     "name": "stdout",
     "output_type": "stream",
     "text": [
      "+-----------+------------------------+\n",
      "| Neighbors |      Train Error       |\n",
      "+-----------+------------------------+\n",
      "|     1     |          0.0           |\n",
      "|     2     | 1.6000472245125376e-05 |\n",
      "|     3     | 2.4131531544251712e-05 |\n",
      "|     4     | 2.8178311119943732e-05 |\n",
      "|     5     | 3.024259134530483e-05  |\n",
      "|     6     | 3.138924469296414e-05  |\n",
      "|     7     | 3.354569266503812e-05  |\n",
      "|     8     | 3.456098656590623e-05  |\n",
      "|     9     | 3.5287898539462436e-05 |\n",
      "+-----------+------------------------+\n",
      "+-----------+--------------------+\n",
      "| Neighbors |      CV Error      |\n",
      "+-----------+--------------------+\n",
      "|     1     | 183.59330053136472 |\n",
      "|     2     | 168.91899387729333 |\n",
      "|     3     | 144.0450114338072  |\n",
      "|     4     | 132.6688034399053  |\n",
      "|     5     | 133.53685993405225 |\n",
      "|     6     | 134.09551190002747 |\n",
      "|     7     | 132.12685532896407 |\n",
      "|     8     | 130.30767568195967 |\n",
      "|     9     | 130.22116913396704 |\n",
      "+-----------+--------------------+\n",
      "Best No.of Neighbors is: 9\n",
      "+-----------+--------------------+\n",
      "| Neighbors |     Test Error     |\n",
      "+-----------+--------------------+\n",
      "|     8     | 102.44933614852137 |\n",
      "+-----------+--------------------+\n"
     ]
    },
    {
     "data": {
      "image/png": "[encoded data removed]",
      "text/plain": [
       "<Figure size 432x288 with 1 Axes>"
      ]
     },
     "metadata": {},
     "output_type": "display_data"
    }
   ],
   "source": [
    "neighbors=[1,2,3,4,5,6,7,8,9]\n",
    "KNNReg_own_weighted_test_table_Bat=PrettyTable()\n",
    "KNNReg_own_weighted_test_table_Bat.field_names = [\"Neighbors\",\"Test Error\"]\n",
    "\n",
    "best_neighbors_cv_KNN_Weighted_own_Bat=KNNRegressionOwnWeightedTraining(Xtrn_Bat_KNN,ytrn_Bat_KNN,Xcv_Bat_KNN,ycv_Bat_KNN,neighbors)\n",
    "\n",
    "y_pred_knn_own_weighted_Bat=KNNRegressionOwnWeighted(Xtrn_Bat_KNN,ytrn_Bat_KNN,best_neighbors_cv_KNN_Weighted_own_Bat,Xtst_Bat_KNN)\n",
    "KNNReg_own_weighted_test_table_Bat.add_row([best_neighbors_cv_KNN_Weighted_own_Bat,math.sqrt(mean_squared_error(ytst_Bat_KNN,y_pred_knn_own_weighted_Bat))])\n",
    "print(KNNReg_own_test_table_Bat)\n",
    "\n",
    "plt.scatter(ytst_Bat_KNN,y_pred_knn_own_weighted_Bat)\n",
    "plt.grid()\n",
    "plt.xlabel('Actual y')\n",
    "plt.ylabel('Predicted y')\n",
    "plt.title('Actual Value and Predicted Value using Own Weighted KNN on Batsmen Data')\n",
    "plt.show()"
   ]
  },
  {
   "cell_type": "markdown",
   "metadata": {},
   "source": [
    "### Bowler Data"
   ]
  },
  {
   "cell_type": "code",
   "execution_count": 65,
   "metadata": {},
   "outputs": [
    {
     "name": "stdout",
     "output_type": "stream",
     "text": [
      "Shape of Xtrn_Bowl is (78, 5)\n",
      "Shape of ytrn_Bowl is (78,)\n",
      "Shape of Xcv_Bowl is (9, 5)\n",
      "Shape of ycv_Bowl is (9,)\n",
      "Shape of Xtst_Bowl is (22, 5)\n",
      "Shape of ytst_Bowl is (22,)\n"
     ]
    }
   ],
   "source": [
    "M_trn = np.genfromtxt('./Bowler_Data_After_Processing.csv', missing_values=0, skip_header=1, delimiter=',', dtype=float)\n",
    "ytrn_Bowl = M_trn[:, 0]\n",
    "Xtrn_Bowl = M_trn[:, 1:6]\n",
    "\n",
    "Xtrn_Bowl, Xtst_Bowl, ytrn_Bowl, ytst_Bowl = train_test_split(Xtrn_Bowl, ytrn_Bowl, test_size=0.2)\n",
    "Xtrn_Bowl, Xcv_Bowl, ytrn_Bowl, ycv_Bowl = train_test_split(Xtrn_Bowl, ytrn_Bowl, test_size=0.1) \n",
    "\n",
    "print(\"Shape of Xtrn_Bowl is\",Xtrn_Bowl.shape)\n",
    "print(\"Shape of ytrn_Bowl is\",ytrn_Bowl.shape)\n",
    "print(\"Shape of Xcv_Bowl is\",Xcv_Bowl.shape)\n",
    "print(\"Shape of ycv_Bowl is\",ycv_Bowl.shape)\n",
    "print(\"Shape of Xtst_Bowl is\",Xtst_Bowl.shape)\n",
    "print(\"Shape of ytst_Bowl is\",ytst_Bowl.shape)\n",
    "\n",
    "#Using the Data without sampling for KNN as KNN is sensitive to duplicates\n",
    "\n",
    "Xtrn_Bowl_KNN=Xtrn_Bowl\n",
    "Xcv_Bowl_KNN=Xcv_Bowl\n",
    "Xtst_Bowl_KNN=Xtst_Bowl\n",
    "ytrn_Bowl_KNN=ytrn_Bowl\n",
    "ycv_Bowl_KNN=ycv_Bowl\n",
    "ytst_Bowl_KNN=ytst_Bowl"
   ]
  },
  {
   "cell_type": "markdown",
   "metadata": {},
   "source": [
    "### Sampling the Train Data separately to make sure that there is no data leake to the Test set with Replacement to generate samples as the datasize is small."
   ]
  },
  {
   "cell_type": "code",
   "execution_count": 66,
   "metadata": {},
   "outputs": [],
   "source": [
    "Xtrndf=pd.DataFrame(Xtrn_Bowl)\n",
    "ytrndf=pd.DataFrame(ytrn_Bowl)\n",
    "Train_Data = pd.concat([ytrndf,Xtrndf], axis=1)\n",
    "Train_Data_upsampled = resample(Train_Data,replace=True,n_samples=70)\n",
    "Xtrn_Bowl_upsampled=Train_Data_upsampled.iloc[:,1:6].values\n",
    "Ytrn_Bowl_upsampled=Train_Data_upsampled.iloc[:,0].values\n",
    "Xtrnfinal=np.concatenate((Xtrn_Bowl, Xtrn_Bowl_upsampled), axis=0)\n",
    "ytrnfinal=np.concatenate((ytrn_Bowl, Ytrn_Bowl_upsampled), axis=0)"
   ]
  },
  {
   "cell_type": "markdown",
   "metadata": {},
   "source": [
    "### Sampling the CV Data"
   ]
  },
  {
   "cell_type": "code",
   "execution_count": 67,
   "metadata": {},
   "outputs": [],
   "source": [
    "Xcvdf=pd.DataFrame(Xcv_Bowl)\n",
    "ycvdf=pd.DataFrame(ycv_Bowl)\n",
    "CV_Data = pd.concat([ycvdf,Xcvdf], axis=1)\n",
    "CV_Data_upsampled = resample(CV_Data,replace=True,n_samples=50)\n",
    "Xcv_Bowl_upsampled=CV_Data_upsampled.iloc[:,1:6].values\n",
    "Ycv_Bowl_upsampled=CV_Data_upsampled.iloc[:,0].values\n",
    "Xcvfinal=np.concatenate((Xcv_Bowl, Xcv_Bowl_upsampled), axis=0)\n",
    "ycvfinal=np.concatenate((ycv_Bowl, Ycv_Bowl_upsampled), axis=0)"
   ]
  },
  {
   "cell_type": "markdown",
   "metadata": {},
   "source": [
    "### Sampling the Test Data"
   ]
  },
  {
   "cell_type": "code",
   "execution_count": 68,
   "metadata": {},
   "outputs": [],
   "source": [
    "Xtestdf=pd.DataFrame(Xtst_Bowl)\n",
    "ytestdf=pd.DataFrame(ytst_Bowl)\n",
    "Test_Data = pd.concat([ytestdf,Xtestdf], axis=1)\n",
    "Test_Data_upsampled = resample(Test_Data,replace=True,n_samples=35)\n",
    "Xtest_Bowl_upsampled=Test_Data_upsampled.iloc[:,1:6].values\n",
    "Ytest_Bowl_upsampled=Test_Data_upsampled.iloc[:,0].values\n",
    "Xtestfinal=np.concatenate((Xtst_Bowl, Xtest_Bowl_upsampled), axis=0)\n",
    "ytestfinal=np.concatenate((ytst_Bowl, Ytest_Bowl_upsampled), axis=0)"
   ]
  },
  {
   "cell_type": "markdown",
   "metadata": {},
   "source": [
    "### Applying the Log to the Data to make it as normal distribution and then standardizing it"
   ]
  },
  {
   "cell_type": "code",
   "execution_count": 69,
   "metadata": {},
   "outputs": [
    {
     "name": "stdout",
     "output_type": "stream",
     "text": [
      "Shape of Xtrn_Bowl after upsampling is (148, 5)\n",
      "Shape of ytrn_Bowl after upsampling is (148,)\n",
      "Shape of Xcv_Bowl after upsampling is (59, 5)\n",
      "Shape of ycv_Bowl after upsampling is (59,)\n",
      "Shape of Xtst_Bowl after upsampling is (57, 5)\n",
      "Shape of ytst_Bowl after upsampling is (57,)\n"
     ]
    }
   ],
   "source": [
    "Xtrn_Bowl=Xtrnfinal\n",
    "Xcv_Bowl=Xcvfinal\n",
    "Xtst_Bowl=Xtestfinal\n",
    "ytrn_Bowl=ytrnfinal\n",
    "ycv_Bowl=ycvfinal\n",
    "ytst_Bowl=ytestfinal\n",
    "\n",
    "print(\"Shape of Xtrn_Bowl after upsampling is\",Xtrn_Bowl.shape)\n",
    "print(\"Shape of ytrn_Bowl after upsampling is\",ytrn_Bowl.shape)\n",
    "print(\"Shape of Xcv_Bowl after upsampling is\",Xcv_Bowl.shape)\n",
    "print(\"Shape of ycv_Bowl after upsampling is\",ycv_Bowl.shape)\n",
    "print(\"Shape of Xtst_Bowl after upsampling is\",Xtst_Bowl.shape)\n",
    "print(\"Shape of ytst_Bowl after upsampling is\",ytst_Bowl.shape)\n",
    "\n",
    "\n",
    "Xtrn_Bowl = np.log(Xtrn_Bowl)\n",
    "Xcv_Bowl = np.log(Xcv_Bowl)\n",
    "Xtst_Bowl = np.log(Xtst_Bowl)\n",
    "\n",
    "Stdscaler_Bowl = preprocessing.StandardScaler().fit(Xtrn_Bowl)\n",
    "Xtrn_Bowl = Stdscaler_Bowl.transform(Xtrn_Bowl)\n",
    "Xcv_Bowl = Stdscaler_Bowl.transform(Xcv_Bowl)\n",
    "Xtst_Bowl = Stdscaler_Bowl.transform(Xtst_Bowl)"
   ]
  },
  {
   "cell_type": "markdown",
   "metadata": {},
   "source": [
    "### SGD SKlearn"
   ]
  },
  {
   "cell_type": "code",
   "execution_count": 70,
   "metadata": {},
   "outputs": [
    {
     "name": "stderr",
     "output_type": "stream",
     "text": [
      "C:\\Users\\Kalyan\\Anaconda3\\lib\\site-packages\\sklearn\\linear_model\\stochastic_gradient.py:1185: ConvergenceWarning: Maximum number of iteration reached before convergence. Consider increasing max_iter to improve the fit.\n",
      "  ConvergenceWarning)\n",
      "C:\\Users\\Kalyan\\Anaconda3\\lib\\site-packages\\sklearn\\linear_model\\stochastic_gradient.py:1185: ConvergenceWarning: Maximum number of iteration reached before convergence. Consider increasing max_iter to improve the fit.\n",
      "  ConvergenceWarning)\n",
      "C:\\Users\\Kalyan\\Anaconda3\\lib\\site-packages\\sklearn\\linear_model\\stochastic_gradient.py:1185: ConvergenceWarning: Maximum number of iteration reached before convergence. Consider increasing max_iter to improve the fit.\n",
      "  ConvergenceWarning)\n",
      "C:\\Users\\Kalyan\\Anaconda3\\lib\\site-packages\\sklearn\\linear_model\\stochastic_gradient.py:1185: ConvergenceWarning: Maximum number of iteration reached before convergence. Consider increasing max_iter to improve the fit.\n",
      "  ConvergenceWarning)\n",
      "C:\\Users\\Kalyan\\Anaconda3\\lib\\site-packages\\sklearn\\linear_model\\stochastic_gradient.py:1185: ConvergenceWarning: Maximum number of iteration reached before convergence. Consider increasing max_iter to improve the fit.\n",
      "  ConvergenceWarning)\n",
      "C:\\Users\\Kalyan\\Anaconda3\\lib\\site-packages\\sklearn\\linear_model\\stochastic_gradient.py:1185: ConvergenceWarning: Maximum number of iteration reached before convergence. Consider increasing max_iter to improve the fit.\n",
      "  ConvergenceWarning)\n",
      "C:\\Users\\Kalyan\\Anaconda3\\lib\\site-packages\\sklearn\\linear_model\\stochastic_gradient.py:1185: ConvergenceWarning: Maximum number of iteration reached before convergence. Consider increasing max_iter to improve the fit.\n",
      "  ConvergenceWarning)\n"
     ]
    },
    {
     "data": {
      "image/png": "[encoded data removed]",
      "text/plain": [
       "<Figure size 432x288 with 1 Axes>"
      ]
     },
     "metadata": {},
     "output_type": "display_data"
    },
    {
     "name": "stdout",
     "output_type": "stream",
     "text": [
      "+--------+--------------------+\n",
      "| Epochs |    Train Error     |\n",
      "+--------+--------------------+\n",
      "|   10   | 106.20683644358837 |\n",
      "|  100   | 104.02617516542051 |\n",
      "|  200   | 103.81135349757012 |\n",
      "|  400   | 103.5095189883325  |\n",
      "|  800   | 103.13302646141719 |\n",
      "|  1600  | 102.74786672101149 |\n",
      "|  2000  | 102.64013759310986 |\n",
      "+--------+--------------------+\n",
      "+--------+--------------------+\n",
      "| Epochs |      CV Error      |\n",
      "+--------+--------------------+\n",
      "|   10   | 145.66856607428664 |\n",
      "|  100   | 138.3035083221082  |\n",
      "|  200   | 138.33738449577888 |\n",
      "|  400   | 138.51191132989536 |\n",
      "|  800   | 138.93536042423696 |\n",
      "|  1600  | 139.73515184974315 |\n",
      "|  2000  | 140.0802993300994  |\n",
      "+--------+--------------------+\n",
      "Best No.of Epochs is: 100\n",
      "+--------+-------------------+\n",
      "| Epochs |     Test Error    |\n",
      "+--------+-------------------+\n",
      "|  100   | 97.87845258759566 |\n",
      "+--------+-------------------+\n"
     ]
    },
    {
     "name": "stderr",
     "output_type": "stream",
     "text": [
      "C:\\Users\\Kalyan\\Anaconda3\\lib\\site-packages\\sklearn\\linear_model\\stochastic_gradient.py:1185: ConvergenceWarning: Maximum number of iteration reached before convergence. Consider increasing max_iter to improve the fit.\n",
      "  ConvergenceWarning)\n"
     ]
    },
    {
     "data": {
      "image/png": "[encoded data removed]",
      "text/plain": [
       "<Figure size 432x288 with 1 Axes>"
      ]
     },
     "metadata": {},
     "output_type": "display_data"
    }
   ],
   "source": [
    "epochs=[10,100,200,400,800,1600,2000]\n",
    "best_epoch_cv_SGD_sklearn_Bowl=sklearnSGDRegressor(Xtrn_Bowl,ytrn_Bowl,Xcv_Bowl,ycv_Bowl,epochs)\n",
    "\n",
    "rmse_test_SGD_Bowl=[]\n",
    "SGDReg_sklearn_test_table_Bowl=PrettyTable()\n",
    "SGDReg_sklearn_test_table_Bowl.field_names = [\"Epochs\",\"Test Error\"]\n",
    "\n",
    "sgd_reg_test_Bowl = SGDRegressor(shuffle = False,max_iter = best_epoch_cv_SGD_sklearn_Bowl)\n",
    "sgd_reg_test_Bowl.fit(Xtrn_Bowl, ytrn_Bowl)\n",
    "y_pred_tst_sgd_sklearn_Bowl = sgd_reg_test_Bowl.predict(Xtst_Bowl)\n",
    "rmse_test_SGD_Bowl.append(math.sqrt(mean_squared_error(ytst_Bowl,y_pred_tst_sgd_sklearn_Bowl)))\n",
    "SGDReg_sklearn_test_table_Bowl.add_row([best_epoch_cv_SGD_sklearn_Bowl,math.sqrt(mean_squared_error(ytst_Bowl,y_pred_tst_sgd_sklearn_Bowl))])\n",
    "print(SGDReg_sklearn_test_table_Bowl)\n",
    "\n",
    "plt.scatter(ytst_Bowl,y_pred_tst_sgd_sklearn_Bowl)\n",
    "plt.grid()\n",
    "plt.xlabel('Actual y')\n",
    "plt.ylabel('Predicted y')\n",
    "plt.title('Actual Value and Predicted Value using Sklearn SGD on Bowlers Data')\n",
    "plt.show()"
   ]
  },
  {
   "cell_type": "markdown",
   "metadata": {},
   "source": [
    "### SGD Own"
   ]
  },
  {
   "cell_type": "code",
   "execution_count": 71,
   "metadata": {},
   "outputs": [
    {
     "data": {
      "image/png": "[encoded data removed]",
      "text/plain": [
       "<Figure size 432x288 with 1 Axes>"
      ]
     },
     "metadata": {},
     "output_type": "display_data"
    },
    {
     "name": "stdout",
     "output_type": "stream",
     "text": [
      "+--------+--------------------+\n",
      "| Epochs |    Train Error     |\n",
      "+--------+--------------------+\n",
      "|   10   | 409.47499510991275 |\n",
      "|  100   | 122.98562430534258 |\n",
      "|  200   | 105.40096387474964 |\n",
      "|  400   | 104.60794966059879 |\n",
      "|  800   | 104.44626170673247 |\n",
      "|  1600  | 103.88777540785044 |\n",
      "|  2000  | 103.84365772381335 |\n",
      "+--------+--------------------+\n",
      "+--------+--------------------+\n",
      "| Epochs |      CV Error      |\n",
      "+--------+--------------------+\n",
      "|   10   | 448.6304556719735  |\n",
      "|  100   | 171.35743777189697 |\n",
      "|  200   | 128.76442034290088 |\n",
      "|  400   | 147.39269516962173 |\n",
      "|  800   | 147.1598655238906  |\n",
      "|  1600  | 138.20771494683325 |\n",
      "|  2000  | 141.20497953885382 |\n",
      "+--------+--------------------+\n",
      "Best No.of Epochs is: 200\n",
      "+--------+-------------------+\n",
      "| Epochs |     Test Error    |\n",
      "+--------+-------------------+\n",
      "|  200   | 99.96147643854613 |\n",
      "+--------+-------------------+\n"
     ]
    },
    {
     "data": {
      "image/png": "[encoded data removed]",
      "text/plain": [
       "<Figure size 432x288 with 1 Axes>"
      ]
     },
     "metadata": {},
     "output_type": "display_data"
    }
   ],
   "source": [
    "train_data_Bowl=pd.DataFrame(Xtrn_Bowl)\n",
    "train_data_Bowl['regresult']=ytrn_Bowl\n",
    "epochs=[10,100,200,400,800,1600,2000]\n",
    "\n",
    "rmse_test_SGD_Own_Bowl=[]\n",
    "SGDReg_own_test_table_Bowl=PrettyTable()\n",
    "SGDReg_own_test_table_Bowl.field_names = [\"Epochs\",\"Test Error\"]\n",
    "\n",
    "best_epoch_cv_SGD_Own_Bowl=SGDRegressionOwnTraining(Xtrn_Bowl,ytrn_Bowl,Xcv_Bowl,ycv_Bowl,epochs)\n",
    "\n",
    "w_Bowl,b_Bowl = SGDRegressionOwn(train_data_Bowl,learning_rate=0.01,total_iter=best_epoch_cv_SGD_Own_Bowl,k=10)\n",
    "y_pred_tst_sgd_own_Bowl = predictSGDOwn(Xtst_Bowl,w_Bowl,b_Bowl)\n",
    "rmse_test_SGD_Own_Bowl.append(math.sqrt(mean_squared_error(ytst_Bowl,y_pred_tst_sgd_own_Bowl)))\n",
    "SGDReg_own_test_table_Bowl.add_row([best_epoch_cv_SGD_Own_Bowl,math.sqrt(mean_squared_error(ytst_Bowl,y_pred_tst_sgd_own_Bowl))])\n",
    "print(SGDReg_own_test_table_Bowl)\n",
    "\n",
    "plt.scatter(ytst_Bowl,y_pred_tst_sgd_own_Bowl)\n",
    "plt.grid()\n",
    "plt.xlabel('Actual y')\n",
    "plt.ylabel('Predicted y')\n",
    "plt.title('Actual Value and Predicted Value using Own SGD on Bowlers Data')\n",
    "plt.show()"
   ]
  },
  {
   "cell_type": "markdown",
   "metadata": {},
   "source": [
    "### LSE Own"
   ]
  },
  {
   "cell_type": "code",
   "execution_count": 72,
   "metadata": {},
   "outputs": [
    {
     "name": "stdout",
     "output_type": "stream",
     "text": [
      "RMSE using Least Squares Estimates is 98.3094397459801\n"
     ]
    },
    {
     "data": {
      "image/png": "[encoded data removed]",
      "text/plain": [
       "<Figure size 432x288 with 1 Axes>"
      ]
     },
     "metadata": {},
     "output_type": "display_data"
    }
   ],
   "source": [
    "shape=Xtrn_Bowl.shape[1]+1\n",
    "we_Bowl=LinearRegressionLSM(Xtrn_Bowl,ytrn_Bowl,shape)\n",
    "y_pred_lse_own_Bowl=predict_LSM(Xtst_Bowl,we_Bowl)\n",
    "rmse_train_LSE_Own_Bowl=math.sqrt(mean_squared_error(ytst_Bowl,y_pred_lse_own_Bowl))\n",
    "print(\"RMSE using Least Squares Estimates is\",rmse_train_LSE_Own_Bowl)\n",
    "\n",
    "plt.scatter(ytst_Bowl,y_pred_lse_own_Bowl)\n",
    "plt.grid()\n",
    "plt.xlabel('Actual y')\n",
    "plt.ylabel('Predicted y')\n",
    "plt.title('Actual Value and Predicted Value using Own LSE on Bowlers Data')\n",
    "plt.show()"
   ]
  },
  {
   "cell_type": "markdown",
   "metadata": {},
   "source": [
    "### KNN Sklearn"
   ]
  },
  {
   "cell_type": "code",
   "execution_count": 73,
   "metadata": {},
   "outputs": [
    {
     "data": {
      "image/png": "[encoded data removed]",
      "text/plain": [
       "<Figure size 432x288 with 1 Axes>"
      ]
     },
     "metadata": {},
     "output_type": "display_data"
    },
    {
     "name": "stdout",
     "output_type": "stream",
     "text": [
      "+-----------+-------------------+\n",
      "| Neighbors |    Train Error    |\n",
      "+-----------+-------------------+\n",
      "|     1     | 27.06142111605584 |\n",
      "|     2     | 71.69037324065634 |\n",
      "|     3     | 81.37459546028347 |\n",
      "|     4     | 90.18865110678581 |\n",
      "|     5     | 89.53197681161112 |\n",
      "|     6     | 91.27368170239421 |\n",
      "|     7     | 92.91399780986171 |\n",
      "|     8     | 94.43013756958239 |\n",
      "|     9     | 94.83764721302165 |\n",
      "+-----------+-------------------+\n",
      "+-----------+--------------------+\n",
      "| Neighbors |      CV Error      |\n",
      "+-----------+--------------------+\n",
      "|     1     | 168.59319875566354 |\n",
      "|     2     | 155.54125926368647 |\n",
      "|     3     | 132.6651777321994  |\n",
      "|     4     | 128.69648294426005 |\n",
      "|     5     | 132.23129567373812 |\n",
      "|     6     | 133.90883899315173 |\n",
      "|     7     | 124.99819499830573 |\n",
      "|     8     | 126.30753639431022 |\n",
      "|     9     | 127.34816667528258 |\n",
      "+-----------+--------------------+\n",
      "Best No.of Neighbors is: 7\n",
      "+-----------+--------------------+\n",
      "| Neighbors |     Test Error     |\n",
      "+-----------+--------------------+\n",
      "|     7     | 105.70426856717265 |\n",
      "+-----------+--------------------+\n"
     ]
    },
    {
     "data": {
      "image/png": "[encoded data removed]",
      "text/plain": [
       "<Figure size 432x288 with 1 Axes>"
      ]
     },
     "metadata": {},
     "output_type": "display_data"
    }
   ],
   "source": [
    "rmse_test_KNN_Bowl=[]\n",
    "KNNReg_sklearn_test_table_Bowl=PrettyTable()\n",
    "KNNReg_sklearn_test_table_Bowl.field_names = [\"Neighbors\",\"Test Error\"]\n",
    "neighbors=[1,2,3,4,5,6,7,8,9]\n",
    "best_neighbors_cv_KNN_sklearn_Bowl=sklearnKNNRegressor(Xtrn_Bowl_KNN,ytrn_Bowl_KNN,Xcv_Bowl_KNN,ycv_Bowl_KNN,neighbors)\n",
    "\n",
    "knn_reg_test_Bowl = KNeighborsRegressor(n_neighbors=best_neighbors_cv_KNN_sklearn_Bowl)\n",
    "knn_reg_test_Bowl.fit(Xtrn_Bowl_KNN, ytrn_Bowl_KNN)\n",
    "y_pred_tst_knn_sklearn_Bowl = knn_reg_test_Bowl.predict(Xtst_Bowl_KNN)\n",
    "rmse_test_KNN_Bowl.append(math.sqrt(mean_squared_error(ytst_Bowl_KNN,y_pred_tst_knn_sklearn_Bowl)))\n",
    "KNNReg_sklearn_test_table_Bowl.add_row([best_neighbors_cv_KNN_sklearn_Bowl,math.sqrt(mean_squared_error(ytst_Bowl_KNN,y_pred_tst_knn_sklearn_Bowl))])\n",
    "print(KNNReg_sklearn_test_table_Bowl)\n",
    "\n",
    "plt.scatter(ytst_Bowl_KNN,y_pred_tst_knn_sklearn_Bowl)\n",
    "plt.grid()\n",
    "plt.xlabel('Actual y')\n",
    "plt.ylabel('Predicted y')\n",
    "plt.title('Actual Value and Predicted Value using Sklearn KNN on Bowlers Data')\n",
    "plt.show()"
   ]
  },
  {
   "cell_type": "markdown",
   "metadata": {},
   "source": [
    "### KNN Own"
   ]
  },
  {
   "cell_type": "code",
   "execution_count": 74,
   "metadata": {},
   "outputs": [
    {
     "data": {
      "image/png": "[encoded data removed]",
      "text/plain": [
       "<Figure size 432x288 with 1 Axes>"
      ]
     },
     "metadata": {},
     "output_type": "display_data"
    },
    {
     "name": "stdout",
     "output_type": "stream",
     "text": [
      "+-----------+-------------------+\n",
      "| Neighbors |    Train Error    |\n",
      "+-----------+-------------------+\n",
      "|     1     | 27.06142111605584 |\n",
      "|     2     | 71.69037324065634 |\n",
      "|     3     | 81.37459546028347 |\n",
      "|     4     | 90.18865110678581 |\n",
      "|     5     | 89.53197681161112 |\n",
      "|     6     | 91.27368170239421 |\n",
      "|     7     | 92.91399780986171 |\n",
      "|     8     | 94.43013756958239 |\n",
      "|     9     | 94.83764721302165 |\n",
      "+-----------+-------------------+\n",
      "+-----------+--------------------+\n",
      "| Neighbors |      CV Error      |\n",
      "+-----------+--------------------+\n",
      "|     1     | 168.59319875566354 |\n",
      "|     2     | 155.54125926368647 |\n",
      "|     3     | 132.6651777321994  |\n",
      "|     4     | 128.69648294426005 |\n",
      "|     5     | 132.23129567373812 |\n",
      "|     6     | 133.90883899315173 |\n",
      "|     7     | 124.99819499830573 |\n",
      "|     8     | 126.30753639431022 |\n",
      "|     9     | 127.34816667528258 |\n",
      "+-----------+--------------------+\n",
      "Best No.of Neighbors is: 7\n",
      "+-----------+--------------------+\n",
      "| Neighbors |     Test Error     |\n",
      "+-----------+--------------------+\n",
      "|     7     | 105.70426856717265 |\n",
      "+-----------+--------------------+\n"
     ]
    },
    {
     "data": {
      "image/png": "[encoded data removed]",
      "text/plain": [
       "<Figure size 432x288 with 1 Axes>"
      ]
     },
     "metadata": {},
     "output_type": "display_data"
    }
   ],
   "source": [
    "neighbors=[1,2,3,4,5,6,7,8,9]\n",
    "best_neighbors_cv_KNN_own_Bowl=KNNRegressorOwnTraining(Xtrn_Bowl_KNN,ytrn_Bowl_KNN,Xcv_Bowl_KNN,ycv_Bowl_KNN,neighbors)\n",
    "\n",
    "y_pred_knn_own_Bowl=KNNRegressionOwn(Xtrn_Bowl_KNN,ytrn_Bowl_KNN,best_neighbors_cv_KNN_own_Bowl,Xtst_Bowl_KNN)\n",
    "KNNReg_own_test_table_Bowl=PrettyTable()\n",
    "KNNReg_own_test_table_Bowl.field_names = [\"Neighbors\",\"Test Error\"]\n",
    "KNNReg_own_test_table_Bowl.add_row([best_neighbors_cv_KNN_own_Bowl,math.sqrt(mean_squared_error(ytst_Bowl_KNN,y_pred_knn_own_Bowl))])\n",
    "print(KNNReg_own_test_table_Bowl)\n",
    "plt.scatter(ytst_Bowl_KNN,y_pred_knn_own_Bowl)\n",
    "plt.grid()\n",
    "plt.xlabel('Actual y')\n",
    "plt.ylabel('Predicted y')\n",
    "plt.title('Actual Value and Predicted Value using Own KNN on Bowlers Data')\n",
    "plt.show()"
   ]
  },
  {
   "cell_type": "markdown",
   "metadata": {},
   "source": [
    "### Weighted KNN Own"
   ]
  },
  {
   "cell_type": "code",
   "execution_count": 75,
   "metadata": {},
   "outputs": [
    {
     "data": {
      "image/png": "[encoded data removed]",
      "text/plain": [
       "<Figure size 432x288 with 1 Axes>"
      ]
     },
     "metadata": {},
     "output_type": "display_data"
    },
    {
     "name": "stdout",
     "output_type": "stream",
     "text": [
      "+-----------+--------------------+\n",
      "| Neighbors |    Train Error     |\n",
      "+-----------+--------------------+\n",
      "|     1     | 27.06142111605584  |\n",
      "|     2     | 19.135314620157402 |\n",
      "|     3     | 19.135314660114567 |\n",
      "|     4     | 19.135314703882344 |\n",
      "|     5     | 19.13531474150093  |\n",
      "|     6     | 19.13531478400213  |\n",
      "|     7     | 19.13531481369367  |\n",
      "|     8     | 19.135314841384826 |\n",
      "|     9     | 19.135314860371462 |\n",
      "+-----------+--------------------+\n",
      "+-----------+--------------------+\n",
      "| Neighbors |      CV Error      |\n",
      "+-----------+--------------------+\n",
      "|     1     | 168.59319875566354 |\n",
      "|     2     | 152.10643890116424 |\n",
      "|     3     | 139.3570218860494  |\n",
      "|     4     | 133.91192298314215 |\n",
      "|     5     | 134.68251390091243 |\n",
      "|     6     | 134.6752860863784  |\n",
      "|     7     | 130.89901937535555 |\n",
      "|     8     | 131.39287846533054 |\n",
      "|     9     | 132.00700664337418 |\n",
      "+-----------+--------------------+\n",
      "Best No.of Neighbors is: 7\n",
      "+-----------+--------------------+\n",
      "| Neighbors |     Test Error     |\n",
      "+-----------+--------------------+\n",
      "|     7     | 105.60523506562683 |\n",
      "+-----------+--------------------+\n"
     ]
    },
    {
     "data": {
      "image/png": "[encoded data removed]",
      "text/plain": [
       "<Figure size 432x288 with 1 Axes>"
      ]
     },
     "metadata": {},
     "output_type": "display_data"
    }
   ],
   "source": [
    "neighbors=[1,2,3,4,5,6,7,8,9]\n",
    "KNNReg_own_weighted_test_table_Bowl=PrettyTable()\n",
    "KNNReg_own_weighted_test_table_Bowl.field_names = [\"Neighbors\",\"Test Error\"]\n",
    "\n",
    "best_neighbors_cv_KNN_Weighted_own_Bowl=KNNRegressionOwnWeightedTraining(Xtrn_Bowl_KNN,ytrn_Bowl_KNN,Xcv_Bowl_KNN,ycv_Bowl_KNN,neighbors)\n",
    "\n",
    "y_pred_knn_own_weighted_Bowl=KNNRegressionOwnWeighted(Xtrn_Bowl_KNN,ytrn_Bowl_KNN,best_neighbors_cv_KNN_Weighted_own_Bowl,Xtst_Bowl_KNN)\n",
    "KNNReg_own_weighted_test_table_Bowl.add_row([best_neighbors_cv_KNN_Weighted_own_Bowl,math.sqrt(mean_squared_error(ytst_Bowl_KNN,y_pred_knn_own_weighted_Bowl))])\n",
    "print(KNNReg_own_weighted_test_table_Bowl)\n",
    "\n",
    "plt.scatter(ytst_Bowl_KNN,y_pred_knn_own_weighted_Bowl)\n",
    "plt.grid()\n",
    "plt.xlabel('Actual y')\n",
    "plt.ylabel('Predicted y')\n",
    "plt.title('Actual Value and Predicted Value using Own Weighted KNN on Bowlers Data')\n",
    "plt.show()"
   ]
  },
  {
   "cell_type": "markdown",
   "metadata": {},
   "source": [
    "### AllRounder Data"
   ]
  },
  {
   "cell_type": "code",
   "execution_count": 76,
   "metadata": {},
   "outputs": [
    {
     "name": "stdout",
     "output_type": "stream",
     "text": [
      "Shape of Xtrn_All is (72, 12)\n",
      "Shape of ytrn_All is (72,)\n",
      "Shape of Xcv_All is (8, 12)\n",
      "Shape of ycv_All is (8,)\n",
      "Shape of Xtst_All is (20, 12)\n",
      "Shape of ytst_All is (20,)\n"
     ]
    }
   ],
   "source": [
    "M_trn = np.genfromtxt('./AllRounder_Data_After_Processing.csv', missing_values=0, skip_header=1, delimiter=',', dtype=float)\n",
    "ytrn_All = M_trn[:, 0]\n",
    "Xtrn_All = M_trn[:, 1:13]\n",
    "\n",
    "Xtrn_All, Xtst_All, ytrn_All, ytst_All = train_test_split(Xtrn_All, ytrn_All, test_size=0.2)\n",
    "Xtrn_All, Xcv_All, ytrn_All, ycv_All = train_test_split(Xtrn_All, ytrn_All, test_size=0.1) \n",
    "\n",
    "print(\"Shape of Xtrn_All is\",Xtrn_All.shape)\n",
    "print(\"Shape of ytrn_All is\",ytrn_All.shape)\n",
    "print(\"Shape of Xcv_All is\",Xcv_All.shape)\n",
    "print(\"Shape of ycv_All is\",ycv_All.shape)\n",
    "print(\"Shape of Xtst_All is\",Xtst_All.shape)\n",
    "print(\"Shape of ytst_All is\",ytst_All.shape)\n",
    "\n",
    "#Using the Data without sampling for KNN as KNN is sensitive to duplicates\n",
    "\n",
    "Xtrn_All_KNN=Xtrn_All\n",
    "Xcv_All_KNN=Xcv_All\n",
    "Xtst_All_KNN=Xtst_All\n",
    "ytrn_All_KNN=ytrn_All\n",
    "ycv_All_KNN=ycv_All\n",
    "ytst_All_KNN=ytst_All"
   ]
  },
  {
   "cell_type": "markdown",
   "metadata": {},
   "source": [
    "### Sampling the Train Data separately to make sure that there is no data leake to the Test set with Replacement to generate samples as the datasize is small."
   ]
  },
  {
   "cell_type": "code",
   "execution_count": 77,
   "metadata": {},
   "outputs": [],
   "source": [
    "Xtrndf=pd.DataFrame(Xtrn_All)\n",
    "ytrndf=pd.DataFrame(ytrn_All)\n",
    "Train_Data = pd.concat([ytrndf,Xtrndf], axis=1)\n",
    "Train_Data_upsampled = resample(Train_Data,replace=True,n_samples=50)\n",
    "Xtrn_All_upsampled=Train_Data_upsampled.iloc[:,1:13].values\n",
    "Ytrn_All_upsampled=Train_Data_upsampled.iloc[:,0].values\n",
    "Xtrnfinal=np.concatenate((Xtrn_All, Xtrn_All_upsampled), axis=0)\n",
    "ytrnfinal=np.concatenate((ytrn_All, Ytrn_All_upsampled), axis=0)"
   ]
  },
  {
   "cell_type": "markdown",
   "metadata": {},
   "source": [
    "### Sampling the CV Data"
   ]
  },
  {
   "cell_type": "code",
   "execution_count": 78,
   "metadata": {},
   "outputs": [],
   "source": [
    "Xcvdf=pd.DataFrame(Xcv_All)\n",
    "ycvdf=pd.DataFrame(ycv_All)\n",
    "CV_Data = pd.concat([ycvdf,Xcvdf], axis=1)\n",
    "CV_Data_upsampled = resample(CV_Data,replace=True,n_samples=30)\n",
    "Xcv_All_upsampled=CV_Data_upsampled.iloc[:,1:13].values\n",
    "Ycv_All_upsampled=CV_Data_upsampled.iloc[:,0].values\n",
    "Xcvfinal=np.concatenate((Xcv_All, Xcv_All_upsampled), axis=0)\n",
    "ycvfinal=np.concatenate((ycv_All, Ycv_All_upsampled), axis=0)"
   ]
  },
  {
   "cell_type": "markdown",
   "metadata": {},
   "source": [
    "### Sampling the Test Data"
   ]
  },
  {
   "cell_type": "code",
   "execution_count": 79,
   "metadata": {},
   "outputs": [],
   "source": [
    "Xtestdf=pd.DataFrame(Xtst_All)\n",
    "ytestdf=pd.DataFrame(ytst_All)\n",
    "Test_Data = pd.concat([ytestdf,Xtestdf], axis=1)\n",
    "Test_Data_upsampled = resample(Test_Data,replace=True,n_samples=15)\n",
    "Xtest_All_upsampled=Test_Data_upsampled.iloc[:,1:13].values\n",
    "Ytest_All_upsampled=Test_Data_upsampled.iloc[:,0].values\n",
    "Xtestfinal=np.concatenate((Xtst_All, Xtest_All_upsampled), axis=0)\n",
    "ytestfinal=np.concatenate((ytst_All, Ytest_All_upsampled), axis=0)"
   ]
  },
  {
   "cell_type": "markdown",
   "metadata": {},
   "source": [
    "### Applying the Log to the Data to make it as normal distribution and then standardizing it"
   ]
  },
  {
   "cell_type": "code",
   "execution_count": 80,
   "metadata": {},
   "outputs": [
    {
     "name": "stdout",
     "output_type": "stream",
     "text": [
      "Shape of Xtrn_All after upsampling is (122, 12)\n",
      "Shape of ytrn_All after upsampling is (122,)\n",
      "Shape of Xcv_All after upsampling is (38, 12)\n",
      "Shape of ycv_All after upsampling is (38,)\n",
      "Shape of Xtst_All after upsampling is (35, 12)\n",
      "Shape of ytst_All after upsampling is (35,)\n"
     ]
    }
   ],
   "source": [
    "Xtrn_All=Xtrnfinal\n",
    "Xcv_All=Xcvfinal\n",
    "Xtst_All=Xtestfinal\n",
    "ytrn_All=ytrnfinal\n",
    "ycv_All=ycvfinal\n",
    "ytst_All=ytestfinal\n",
    "\n",
    "print(\"Shape of Xtrn_All after upsampling is\",Xtrn_All.shape)\n",
    "print(\"Shape of ytrn_All after upsampling is\",ytrn_All.shape)\n",
    "print(\"Shape of Xcv_All after upsampling is\",Xcv_All.shape)\n",
    "print(\"Shape of ycv_All after upsampling is\",ycv_All.shape)\n",
    "print(\"Shape of Xtst_All after upsampling is\",Xtst_All.shape)\n",
    "print(\"Shape of ytst_All after upsampling is\",ytst_All.shape)\n",
    "\n",
    "\n",
    "Xtrn_All = np.log(Xtrn_All)\n",
    "Xcv_All = np.log(Xcv_All)\n",
    "Xtst_All = np.log(Xtst_All)\n",
    "\n",
    "Stdscaler_All = preprocessing.StandardScaler().fit(Xtrn_All)\n",
    "Xtrn_All = Stdscaler_All.transform(Xtrn_All)\n",
    "Xcv_All = Stdscaler_All.transform(Xcv_All)\n",
    "Xtst_All = Stdscaler_All.transform(Xtst_All)"
   ]
  },
  {
   "cell_type": "markdown",
   "metadata": {},
   "source": [
    "### SGD SKlearn"
   ]
  },
  {
   "cell_type": "code",
   "execution_count": 81,
   "metadata": {},
   "outputs": [
    {
     "name": "stderr",
     "output_type": "stream",
     "text": [
      "C:\\Users\\Kalyan\\Anaconda3\\lib\\site-packages\\sklearn\\linear_model\\stochastic_gradient.py:1185: ConvergenceWarning: Maximum number of iteration reached before convergence. Consider increasing max_iter to improve the fit.\n",
      "  ConvergenceWarning)\n",
      "C:\\Users\\Kalyan\\Anaconda3\\lib\\site-packages\\sklearn\\linear_model\\stochastic_gradient.py:1185: ConvergenceWarning: Maximum number of iteration reached before convergence. Consider increasing max_iter to improve the fit.\n",
      "  ConvergenceWarning)\n",
      "C:\\Users\\Kalyan\\Anaconda3\\lib\\site-packages\\sklearn\\linear_model\\stochastic_gradient.py:1185: ConvergenceWarning: Maximum number of iteration reached before convergence. Consider increasing max_iter to improve the fit.\n",
      "  ConvergenceWarning)\n",
      "C:\\Users\\Kalyan\\Anaconda3\\lib\\site-packages\\sklearn\\linear_model\\stochastic_gradient.py:1185: ConvergenceWarning: Maximum number of iteration reached before convergence. Consider increasing max_iter to improve the fit.\n",
      "  ConvergenceWarning)\n",
      "C:\\Users\\Kalyan\\Anaconda3\\lib\\site-packages\\sklearn\\linear_model\\stochastic_gradient.py:1185: ConvergenceWarning: Maximum number of iteration reached before convergence. Consider increasing max_iter to improve the fit.\n",
      "  ConvergenceWarning)\n",
      "C:\\Users\\Kalyan\\Anaconda3\\lib\\site-packages\\sklearn\\linear_model\\stochastic_gradient.py:1185: ConvergenceWarning: Maximum number of iteration reached before convergence. Consider increasing max_iter to improve the fit.\n",
      "  ConvergenceWarning)\n",
      "C:\\Users\\Kalyan\\Anaconda3\\lib\\site-packages\\sklearn\\linear_model\\stochastic_gradient.py:1185: ConvergenceWarning: Maximum number of iteration reached before convergence. Consider increasing max_iter to improve the fit.\n",
      "  ConvergenceWarning)\n"
     ]
    },
    {
     "data": {
      "image/png": "[encoded data removed]",
      "text/plain": [
       "<Figure size 432x288 with 1 Axes>"
      ]
     },
     "metadata": {},
     "output_type": "display_data"
    },
    {
     "name": "stdout",
     "output_type": "stream",
     "text": [
      "+--------+--------------------+\n",
      "| Epochs |    Train Error     |\n",
      "+--------+--------------------+\n",
      "|   10   | 45.130376231385014 |\n",
      "|  100   | 43.05760938909394  |\n",
      "|  200   | 42.47368457470476  |\n",
      "|  400   |  42.0774681522014  |\n",
      "|  800   | 41.861634855038005 |\n",
      "|  1600  | 41.70491110226381  |\n",
      "|  2000  |  41.6564969910735  |\n",
      "+--------+--------------------+\n",
      "+--------+--------------------+\n",
      "| Epochs |      CV Error      |\n",
      "+--------+--------------------+\n",
      "|   10   | 63.03648731537768  |\n",
      "|  100   | 59.99379869889626  |\n",
      "|  200   | 58.38799936216861  |\n",
      "|  400   | 56.94827705368825  |\n",
      "|  800   | 56.382189219844925 |\n",
      "|  1600  | 56.94117325048967  |\n",
      "|  2000  |  57.308000230274   |\n",
      "+--------+--------------------+\n",
      "Best No.of Epochs is: 800\n",
      "+--------+--------------------+\n",
      "| Epochs |     Test Error     |\n",
      "+--------+--------------------+\n",
      "|  800   | 52.956417551841525 |\n",
      "+--------+--------------------+\n"
     ]
    },
    {
     "name": "stderr",
     "output_type": "stream",
     "text": [
      "C:\\Users\\Kalyan\\Anaconda3\\lib\\site-packages\\sklearn\\linear_model\\stochastic_gradient.py:1185: ConvergenceWarning: Maximum number of iteration reached before convergence. Consider increasing max_iter to improve the fit.\n",
      "  ConvergenceWarning)\n"
     ]
    },
    {
     "data": {
      "image/png": "[encoded data removed]",
      "text/plain": [
       "<Figure size 432x288 with 1 Axes>"
      ]
     },
     "metadata": {},
     "output_type": "display_data"
    }
   ],
   "source": [
    "epochs=[10,100,200,400,800,1600,2000]\n",
    "best_epoch_cv_SGD_sklearn_All=sklearnSGDRegressor(Xtrn_All,ytrn_All,Xcv_All,ycv_All,epochs)\n",
    "\n",
    "rmse_test_SGD_All=[]\n",
    "SGDReg_sklearn_test_table_All=PrettyTable()\n",
    "SGDReg_sklearn_test_table_All.field_names = [\"Epochs\",\"Test Error\"]\n",
    "\n",
    "sgd_reg_test_All = SGDRegressor(shuffle = False,max_iter = best_epoch_cv_SGD_sklearn_Bowl)\n",
    "sgd_reg_test_All.fit(Xtrn_All, ytrn_All)\n",
    "y_pred_tst_sgd_sklearn_All = sgd_reg_test_All.predict(Xtst_All)\n",
    "rmse_test_SGD_All.append(math.sqrt(mean_squared_error(ytst_All,y_pred_tst_sgd_sklearn_All)))\n",
    "SGDReg_sklearn_test_table_All.add_row([best_epoch_cv_SGD_sklearn_All,math.sqrt(mean_squared_error(ytst_All,y_pred_tst_sgd_sklearn_All))])\n",
    "print(SGDReg_sklearn_test_table_All)\n",
    "\n",
    "plt.scatter(ytst_All,y_pred_tst_sgd_sklearn_All)\n",
    "plt.grid()\n",
    "plt.xlabel('Actual y')\n",
    "plt.ylabel('Predicted y')\n",
    "plt.title('Actual Value and Predicted Value using Sklearn SGD on AllRounders Data')\n",
    "plt.show()"
   ]
  },
  {
   "cell_type": "markdown",
   "metadata": {},
   "source": [
    "### SGD Own"
   ]
  },
  {
   "cell_type": "code",
   "execution_count": 82,
   "metadata": {},
   "outputs": [
    {
     "data": {
      "image/png": "[encoded data removed]",
      "text/plain": [
       "<Figure size 432x288 with 1 Axes>"
      ]
     },
     "metadata": {},
     "output_type": "display_data"
    },
    {
     "name": "stdout",
     "output_type": "stream",
     "text": [
      "+--------+--------------------+\n",
      "| Epochs |    Train Error     |\n",
      "+--------+--------------------+\n",
      "|   10   | 80.26618360602971  |\n",
      "|  100   |  46.8372201415197  |\n",
      "|  200   | 46.71640027308112  |\n",
      "|  400   | 44.11642771302572  |\n",
      "|  800   | 43.679792308797616 |\n",
      "|  1600  |  42.375658818614   |\n",
      "|  2000  | 42.22139978242118  |\n",
      "+--------+--------------------+\n",
      "+--------+--------------------+\n",
      "| Epochs |      CV Error      |\n",
      "+--------+--------------------+\n",
      "|   10   | 106.79004670353771 |\n",
      "|  100   | 64.42104171757784  |\n",
      "|  200   | 66.45248641135728  |\n",
      "|  400   | 61.41909188364906  |\n",
      "|  800   | 65.34845706052704  |\n",
      "|  1600  | 56.67606348839526  |\n",
      "|  2000  |  55.1513821466075  |\n",
      "+--------+--------------------+\n",
      "Best No.of Epochs is: 2000\n",
      "+--------+-------------------+\n",
      "| Epochs |     Test Error    |\n",
      "+--------+-------------------+\n",
      "|  2000  | 51.14022020899138 |\n",
      "+--------+-------------------+\n"
     ]
    },
    {
     "data": {
      "image/png": "[encoded data removed]",
      "text/plain": [
       "<Figure size 432x288 with 1 Axes>"
      ]
     },
     "metadata": {},
     "output_type": "display_data"
    }
   ],
   "source": [
    "train_data_All=pd.DataFrame(Xtrn_All)\n",
    "train_data_All['regresult']=ytrn_All\n",
    "epochs=[10,100,200,400,800,1600,2000]\n",
    "\n",
    "rmse_test_SGD_Own_All=[]\n",
    "SGDReg_own_test_table_All=PrettyTable()\n",
    "SGDReg_own_test_table_All.field_names = [\"Epochs\",\"Test Error\"]\n",
    "\n",
    "best_epoch_cv_SGD_Own_All=SGDRegressionOwnTraining(Xtrn_All,ytrn_All,Xcv_All,ycv_All,epochs)\n",
    "\n",
    "w_All,b_All = SGDRegressionOwn(train_data_All,learning_rate=0.01,total_iter=best_epoch_cv_SGD_Own_All,k=10)\n",
    "y_pred_tst_sgd_own_All = predictSGDOwn(Xtst_All,w_All,b_All)\n",
    "rmse_test_SGD_Own_All.append(math.sqrt(mean_squared_error(ytst_All,y_pred_tst_sgd_own_All)))\n",
    "SGDReg_own_test_table_All.add_row([best_epoch_cv_SGD_Own_All,math.sqrt(mean_squared_error(ytst_All,y_pred_tst_sgd_own_All))])\n",
    "print(SGDReg_own_test_table_All)\n",
    "\n",
    "plt.scatter(ytst_All,y_pred_tst_sgd_own_All)\n",
    "plt.grid()\n",
    "plt.xlabel('Actual y')\n",
    "plt.ylabel('Predicted y')\n",
    "plt.title('Actual Value and Predicted Value using Own SGD on AllRounders Data')\n",
    "plt.show()"
   ]
  },
  {
   "cell_type": "markdown",
   "metadata": {},
   "source": [
    "### LSE Own"
   ]
  },
  {
   "cell_type": "code",
   "execution_count": 83,
   "metadata": {},
   "outputs": [
    {
     "name": "stdout",
     "output_type": "stream",
     "text": [
      "RMSE using Least Squares Estimates is 58.744494933346196\n"
     ]
    },
    {
     "data": {
      "image/png": "[encoded data removed]",
      "text/plain": [
       "<Figure size 432x288 with 1 Axes>"
      ]
     },
     "metadata": {},
     "output_type": "display_data"
    }
   ],
   "source": [
    "shape=Xtrn_All.shape[1]+1\n",
    "we_All=LinearRegressionLSM(Xtrn_All,ytrn_All,shape)\n",
    "y_pred_lse_own_All=predict_LSM(Xtst_All,we_All)\n",
    "rmse_train_LSE_Own_All=math.sqrt(mean_squared_error(ytst_All,y_pred_lse_own_All))\n",
    "print(\"RMSE using Least Squares Estimates is\",rmse_train_LSE_Own_All)\n",
    "\n",
    "plt.scatter(ytst_All,y_pred_lse_own_All)\n",
    "plt.grid()\n",
    "plt.xlabel('Actual y')\n",
    "plt.ylabel('Predicted y')\n",
    "plt.title('Actual Value and Predicted Value using Own LSE on AllRounders Data')\n",
    "plt.show()"
   ]
  },
  {
   "cell_type": "markdown",
   "metadata": {},
   "source": [
    "### KNN Sklearn"
   ]
  },
  {
   "cell_type": "code",
   "execution_count": 84,
   "metadata": {},
   "outputs": [
    {
     "data": {
      "image/png": "[encoded data removed]",
      "text/plain": [
       "<Figure size 432x288 with 1 Axes>"
      ]
     },
     "metadata": {},
     "output_type": "display_data"
    },
    {
     "name": "stdout",
     "output_type": "stream",
     "text": [
      "+-----------+--------------------+\n",
      "| Neighbors |    Train Error     |\n",
      "+-----------+--------------------+\n",
      "|     1     |        0.0         |\n",
      "|     2     | 31.262164299143887 |\n",
      "|     3     | 37.35913873356264  |\n",
      "|     4     | 46.51170327634397  |\n",
      "|     5     | 50.40889471776451  |\n",
      "|     6     | 50.255615895264334 |\n",
      "|     7     | 50.601215333203996 |\n",
      "|     8     | 51.562388467892845 |\n",
      "|     9     | 53.025485952453344 |\n",
      "+-----------+--------------------+\n",
      "+-----------+--------------------+\n",
      "| Neighbors |      CV Error      |\n",
      "+-----------+--------------------+\n",
      "|     1     | 68.16890786861705  |\n",
      "|     2     | 57.243449406897206 |\n",
      "|     3     | 62.37287070513911  |\n",
      "|     4     | 63.59343519578102  |\n",
      "|     5     |  65.3787809614098  |\n",
      "|     6     | 59.01156313243476  |\n",
      "|     7     | 60.623082759500996 |\n",
      "|     8     |  63.6732841101745  |\n",
      "|     9     | 64.68562389180153  |\n",
      "+-----------+--------------------+\n",
      "Best No.of Neighbors is: 2\n",
      "+-----------+-------------------+\n",
      "| Neighbors |     Test Error    |\n",
      "+-----------+-------------------+\n",
      "|     2     | 78.92068803552083 |\n",
      "+-----------+-------------------+\n"
     ]
    },
    {
     "data": {
      "image/png": "[encoded data removed]",
      "text/plain": [
       "<Figure size 432x288 with 1 Axes>"
      ]
     },
     "metadata": {},
     "output_type": "display_data"
    }
   ],
   "source": [
    "rmse_test_KNN_All=[]\n",
    "KNNReg_sklearn_test_table_All=PrettyTable()\n",
    "KNNReg_sklearn_test_table_All.field_names = [\"Neighbors\",\"Test Error\"]\n",
    "neighbors=[1,2,3,4,5,6,7,8,9]\n",
    "best_neighbors_cv_KNN_sklearn_All=sklearnKNNRegressor(Xtrn_All_KNN,ytrn_All_KNN,Xcv_All_KNN,ycv_All_KNN,neighbors)\n",
    "\n",
    "knn_reg_test_All = KNeighborsRegressor(n_neighbors=best_neighbors_cv_KNN_sklearn_All)\n",
    "knn_reg_test_All.fit(Xtrn_All_KNN, ytrn_All_KNN)\n",
    "y_pred_tst_knn_sklearn_All = knn_reg_test_All.predict(Xtst_All_KNN)\n",
    "rmse_test_KNN_All.append(math.sqrt(mean_squared_error(ytst_All_KNN,y_pred_tst_knn_sklearn_All)))\n",
    "KNNReg_sklearn_test_table_All.add_row([best_neighbors_cv_KNN_sklearn_All,math.sqrt(mean_squared_error(ytst_All_KNN,y_pred_tst_knn_sklearn_All))])\n",
    "print(KNNReg_sklearn_test_table_All)\n",
    "\n",
    "plt.scatter(ytst_All_KNN,y_pred_tst_knn_sklearn_All)\n",
    "plt.grid()\n",
    "plt.xlabel('Actual y')\n",
    "plt.ylabel('Predicted y')\n",
    "plt.title('Actual Value and Predicted Value using sklearn KNN on AllRounders Data')\n",
    "plt.show()"
   ]
  },
  {
   "cell_type": "markdown",
   "metadata": {},
   "source": [
    "### KNN Own"
   ]
  },
  {
   "cell_type": "code",
   "execution_count": 85,
   "metadata": {},
   "outputs": [
    {
     "data": {
      "image/png": "[encoded data removed]",
      "text/plain": [
       "<Figure size 432x288 with 1 Axes>"
      ]
     },
     "metadata": {},
     "output_type": "display_data"
    },
    {
     "name": "stdout",
     "output_type": "stream",
     "text": [
      "+-----------+--------------------+\n",
      "| Neighbors |    Train Error     |\n",
      "+-----------+--------------------+\n",
      "|     1     |        0.0         |\n",
      "|     2     | 31.262164299143887 |\n",
      "|     3     | 37.35913873356264  |\n",
      "|     4     | 46.51170327634397  |\n",
      "|     5     | 50.40889471776451  |\n",
      "|     6     | 50.255615895264334 |\n",
      "|     7     | 50.601215333203996 |\n",
      "|     8     | 51.562388467892845 |\n",
      "|     9     | 53.025485952453344 |\n",
      "+-----------+--------------------+\n",
      "+-----------+--------------------+\n",
      "| Neighbors |      CV Error      |\n",
      "+-----------+--------------------+\n",
      "|     1     | 68.16890786861705  |\n",
      "|     2     | 57.243449406897206 |\n",
      "|     3     | 62.37287070513911  |\n",
      "|     4     | 63.59343519578102  |\n",
      "|     5     |  65.3787809614098  |\n",
      "|     6     | 59.01156313243476  |\n",
      "|     7     | 60.623082759500996 |\n",
      "|     8     |  63.6732841101745  |\n",
      "|     9     | 64.68562389180153  |\n",
      "+-----------+--------------------+\n",
      "Best No.of Neighbors is: 2\n",
      "+-----------+-------------------+\n",
      "| Neighbors |     Test Error    |\n",
      "+-----------+-------------------+\n",
      "|     2     | 78.92068803552083 |\n",
      "+-----------+-------------------+\n"
     ]
    },
    {
     "data": {
      "image/png": "[encoded data removed]",
      "text/plain": [
       "<Figure size 432x288 with 1 Axes>"
      ]
     },
     "metadata": {},
     "output_type": "display_data"
    }
   ],
   "source": [
    "neighbors=[1,2,3,4,5,6,7,8,9]\n",
    "best_neighbors_cv_KNN_own_All=KNNRegressorOwnTraining(Xtrn_All_KNN,ytrn_All_KNN,Xcv_All_KNN,ycv_All_KNN,neighbors)\n",
    "\n",
    "y_pred_knn_own_All=KNNRegressionOwn(Xtrn_All_KNN,ytrn_All_KNN,best_neighbors_cv_KNN_own_All,Xtst_All_KNN)\n",
    "KNNReg_own_test_table_All=PrettyTable()\n",
    "KNNReg_own_test_table_All.field_names = [\"Neighbors\",\"Test Error\"]\n",
    "KNNReg_own_test_table_All.add_row([best_neighbors_cv_KNN_own_All,math.sqrt(mean_squared_error(ytst_All_KNN,y_pred_knn_own_All))])\n",
    "\n",
    "print(KNNReg_own_test_table_All)\n",
    "\n",
    "plt.scatter(ytst_All_KNN,y_pred_knn_own_All)\n",
    "plt.grid()\n",
    "plt.xlabel('Actual y')\n",
    "plt.ylabel('Predicted y')\n",
    "plt.title('Actual Value and Predicted Value using Own KNN on AllRounders Data')\n",
    "plt.show()"
   ]
  },
  {
   "cell_type": "markdown",
   "metadata": {},
   "source": [
    "### Weighted KNN Own"
   ]
  },
  {
   "cell_type": "code",
   "execution_count": 86,
   "metadata": {},
   "outputs": [
    {
     "data": {
      "image/png": "[encoded data removed]",
      "text/plain": [
       "<Figure size 432x288 with 1 Axes>"
      ]
     },
     "metadata": {},
     "output_type": "display_data"
    },
    {
     "name": "stdout",
     "output_type": "stream",
     "text": [
      "+-----------+------------------------+\n",
      "| Neighbors |      Train Error       |\n",
      "+-----------+------------------------+\n",
      "|     1     |          0.0           |\n",
      "|     2     | 1.0814765319822562e-05 |\n",
      "|     3     | 1.314270285744526e-05  |\n",
      "|     4     |  1.64165170546383e-05  |\n",
      "|     5     | 1.8566148389759893e-05 |\n",
      "|     6     | 2.0718246172761497e-05 |\n",
      "|     7     |  2.20950752453253e-05  |\n",
      "|     8     | 2.313233771725277e-05  |\n",
      "|     9     | 2.4677276866382032e-05 |\n",
      "+-----------+------------------------+\n",
      "+-----------+--------------------+\n",
      "| Neighbors |      CV Error      |\n",
      "+-----------+--------------------+\n",
      "|     1     | 68.16890786861705  |\n",
      "|     2     | 58.191542985976824 |\n",
      "|     3     | 61.89606050390543  |\n",
      "|     4     | 61.753811146584354 |\n",
      "|     5     | 62.09120738738993  |\n",
      "|     6     | 58.24650626274695  |\n",
      "|     7     | 58.737817258744506 |\n",
      "|     8     | 58.54825783806649  |\n",
      "|     9     | 58.75912010547479  |\n",
      "+-----------+--------------------+\n",
      "Best No.of Neighbors is: 2\n",
      "+-----------+-------------------+\n",
      "| Neighbors |     Test Error    |\n",
      "+-----------+-------------------+\n",
      "|     2     | 76.29145958409131 |\n",
      "+-----------+-------------------+\n"
     ]
    },
    {
     "data": {
      "image/png": "[encoded data removed]",
      "text/plain": [
       "<Figure size 432x288 with 1 Axes>"
      ]
     },
     "metadata": {},
     "output_type": "display_data"
    }
   ],
   "source": [
    "neighbors=[1,2,3,4,5,6,7,8,9]\n",
    "KNNReg_own_weighted_test_table_All=PrettyTable()\n",
    "best_neighbors_cv_KNN_Weighted_own_All=KNNRegressionOwnWeightedTraining(Xtrn_All_KNN,ytrn_All_KNN,Xcv_All_KNN,ycv_All_KNN,neighbors)\n",
    "\n",
    "y_pred_knn_own_weighted_All=KNNRegressionOwnWeighted(Xtrn_All_KNN,ytrn_All_KNN,best_neighbors_cv_KNN_Weighted_own_All,Xtst_All_KNN)\n",
    "\n",
    "KNNReg_own_weighted_test_table_All.field_names = [\"Neighbors\",\"Test Error\"]\n",
    "KNNReg_own_weighted_test_table_All.add_row([best_neighbors_cv_KNN_own_All,math.sqrt(mean_squared_error(ytst_All_KNN,y_pred_knn_own_weighted_All))])\n",
    "print(KNNReg_own_weighted_test_table_All)\n",
    "\n",
    "plt.scatter(ytst_All_KNN,y_pred_knn_own_weighted_All)\n",
    "plt.grid()\n",
    "plt.xlabel('Actual y')\n",
    "plt.ylabel('Predicted y')\n",
    "plt.title('Actual Value and Predicted Value using Weighted KNN on AllRounders Data')\n",
    "plt.show()"
   ]
  },
  {
   "cell_type": "markdown",
   "metadata": {},
   "source": [
    "### Algorithm for predicting IPL Winner"
   ]
  },
  {
   "cell_type": "code",
   "execution_count": 87,
   "metadata": {},
   "outputs": [],
   "source": [
    "from array import array\n",
    "\n",
    "def logScale(x,Stdscaler):\n",
    "    x_log=np.log(x)\n",
    "    x_log_std=Stdscaler.transform(x_log)\n",
    "    return x_log_std\n",
    "\n",
    "\n",
    "def getOutput(player,cate,model):\n",
    "    print(player)\n",
    "    if cate == 'allrounder':\n",
    "        allRound_stats=player[0:4]+player[6:14]\n",
    "        allRound_stats_Arr=np.asarray(allRound_stats,dtype=float)\n",
    "        allRound_stats_Arr=logScale(allRound_stats_Arr.reshape(1,-1),Stdscaler_All)\n",
    "        #print(\"Stats is\",allRound_stats_Arr)\n",
    "        #print(\"Predicted value is\",sgd_reg_test_All.predict(allRound_stats_Arr.reshape(1,-1)))\n",
    "        return model.predict(allRound_stats_Arr)\n",
    "    elif cate == 'bowler':\n",
    "        bowler_stats=player[0:5]\n",
    "        bowler_stats_Arr=np.asarray(bowler_stats,dtype=float)\n",
    "        bowler_stats_Arr=logScale(bowler_stats_Arr.reshape(1,-1),Stdscaler_Bowl)\n",
    "        return model.predict(bowler_stats_Arr)\n",
    "    else:\n",
    "        batsmen_stats=player[0:4]+player[6:9]\n",
    "        batsmen_stats_Arr=np.asarray(batsmen_stats,dtype=float)\n",
    "        batsmen_stats_Arr=logScale(batsmen_stats_Arr.reshape(1,-1),Stdscaler_Bat)\n",
    "        return model.predict(batsmen_stats_Arr)\n",
    "\n",
    "def appendOutput(output,team,cate,country,final):\n",
    "    if team in final:\n",
    "        pass\n",
    "    else:\n",
    "        final[team] = list()\n",
    "    final[team].append(list([output, cate, country]))\n",
    "    \n",
    "def getBest11(tup):\n",
    "    sorted(tup, key=lambda x: x[0],reverse=True)\n",
    "    reqBat = 4\n",
    "    reqWk = 1\n",
    "    reqAll = 2\n",
    "    reqBow = 4\n",
    "    MaxFor = 4\n",
    "    currFor = 0\n",
    "    curr = 0\n",
    "    maxPlayers = 11\n",
    "\n",
    "    team = list()\n",
    "    for item in tup:\n",
    "        if curr == maxPlayers:\n",
    "            break\n",
    "        if item[2] == 'F' and currFor == MaxFor:\n",
    "            continue\n",
    "        if item[1] == 'batsmen':\n",
    "            if reqBat == 0:\n",
    "                continue\n",
    "            reqBat = reqBat - 1 \n",
    "            curr = curr + 1              \n",
    "            team.append(item)\n",
    "        elif item[1] == 'bowler':\n",
    "            if reqBow == 0:\n",
    "                continue\n",
    "            reqBow = reqBow - 1\n",
    "            curr = curr + 1\n",
    "            team.append(item)\n",
    "        elif item[1] == 'wicketkeeper':\n",
    "            if reqWk == 0:\n",
    "                if reqBat == 0:\n",
    "                    continue\n",
    "                else:\n",
    "                    reqBat = reqBat - 1\n",
    "            else:\n",
    "                reqWk = reqWk - 1\n",
    "            team.append(item)\n",
    "            curr = curr + 1\n",
    "        else:\n",
    "            if reqAll == 0:\n",
    "                continue\n",
    "            else:\n",
    "                reqAll = reqAll - 1\n",
    "            team.append(item)\n",
    "            curr = curr + 1\n",
    "        if item[2] == 'F':\n",
    "            currFor = currFor + 1\n",
    "    return team\n",
    "\n"
   ]
  },
  {
   "cell_type": "code",
   "execution_count": 88,
   "metadata": {},
   "outputs": [
    {
     "name": "stdout",
     "output_type": "stream",
     "text": [
      "{'CSK': 5122.69296309085, 'DC': 5196.524130437427, 'KX1P': 4589.4830688264665, 'KKR': 2848.8926646115524, 'MI': 4999.64530097251, 'RR': 4726.176962185898, 'RCB': 5170.61669544239, 'SRH': 5187.9250688788925}\n"
     ]
    }
   ],
   "source": [
    "from csv import reader\n",
    "with open('ipl_Updated.csv', 'r') as read_obj:\n",
    "    csv_reader = reader(read_obj)\n",
    "    rows = list(csv_reader)\n",
    "data = {}\n",
    "for row in rows:\n",
    "    if row[0] in data:\n",
    "        pass\n",
    "    else:\n",
    "        data[row[0]] = {}\n",
    "    if row[2] in data[row[0]]:\n",
    "        pass\n",
    "    else:\n",
    "        data[row[0]][row[2]] = dict()\n",
    "    if row[20] in data[row[0]][row[2]]:\n",
    "        pass\n",
    "    else:\n",
    "        data[row[0]][row[2]][row[20]] = list()\n",
    "    data[row[0]][row[2]][row[20]].append(row)\n",
    "\n",
    "final = {}\n",
    "\n",
    "for team in data:\n",
    "    for cate in data[team]:\n",
    "        for country in data[team][cate]:\n",
    "            for player in data[team][cate][country]:\n",
    "                if cate == 'allrounder':\n",
    "                    player = player[4:]\n",
    "                    allRound_stats=player[0:4]+player[6:14]\n",
    "                    allRound_stats_Arr=np.asarray(allRound_stats,dtype=float)\n",
    "                    allRound_stats_Arr=logScale(allRound_stats_Arr.reshape(1,-1),Stdscaler_All)\n",
    "                    output = predictSGDOwn(allRound_stats_Arr,w_All,b_All)\n",
    "                    appendOutput(output[0], team, cate, country, final)\n",
    "                elif cate == 'bowler':\n",
    "                    player = player[4:]\n",
    "                    bowler_stats=player[0:5]\n",
    "                    bowler_stats_Arr=np.asarray(bowler_stats,dtype=float)\n",
    "                    bowler_stats_Arr=logScale(bowler_stats_Arr.reshape(1,-1),Stdscaler_Bowl)\n",
    "                    output = predictSGDOwn(bowler_stats_Arr,w_Bowl,b_Bowl)\n",
    "                    appendOutput(output[0], team, cate, country, final)\n",
    "                else:\n",
    "                    player = player[4:]\n",
    "                    batsmen_stats=player[0:4]+player[6:9]\n",
    "                    batsmen_stats_Arr=np.asarray(batsmen_stats,dtype=float)\n",
    "                    batsmen_stats_Arr=logScale(batsmen_stats_Arr.reshape(1,-1),Stdscaler_Bat)\n",
    "                    output = predictSGDOwn(batsmen_stats_Arr,w_Bat,b_Bat)\n",
    "                    appendOutput(output[0], team, cate, country, final)\n",
    "                            \n",
    "\n",
    "totalRating = dict()\n",
    "for team in final:\n",
    "    bTeam = getBest11(final[team])\n",
    "    totalSum = 0\n",
    "    for tup in bTeam:\n",
    "        totalSum = totalSum + tup[0]\n",
    "    totalRating[team] = totalSum \n",
    "\n",
    "print(totalRating)\n",
    "\n",
    "\n",
    "#11\n",
    "#5B,1WK,1AL,4B\n",
    "#4F\n",
    "#7\n",
    "\n",
    "\n",
    "\n"
   ]
  },
  {
   "cell_type": "code",
   "execution_count": 89,
   "metadata": {},
   "outputs": [
    {
     "name": "stdout",
     "output_type": "stream",
     "text": [
      "MI  vs  KX1P   ||    venue at MI\n",
      "Winner is MI\n",
      "\n",
      "CSK  vs  SRH   ||    venue at CSK\n",
      "Winner is CSK\n",
      "\n",
      "RR  vs  KKR   ||    venue at RR\n",
      "Winner is RR\n",
      "\n",
      "MI  vs  CSK   ||    venue at MI\n",
      "Winner is MI\n",
      "\n",
      "RCB  vs  SRH   ||    venue at RCB\n",
      "Winner is RCB\n",
      "\n",
      "KX1P  vs  RR   ||    venue at KX1P\n",
      "Winner is KX1P\n",
      "\n",
      "DC  vs  RR   ||    venue at DC\n",
      "Winner is DC\n",
      "\n",
      "CSK  vs  RR   ||    venue at CSK\n",
      "Winner is CSK\n",
      "\n",
      "SRH  vs  KX1P   ||    venue at SRH\n",
      "Winner is SRH\n",
      "\n",
      "KKR  vs  DC   ||    venue at KKR\n",
      "Winner is DC\n",
      "\n",
      "DC  vs  SRH   ||    venue at DC\n",
      "Winner is DC\n",
      "\n",
      "CSK  vs  MI   ||    venue at CSK\n",
      "Winner is CSK\n",
      "\n",
      "CSK  vs  DC   ||    venue at CSK\n",
      "Winner is CSK\n",
      "\n",
      "MI  vs  SRH   ||    venue at MI\n",
      "Winner is MI\n",
      "\n",
      "KX1P  vs  MI   ||    venue at KX1P\n",
      "Winner is KX1P\n",
      "\n",
      "KX1P  vs  DC   ||    venue at KX1P\n",
      "Winner is DC\n",
      "\n",
      "CSK  vs  KKR   ||    venue at CSK\n",
      "Winner is CSK\n",
      "\n",
      "MI  vs  RR   ||    venue at MI\n",
      "Winner is MI\n",
      "\n",
      "DC  vs  RCB   ||    venue at DC\n",
      "Winner is DC\n",
      "\n",
      "KKR  vs  SRH   ||    venue at KKR\n",
      "Winner is SRH\n",
      "\n",
      "RR  vs  RCB   ||    venue at RR\n",
      "Winner is RR\n",
      "\n",
      "SRH  vs  RCB   ||    venue at SRH\n",
      "Winner is SRH\n",
      "\n",
      "SRH  vs  MI   ||    venue at SRH\n",
      "Winner is SRH\n",
      "\n",
      "DC  vs  MI   ||    venue at DC\n",
      "Winner is DC\n",
      "\n",
      "MI  vs  RCB   ||    venue at MI\n",
      "Winner is MI\n",
      "\n",
      "KX1P  vs  SRH   ||    venue at KX1P\n",
      "Winner is SRH\n",
      "\n",
      "RR  vs  MI   ||    venue at RR\n",
      "Winner is RR\n",
      "\n",
      "RR  vs  SRH   ||    venue at RR\n",
      "Winner is RR\n",
      "\n",
      "KX1P  vs  KKR   ||    venue at KX1P\n",
      "Winner is KX1P\n",
      "\n",
      "RCB  vs  MI   ||    venue at RCB\n",
      "Winner is RCB\n",
      "\n",
      "CSK  vs  KX1P   ||    venue at CSK\n",
      "Winner is CSK\n",
      "\n",
      "CSK  vs  RCB   ||    venue at CSK\n",
      "Winner is CSK\n",
      "\n",
      "RCB  vs  DC   ||    venue at RCB\n",
      "Winner is RCB\n",
      "\n",
      "SRH  vs  RR   ||    venue at SRH\n",
      "Winner is SRH\n",
      "\n",
      "SRH  vs  CSK   ||    venue at SRH\n",
      "Winner is SRH\n",
      "\n",
      "DC  vs  KX1P   ||    venue at DC\n",
      "Winner is DC\n",
      "\n",
      "SRH  vs  DC   ||    venue at SRH\n",
      "Winner is SRH\n",
      "\n",
      "RR  vs  CSK   ||    venue at RR\n",
      "Winner is RR\n",
      "\n",
      "KX1P  vs  RCB   ||    venue at KX1P\n",
      "Winner is RCB\n",
      "\n",
      "RCB  vs  KX1P   ||    venue at RCB\n",
      "Winner is RCB\n",
      "\n",
      "KKR  vs  RCB   ||    venue at KKR\n",
      "Winner is RCB\n",
      "\n",
      "KX1P  vs  CSK   ||    venue at KX1P\n",
      "Winner is CSK\n",
      "\n",
      "KKR  vs  MI   ||    venue at KKR\n",
      "Winner is MI\n",
      "\n",
      "KKR  vs  KX1P   ||    venue at KKR\n",
      "Winner is KX1P\n",
      "\n",
      "MI  vs  KKR   ||    venue at MI\n",
      "Winner is MI\n",
      "\n",
      "RR  vs  DC   ||    venue at RR\n",
      "Winner is RR\n",
      "\n",
      "KKR  vs  CSK   ||    venue at KKR\n",
      "Winner is CSK\n",
      "\n",
      "RCB  vs  CSK   ||    venue at RCB\n",
      "Winner is RCB\n",
      "\n",
      "RCB  vs  KKR   ||    venue at RCB\n",
      "Winner is RCB\n",
      "\n",
      "KKR  vs  RR   ||    venue at KKR\n",
      "Winner is RR\n",
      "\n",
      "SRH  vs  KKR   ||    venue at SRH\n",
      "Winner is SRH\n",
      "\n",
      "RCB  vs  RR   ||    venue at RCB\n",
      "Winner is RCB\n",
      "\n",
      "DC  vs  KKR   ||    venue at DC\n",
      "Winner is DC\n",
      "\n",
      "RR  vs  KX1P   ||    venue at RR\n",
      "Winner is RR\n",
      "\n",
      "MI  vs  DC   ||    venue at MI\n",
      "Winner is MI\n",
      "\n",
      "DC  vs  CSK   ||    venue at DC\n",
      "Winner is DC\n",
      "\n",
      "Qualifier1:\n",
      "DC  vs  CSK\n",
      "Winner is DC\n",
      "\n",
      "Eliminator:\n",
      "RCB  vs  SRH\n",
      "Winner is SRH\n",
      "\n",
      "Qualifier2:\n",
      "CSK  vs  SRH\n",
      "Winner is SRH\n",
      "\n",
      "******FINAL******\n",
      "DC  vs  SRH\n",
      "Winner is DC\n",
      "\n",
      "DC\n"
     ]
    }
   ],
   "source": [
    "homeFactor = 1.05\n",
    "homeDefactor = 0.95\n",
    "\n",
    "home = dict({ \n",
    "    \"CSK\":\"Chennai\",\n",
    "    \"RR\":\"Rajastan\",\n",
    "    \"DC\":\"Delhi\",\n",
    "    \"SRH\":\"Hyderabad\",\n",
    "    \"MI\":\"Mumbai\",\n",
    "    \"KKR\":\"Kolkata\",\n",
    "    \"RCB\":\"Bengaluru\",\n",
    "    \"KX1P\":\"Punjab\",\n",
    "})\n",
    "\n",
    "def pwinner(team1, team2, considerHF):\n",
    "    if considerHF:\n",
    "        if homeFactor*totalRating[team1] >= homeDefactor*totalRating[team2]:\n",
    "            return team1\n",
    "        else:\n",
    "            return team2\n",
    "    if totalRating[team1] >= totalRating[team2]:\n",
    "        return team1\n",
    "    else:\n",
    "        return team2\n",
    "\n",
    "import random\n",
    "list_of_teams = list({\"CSK\", \"MI\", \"RR\", \"KKR\", \"DC\", \"RCB\", \"SRH\", \"KX1P\"})\n",
    "matches = set()\n",
    "totalLeagueMatches = 56\n",
    "i=1\n",
    "\n",
    "pointsTable = {}\n",
    "for t in list_of_teams:\n",
    "    pointsTable[t] = 0\n",
    "while i <= totalLeagueMatches:\n",
    "    curr = random.sample(list_of_teams, 2)\n",
    "    if curr[0]+curr[1] in matches:\n",
    "        continue\n",
    "    matches.add(curr[0]+curr[1])\n",
    "    venue = curr[0]\n",
    "    winner = pwinner(curr[0], curr[1], True)\n",
    "    pointsTable[winner] = pointsTable[winner] + 2\n",
    "    print(curr[0]+\"  vs  \" +curr[1] + \"   ||    venue at \" + venue)\n",
    "    print(\"Winner is \"+ winner +\"\\n\")\n",
    "    i=i+1\n",
    "import operator\n",
    "pointsTable = sorted(pointsTable.items(), key=operator.itemgetter(1), reverse=True)\n",
    "\n",
    "print(\"Qualifier1:\")\n",
    "print(pointsTable[0][0]+\"  vs  \" +pointsTable[1][0])\n",
    "qual1=pwinner(pointsTable[0][0],pointsTable[1][0],False)\n",
    "qual1L=pointsTable[1][0] if(qual1==pointsTable[0][0]) else pointsTable[0][0]\n",
    "print(\"Winner is \" + qual1+\"\\n\")\n",
    "\n",
    "print(\"Eliminator:\")\n",
    "print(pointsTable[2][0] + \"  vs  \"+pointsTable[3][0])\n",
    "elemW = pwinner(pointsTable[2][0],pointsTable[3][0],False)\n",
    "print(\"Winner is \" + elemW+\"\\n\")\n",
    "\n",
    "\n",
    "print(\"Qualifier2:\")\n",
    "print(qual1L+\"  vs  \" +elemW)\n",
    "qual2=pwinner(qual1L,elemW,False)\n",
    "print(\"Winner is \" + qual2+\"\\n\")\n",
    "\n",
    "print(\"******FINAL******\")\n",
    "print(qual1+\"  vs  \" +qual2)\n",
    "finalWinner = pwinner(qual1, qual2, False)\n",
    "print(\"Winner is \" + finalWinner+\"\\n\")\n",
    "\n",
    "print(finalWinner)"
   ]
  },
  {
   "cell_type": "code",
   "execution_count": 90,
   "metadata": {},
   "outputs": [
    {
     "name": "stdout",
     "output_type": "stream",
     "text": [
      "{'CSK': 5152.75, 'DC': 5039.053571428572, 'KX1P': 4329.660714285714, 'KKR': 4141.142857142857, 'MI': 5057.625, 'RR': 4682.857142857142, 'RCB': 4799.517857142857, 'SRH': 4685.571428571428}\n"
     ]
    }
   ],
   "source": [
    "final = {}\n",
    "\n",
    "for team in data:\n",
    "    for cate in data[team]:\n",
    "        for country in data[team][cate]:\n",
    "            for player in data[team][cate][country]:\n",
    "                if cate == 'allrounder':\n",
    "                    player = player[4:]\n",
    "                    allRound_stats=player[0:4]+player[6:14]\n",
    "                    allRound_stats_Arr=np.asarray(allRound_stats,dtype=float)\n",
    "                    allRound_stats_Arr=logScale(allRound_stats_Arr.reshape(1,-1),Stdscaler_All)\n",
    "                    output = KNNRegressionOwn(Xtrn_All,ytrn_All,best_neighbors_cv_KNN_own_All,allRound_stats_Arr)\n",
    "                    appendOutput(output[0], team, cate, country, final)\n",
    "                elif cate == 'bowler':\n",
    "                    player = player[4:]\n",
    "                    bowler_stats=player[0:5]\n",
    "                    bowler_stats_Arr=np.asarray(bowler_stats,dtype=float)\n",
    "                    bowler_stats_Arr=logScale(bowler_stats_Arr.reshape(1,-1),Stdscaler_Bowl)\n",
    "                    output = KNNRegressionOwn(Xtrn_Bowl,ytrn_Bowl,best_neighbors_cv_KNN_own_Bowl,bowler_stats_Arr)\n",
    "                    appendOutput(output[0], team, cate, country, final)\n",
    "                else:\n",
    "                    player = player[4:]\n",
    "                    batsmen_stats=player[0:4]+player[6:9]\n",
    "                    batsmen_stats_Arr=np.asarray(batsmen_stats,dtype=float)\n",
    "                    batsmen_stats_Arr=logScale(batsmen_stats_Arr.reshape(1,-1),Stdscaler_Bat)\n",
    "                    output = KNNRegressionOwn(Xtrn_Bat,ytrn_Bat,best_neighbors_cv_KNN_own_Bat,batsmen_stats_Arr)\n",
    "                    appendOutput(output[0], team, cate, country, final)\n",
    "                            \n",
    "\n",
    "totalRating = dict()\n",
    "for team in final:\n",
    "    bTeam = getBest11(final[team])\n",
    "    totalSum = 0\n",
    "    for tup in bTeam:\n",
    "        totalSum = totalSum + tup[0]\n",
    "    totalRating[team] = totalSum \n",
    "\n",
    "print(totalRating)\n"
   ]
  },
  {
   "cell_type": "code",
   "execution_count": 91,
   "metadata": {},
   "outputs": [
    {
     "name": "stdout",
     "output_type": "stream",
     "text": [
      "RCB  vs  MI   ||    venue at RCB\n",
      "Winner is RCB\n",
      "\n",
      "DC  vs  KX1P   ||    venue at DC\n",
      "Winner is DC\n",
      "\n",
      "RCB  vs  KKR   ||    venue at RCB\n",
      "Winner is RCB\n",
      "\n",
      "CSK  vs  DC   ||    venue at CSK\n",
      "Winner is CSK\n",
      "\n",
      "DC  vs  RCB   ||    venue at DC\n",
      "Winner is DC\n",
      "\n",
      "RCB  vs  RR   ||    venue at RCB\n",
      "Winner is RCB\n",
      "\n",
      "RR  vs  KX1P   ||    venue at RR\n",
      "Winner is RR\n",
      "\n",
      "DC  vs  KKR   ||    venue at DC\n",
      "Winner is DC\n",
      "\n",
      "DC  vs  RR   ||    venue at DC\n",
      "Winner is DC\n",
      "\n",
      "RCB  vs  DC   ||    venue at RCB\n",
      "Winner is RCB\n",
      "\n",
      "SRH  vs  KX1P   ||    venue at SRH\n",
      "Winner is SRH\n",
      "\n",
      "CSK  vs  SRH   ||    venue at CSK\n",
      "Winner is CSK\n",
      "\n",
      "KKR  vs  DC   ||    venue at KKR\n",
      "Winner is DC\n",
      "\n",
      "SRH  vs  CSK   ||    venue at SRH\n",
      "Winner is SRH\n",
      "\n",
      "RR  vs  MI   ||    venue at RR\n",
      "Winner is RR\n",
      "\n",
      "MI  vs  RCB   ||    venue at MI\n",
      "Winner is MI\n",
      "\n",
      "RR  vs  RCB   ||    venue at RR\n",
      "Winner is RR\n",
      "\n",
      "RR  vs  SRH   ||    venue at RR\n",
      "Winner is RR\n",
      "\n",
      "CSK  vs  KKR   ||    venue at CSK\n",
      "Winner is CSK\n",
      "\n",
      "RR  vs  DC   ||    venue at RR\n",
      "Winner is RR\n",
      "\n",
      "RCB  vs  CSK   ||    venue at RCB\n",
      "Winner is RCB\n",
      "\n",
      "MI  vs  CSK   ||    venue at MI\n",
      "Winner is MI\n",
      "\n",
      "KKR  vs  MI   ||    venue at KKR\n",
      "Winner is MI\n",
      "\n",
      "SRH  vs  MI   ||    venue at SRH\n",
      "Winner is SRH\n",
      "\n",
      "SRH  vs  RCB   ||    venue at SRH\n",
      "Winner is SRH\n",
      "\n",
      "RR  vs  KKR   ||    venue at RR\n",
      "Winner is RR\n",
      "\n",
      "RCB  vs  KX1P   ||    venue at RCB\n",
      "Winner is RCB\n",
      "\n",
      "SRH  vs  KKR   ||    venue at SRH\n",
      "Winner is SRH\n",
      "\n",
      "DC  vs  CSK   ||    venue at DC\n",
      "Winner is DC\n",
      "\n",
      "CSK  vs  KX1P   ||    venue at CSK\n",
      "Winner is CSK\n",
      "\n",
      "DC  vs  MI   ||    venue at DC\n",
      "Winner is DC\n",
      "\n",
      "DC  vs  SRH   ||    venue at DC\n",
      "Winner is DC\n",
      "\n",
      "CSK  vs  RCB   ||    venue at CSK\n",
      "Winner is CSK\n",
      "\n",
      "KX1P  vs  KKR   ||    venue at KX1P\n",
      "Winner is KX1P\n",
      "\n",
      "KKR  vs  CSK   ||    venue at KKR\n",
      "Winner is CSK\n",
      "\n",
      "KX1P  vs  MI   ||    venue at KX1P\n",
      "Winner is MI\n",
      "\n",
      "KX1P  vs  RCB   ||    venue at KX1P\n",
      "Winner is RCB\n",
      "\n",
      "RR  vs  CSK   ||    venue at RR\n",
      "Winner is RR\n",
      "\n",
      "MI  vs  RR   ||    venue at MI\n",
      "Winner is MI\n",
      "\n",
      "KX1P  vs  SRH   ||    venue at KX1P\n",
      "Winner is KX1P\n",
      "\n",
      "KKR  vs  KX1P   ||    venue at KKR\n",
      "Winner is KKR\n",
      "\n",
      "MI  vs  DC   ||    venue at MI\n",
      "Winner is MI\n",
      "\n",
      "KKR  vs  SRH   ||    venue at KKR\n",
      "Winner is SRH\n",
      "\n",
      "SRH  vs  DC   ||    venue at SRH\n",
      "Winner is SRH\n",
      "\n",
      "KX1P  vs  RR   ||    venue at KX1P\n",
      "Winner is KX1P\n",
      "\n",
      "CSK  vs  MI   ||    venue at CSK\n",
      "Winner is CSK\n",
      "\n",
      "MI  vs  SRH   ||    venue at MI\n",
      "Winner is MI\n",
      "\n",
      "KX1P  vs  DC   ||    venue at KX1P\n",
      "Winner is DC\n",
      "\n",
      "KKR  vs  RCB   ||    venue at KKR\n",
      "Winner is RCB\n",
      "\n",
      "MI  vs  KKR   ||    venue at MI\n",
      "Winner is MI\n",
      "\n",
      "KKR  vs  RR   ||    venue at KKR\n",
      "Winner is RR\n",
      "\n",
      "RCB  vs  SRH   ||    venue at RCB\n",
      "Winner is RCB\n",
      "\n",
      "CSK  vs  RR   ||    venue at CSK\n",
      "Winner is CSK\n",
      "\n",
      "SRH  vs  RR   ||    venue at SRH\n",
      "Winner is SRH\n",
      "\n",
      "KX1P  vs  CSK   ||    venue at KX1P\n",
      "Winner is CSK\n",
      "\n",
      "MI  vs  KX1P   ||    venue at MI\n",
      "Winner is MI\n",
      "\n",
      "Qualifier1:\n",
      "MI  vs  DC\n",
      "Winner is MI\n",
      "\n",
      "Eliminator:\n",
      "CSK  vs  RCB\n",
      "Winner is CSK\n",
      "\n",
      "Qualifier2:\n",
      "DC  vs  CSK\n",
      "Winner is CSK\n",
      "\n",
      "******FINAL******\n",
      "MI  vs  CSK\n",
      "Winner is CSK\n",
      "\n",
      "CSK\n"
     ]
    }
   ],
   "source": [
    "pointsTable = {}\n",
    "for t in list_of_teams:\n",
    "    pointsTable[t] = 0\n",
    "i=1\n",
    "matches = set()\n",
    "\n",
    "while i <= totalLeagueMatches:\n",
    "    curr = random.sample(list_of_teams, 2)\n",
    "    if curr[0]+curr[1] in matches:\n",
    "        continue\n",
    "    matches.add(curr[0]+curr[1])\n",
    "    venue = curr[0]\n",
    "    winner = pwinner(curr[0], curr[1], True)\n",
    "    pointsTable[winner] = pointsTable[winner] + 2\n",
    "    print(curr[0]+\"  vs  \" +curr[1] + \"   ||    venue at \" + venue)\n",
    "    print(\"Winner is \"+ winner +\"\\n\")\n",
    "    i=i+1\n",
    "import operator\n",
    "pointsTable = sorted(pointsTable.items(), key=operator.itemgetter(1), reverse=True)\n",
    "\n",
    "print(\"Qualifier1:\")\n",
    "print(pointsTable[0][0]+\"  vs  \" +pointsTable[1][0])\n",
    "qual1=pwinner(pointsTable[0][0],pointsTable[1][0],False)\n",
    "qual1L=pointsTable[1][0] if(qual1==pointsTable[0][0]) else pointsTable[0][0]\n",
    "print(\"Winner is \" + qual1+\"\\n\")\n",
    "\n",
    "print(\"Eliminator:\")\n",
    "print(pointsTable[2][0] + \"  vs  \"+pointsTable[3][0])\n",
    "elemW = pwinner(pointsTable[2][0],pointsTable[3][0],False)\n",
    "print(\"Winner is \" + elemW+\"\\n\")\n",
    "\n",
    "\n",
    "print(\"Qualifier2:\")\n",
    "print(qual1L+\"  vs  \" +elemW)\n",
    "qual2=pwinner(qual1L,elemW,False)\n",
    "print(\"Winner is \" + qual2+\"\\n\")\n",
    "\n",
    "print(\"******FINAL******\")\n",
    "print(qual1+\"  vs  \" +qual2)\n",
    "finalWinner = pwinner(qual1, qual2, False)\n",
    "print(\"Winner is \" + finalWinner+\"\\n\")\n",
    "\n",
    "print(finalWinner)"
   ]
  },
  {
   "cell_type": "code",
   "execution_count": null,
   "metadata": {},
   "outputs": [],
   "source": []
  },
  {
   "cell_type": "code",
   "execution_count": null,
   "metadata": {},
   "outputs": [],
   "source": []
  }
 ],
 "metadata": {
  "kernelspec": {
   "display_name": "Python 3",
   "language": "python",
   "name": "python3"
  },
  "language_info": {
   "codemirror_mode": {
    "name": "ipython",
    "version": 3
   },
   "file_extension": ".py",
   "mimetype": "text/x-python",
   "name": "python",
   "nbconvert_exporter": "python",
   "pygments_lexer": "ipython3",
   "version": "3.6.5"
  }
 },
 "nbformat": 4,
 "nbformat_minor": 2
}
